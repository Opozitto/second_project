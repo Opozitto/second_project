{
 "cells": [
  {
   "cell_type": "markdown",
   "id": "a4c87b8c",
   "metadata": {
    "deletable": false,
    "editable": false,
    "id": "c81daeeb"
   },
   "source": [
    "# Исследование надежности заемщиков\n"
   ]
  },
  {
   "cell_type": "markdown",
   "id": "c3cbc36b",
   "metadata": {
    "deletable": false,
    "editable": false,
    "id": "827c20bf"
   },
   "source": [
    "Во второй части проекта вы выполните шаги 3 и 4. Их вручную проверит ревьюер.\n",
    "Чтобы вам не пришлось писать код заново для шагов 1 и 2, мы добавили авторские решения в ячейки с кодом. \n",
    "\n"
   ]
  },
  {
   "cell_type": "markdown",
   "id": "6544bf66",
   "metadata": {
    "deletable": false,
    "editable": false,
    "id": "744d7639"
   },
   "source": [
    "## Откройте таблицу и изучите общую информацию о данных"
   ]
  },
  {
   "cell_type": "markdown",
   "id": "a09d3fa0",
   "metadata": {
    "deletable": false,
    "editable": false,
    "id": "e7a14c31"
   },
   "source": [
    "**Задание 1. Импортируйте библиотеку pandas. Считайте данные из csv-файла в датафрейм и сохраните в переменную `data`. Путь к файлу:**\n",
    "\n",
    "`/datasets/data.csv`"
   ]
  },
  {
   "cell_type": "code",
   "execution_count": 1,
   "id": "fe8a9250",
   "metadata": {
    "deletable": false,
    "id": "7bcf75c9"
   },
   "outputs": [],
   "source": [
    "import pandas as pd\n",
    "\n",
    "try:\n",
    "    data = pd.read_csv('/datasets/data.csv')\n",
    "except:\n",
    "    data = pd.read_csv('https://code.s3.yandex.net/datasets/data.csv')"
   ]
  },
  {
   "cell_type": "markdown",
   "id": "f0682237",
   "metadata": {
    "deletable": false,
    "editable": false,
    "id": "b8038fe3"
   },
   "source": [
    "**Задание 2. Выведите первые 20 строчек датафрейма `data` на экран.**"
   ]
  },
  {
   "cell_type": "code",
   "execution_count": 2,
   "id": "6eee86d0",
   "metadata": {
    "deletable": false,
    "id": "2a7cab99",
    "outputId": "1a8f3ef2-d323-4ec2-ddf7-89670b5944c4"
   },
   "outputs": [
    {
     "data": {
      "text/html": [
       "<div>\n",
       "<style scoped>\n",
       "    .dataframe tbody tr th:only-of-type {\n",
       "        vertical-align: middle;\n",
       "    }\n",
       "\n",
       "    .dataframe tbody tr th {\n",
       "        vertical-align: top;\n",
       "    }\n",
       "\n",
       "    .dataframe thead th {\n",
       "        text-align: right;\n",
       "    }\n",
       "</style>\n",
       "<table border=\"1\" class=\"dataframe\">\n",
       "  <thead>\n",
       "    <tr style=\"text-align: right;\">\n",
       "      <th></th>\n",
       "      <th>children</th>\n",
       "      <th>days_employed</th>\n",
       "      <th>dob_years</th>\n",
       "      <th>education</th>\n",
       "      <th>education_id</th>\n",
       "      <th>family_status</th>\n",
       "      <th>family_status_id</th>\n",
       "      <th>gender</th>\n",
       "      <th>income_type</th>\n",
       "      <th>debt</th>\n",
       "      <th>total_income</th>\n",
       "      <th>purpose</th>\n",
       "    </tr>\n",
       "  </thead>\n",
       "  <tbody>\n",
       "    <tr>\n",
       "      <th>0</th>\n",
       "      <td>1</td>\n",
       "      <td>-8437.673028</td>\n",
       "      <td>42</td>\n",
       "      <td>высшее</td>\n",
       "      <td>0</td>\n",
       "      <td>женат / замужем</td>\n",
       "      <td>0</td>\n",
       "      <td>F</td>\n",
       "      <td>сотрудник</td>\n",
       "      <td>0</td>\n",
       "      <td>253875.639453</td>\n",
       "      <td>покупка жилья</td>\n",
       "    </tr>\n",
       "    <tr>\n",
       "      <th>1</th>\n",
       "      <td>1</td>\n",
       "      <td>-4024.803754</td>\n",
       "      <td>36</td>\n",
       "      <td>среднее</td>\n",
       "      <td>1</td>\n",
       "      <td>женат / замужем</td>\n",
       "      <td>0</td>\n",
       "      <td>F</td>\n",
       "      <td>сотрудник</td>\n",
       "      <td>0</td>\n",
       "      <td>112080.014102</td>\n",
       "      <td>приобретение автомобиля</td>\n",
       "    </tr>\n",
       "    <tr>\n",
       "      <th>2</th>\n",
       "      <td>0</td>\n",
       "      <td>-5623.422610</td>\n",
       "      <td>33</td>\n",
       "      <td>Среднее</td>\n",
       "      <td>1</td>\n",
       "      <td>женат / замужем</td>\n",
       "      <td>0</td>\n",
       "      <td>M</td>\n",
       "      <td>сотрудник</td>\n",
       "      <td>0</td>\n",
       "      <td>145885.952297</td>\n",
       "      <td>покупка жилья</td>\n",
       "    </tr>\n",
       "    <tr>\n",
       "      <th>3</th>\n",
       "      <td>3</td>\n",
       "      <td>-4124.747207</td>\n",
       "      <td>32</td>\n",
       "      <td>среднее</td>\n",
       "      <td>1</td>\n",
       "      <td>женат / замужем</td>\n",
       "      <td>0</td>\n",
       "      <td>M</td>\n",
       "      <td>сотрудник</td>\n",
       "      <td>0</td>\n",
       "      <td>267628.550329</td>\n",
       "      <td>дополнительное образование</td>\n",
       "    </tr>\n",
       "    <tr>\n",
       "      <th>4</th>\n",
       "      <td>0</td>\n",
       "      <td>340266.072047</td>\n",
       "      <td>53</td>\n",
       "      <td>среднее</td>\n",
       "      <td>1</td>\n",
       "      <td>гражданский брак</td>\n",
       "      <td>1</td>\n",
       "      <td>F</td>\n",
       "      <td>пенсионер</td>\n",
       "      <td>0</td>\n",
       "      <td>158616.077870</td>\n",
       "      <td>сыграть свадьбу</td>\n",
       "    </tr>\n",
       "    <tr>\n",
       "      <th>5</th>\n",
       "      <td>0</td>\n",
       "      <td>-926.185831</td>\n",
       "      <td>27</td>\n",
       "      <td>высшее</td>\n",
       "      <td>0</td>\n",
       "      <td>гражданский брак</td>\n",
       "      <td>1</td>\n",
       "      <td>M</td>\n",
       "      <td>компаньон</td>\n",
       "      <td>0</td>\n",
       "      <td>255763.565419</td>\n",
       "      <td>покупка жилья</td>\n",
       "    </tr>\n",
       "    <tr>\n",
       "      <th>6</th>\n",
       "      <td>0</td>\n",
       "      <td>-2879.202052</td>\n",
       "      <td>43</td>\n",
       "      <td>высшее</td>\n",
       "      <td>0</td>\n",
       "      <td>женат / замужем</td>\n",
       "      <td>0</td>\n",
       "      <td>F</td>\n",
       "      <td>компаньон</td>\n",
       "      <td>0</td>\n",
       "      <td>240525.971920</td>\n",
       "      <td>операции с жильем</td>\n",
       "    </tr>\n",
       "    <tr>\n",
       "      <th>7</th>\n",
       "      <td>0</td>\n",
       "      <td>-152.779569</td>\n",
       "      <td>50</td>\n",
       "      <td>СРЕДНЕЕ</td>\n",
       "      <td>1</td>\n",
       "      <td>женат / замужем</td>\n",
       "      <td>0</td>\n",
       "      <td>M</td>\n",
       "      <td>сотрудник</td>\n",
       "      <td>0</td>\n",
       "      <td>135823.934197</td>\n",
       "      <td>образование</td>\n",
       "    </tr>\n",
       "    <tr>\n",
       "      <th>8</th>\n",
       "      <td>2</td>\n",
       "      <td>-6929.865299</td>\n",
       "      <td>35</td>\n",
       "      <td>ВЫСШЕЕ</td>\n",
       "      <td>0</td>\n",
       "      <td>гражданский брак</td>\n",
       "      <td>1</td>\n",
       "      <td>F</td>\n",
       "      <td>сотрудник</td>\n",
       "      <td>0</td>\n",
       "      <td>95856.832424</td>\n",
       "      <td>на проведение свадьбы</td>\n",
       "    </tr>\n",
       "    <tr>\n",
       "      <th>9</th>\n",
       "      <td>0</td>\n",
       "      <td>-2188.756445</td>\n",
       "      <td>41</td>\n",
       "      <td>среднее</td>\n",
       "      <td>1</td>\n",
       "      <td>женат / замужем</td>\n",
       "      <td>0</td>\n",
       "      <td>M</td>\n",
       "      <td>сотрудник</td>\n",
       "      <td>0</td>\n",
       "      <td>144425.938277</td>\n",
       "      <td>покупка жилья для семьи</td>\n",
       "    </tr>\n",
       "    <tr>\n",
       "      <th>10</th>\n",
       "      <td>2</td>\n",
       "      <td>-4171.483647</td>\n",
       "      <td>36</td>\n",
       "      <td>высшее</td>\n",
       "      <td>0</td>\n",
       "      <td>женат / замужем</td>\n",
       "      <td>0</td>\n",
       "      <td>M</td>\n",
       "      <td>компаньон</td>\n",
       "      <td>0</td>\n",
       "      <td>113943.491460</td>\n",
       "      <td>покупка недвижимости</td>\n",
       "    </tr>\n",
       "    <tr>\n",
       "      <th>11</th>\n",
       "      <td>0</td>\n",
       "      <td>-792.701887</td>\n",
       "      <td>40</td>\n",
       "      <td>среднее</td>\n",
       "      <td>1</td>\n",
       "      <td>женат / замужем</td>\n",
       "      <td>0</td>\n",
       "      <td>F</td>\n",
       "      <td>сотрудник</td>\n",
       "      <td>0</td>\n",
       "      <td>77069.234271</td>\n",
       "      <td>покупка коммерческой недвижимости</td>\n",
       "    </tr>\n",
       "    <tr>\n",
       "      <th>12</th>\n",
       "      <td>0</td>\n",
       "      <td>NaN</td>\n",
       "      <td>65</td>\n",
       "      <td>среднее</td>\n",
       "      <td>1</td>\n",
       "      <td>гражданский брак</td>\n",
       "      <td>1</td>\n",
       "      <td>M</td>\n",
       "      <td>пенсионер</td>\n",
       "      <td>0</td>\n",
       "      <td>NaN</td>\n",
       "      <td>сыграть свадьбу</td>\n",
       "    </tr>\n",
       "    <tr>\n",
       "      <th>13</th>\n",
       "      <td>0</td>\n",
       "      <td>-1846.641941</td>\n",
       "      <td>54</td>\n",
       "      <td>неоконченное высшее</td>\n",
       "      <td>2</td>\n",
       "      <td>женат / замужем</td>\n",
       "      <td>0</td>\n",
       "      <td>F</td>\n",
       "      <td>сотрудник</td>\n",
       "      <td>0</td>\n",
       "      <td>130458.228857</td>\n",
       "      <td>приобретение автомобиля</td>\n",
       "    </tr>\n",
       "    <tr>\n",
       "      <th>14</th>\n",
       "      <td>0</td>\n",
       "      <td>-1844.956182</td>\n",
       "      <td>56</td>\n",
       "      <td>высшее</td>\n",
       "      <td>0</td>\n",
       "      <td>гражданский брак</td>\n",
       "      <td>1</td>\n",
       "      <td>F</td>\n",
       "      <td>компаньон</td>\n",
       "      <td>1</td>\n",
       "      <td>165127.911772</td>\n",
       "      <td>покупка жилой недвижимости</td>\n",
       "    </tr>\n",
       "    <tr>\n",
       "      <th>15</th>\n",
       "      <td>1</td>\n",
       "      <td>-972.364419</td>\n",
       "      <td>26</td>\n",
       "      <td>среднее</td>\n",
       "      <td>1</td>\n",
       "      <td>женат / замужем</td>\n",
       "      <td>0</td>\n",
       "      <td>F</td>\n",
       "      <td>сотрудник</td>\n",
       "      <td>0</td>\n",
       "      <td>116820.904450</td>\n",
       "      <td>строительство собственной недвижимости</td>\n",
       "    </tr>\n",
       "    <tr>\n",
       "      <th>16</th>\n",
       "      <td>0</td>\n",
       "      <td>-1719.934226</td>\n",
       "      <td>35</td>\n",
       "      <td>среднее</td>\n",
       "      <td>1</td>\n",
       "      <td>женат / замужем</td>\n",
       "      <td>0</td>\n",
       "      <td>F</td>\n",
       "      <td>сотрудник</td>\n",
       "      <td>0</td>\n",
       "      <td>289202.704229</td>\n",
       "      <td>недвижимость</td>\n",
       "    </tr>\n",
       "    <tr>\n",
       "      <th>17</th>\n",
       "      <td>0</td>\n",
       "      <td>-2369.999720</td>\n",
       "      <td>33</td>\n",
       "      <td>высшее</td>\n",
       "      <td>0</td>\n",
       "      <td>гражданский брак</td>\n",
       "      <td>1</td>\n",
       "      <td>M</td>\n",
       "      <td>сотрудник</td>\n",
       "      <td>0</td>\n",
       "      <td>90410.586745</td>\n",
       "      <td>строительство недвижимости</td>\n",
       "    </tr>\n",
       "    <tr>\n",
       "      <th>18</th>\n",
       "      <td>0</td>\n",
       "      <td>400281.136913</td>\n",
       "      <td>53</td>\n",
       "      <td>среднее</td>\n",
       "      <td>1</td>\n",
       "      <td>вдовец / вдова</td>\n",
       "      <td>2</td>\n",
       "      <td>F</td>\n",
       "      <td>пенсионер</td>\n",
       "      <td>0</td>\n",
       "      <td>56823.777243</td>\n",
       "      <td>на покупку подержанного автомобиля</td>\n",
       "    </tr>\n",
       "    <tr>\n",
       "      <th>19</th>\n",
       "      <td>0</td>\n",
       "      <td>-10038.818549</td>\n",
       "      <td>48</td>\n",
       "      <td>СРЕДНЕЕ</td>\n",
       "      <td>1</td>\n",
       "      <td>в разводе</td>\n",
       "      <td>3</td>\n",
       "      <td>F</td>\n",
       "      <td>сотрудник</td>\n",
       "      <td>0</td>\n",
       "      <td>242831.107982</td>\n",
       "      <td>на покупку своего автомобиля</td>\n",
       "    </tr>\n",
       "  </tbody>\n",
       "</table>\n",
       "</div>"
      ],
      "text/plain": [
       "    children  days_employed  dob_years            education  education_id  \\\n",
       "0          1   -8437.673028         42               высшее             0   \n",
       "1          1   -4024.803754         36              среднее             1   \n",
       "2          0   -5623.422610         33              Среднее             1   \n",
       "3          3   -4124.747207         32              среднее             1   \n",
       "4          0  340266.072047         53              среднее             1   \n",
       "5          0    -926.185831         27               высшее             0   \n",
       "6          0   -2879.202052         43               высшее             0   \n",
       "7          0    -152.779569         50              СРЕДНЕЕ             1   \n",
       "8          2   -6929.865299         35               ВЫСШЕЕ             0   \n",
       "9          0   -2188.756445         41              среднее             1   \n",
       "10         2   -4171.483647         36               высшее             0   \n",
       "11         0    -792.701887         40              среднее             1   \n",
       "12         0            NaN         65              среднее             1   \n",
       "13         0   -1846.641941         54  неоконченное высшее             2   \n",
       "14         0   -1844.956182         56               высшее             0   \n",
       "15         1    -972.364419         26              среднее             1   \n",
       "16         0   -1719.934226         35              среднее             1   \n",
       "17         0   -2369.999720         33               высшее             0   \n",
       "18         0  400281.136913         53              среднее             1   \n",
       "19         0  -10038.818549         48              СРЕДНЕЕ             1   \n",
       "\n",
       "       family_status  family_status_id gender income_type  debt  \\\n",
       "0    женат / замужем                 0      F   сотрудник     0   \n",
       "1    женат / замужем                 0      F   сотрудник     0   \n",
       "2    женат / замужем                 0      M   сотрудник     0   \n",
       "3    женат / замужем                 0      M   сотрудник     0   \n",
       "4   гражданский брак                 1      F   пенсионер     0   \n",
       "5   гражданский брак                 1      M   компаньон     0   \n",
       "6    женат / замужем                 0      F   компаньон     0   \n",
       "7    женат / замужем                 0      M   сотрудник     0   \n",
       "8   гражданский брак                 1      F   сотрудник     0   \n",
       "9    женат / замужем                 0      M   сотрудник     0   \n",
       "10   женат / замужем                 0      M   компаньон     0   \n",
       "11   женат / замужем                 0      F   сотрудник     0   \n",
       "12  гражданский брак                 1      M   пенсионер     0   \n",
       "13   женат / замужем                 0      F   сотрудник     0   \n",
       "14  гражданский брак                 1      F   компаньон     1   \n",
       "15   женат / замужем                 0      F   сотрудник     0   \n",
       "16   женат / замужем                 0      F   сотрудник     0   \n",
       "17  гражданский брак                 1      M   сотрудник     0   \n",
       "18    вдовец / вдова                 2      F   пенсионер     0   \n",
       "19         в разводе                 3      F   сотрудник     0   \n",
       "\n",
       "     total_income                                 purpose  \n",
       "0   253875.639453                           покупка жилья  \n",
       "1   112080.014102                 приобретение автомобиля  \n",
       "2   145885.952297                           покупка жилья  \n",
       "3   267628.550329              дополнительное образование  \n",
       "4   158616.077870                         сыграть свадьбу  \n",
       "5   255763.565419                           покупка жилья  \n",
       "6   240525.971920                       операции с жильем  \n",
       "7   135823.934197                             образование  \n",
       "8    95856.832424                   на проведение свадьбы  \n",
       "9   144425.938277                 покупка жилья для семьи  \n",
       "10  113943.491460                    покупка недвижимости  \n",
       "11   77069.234271       покупка коммерческой недвижимости  \n",
       "12            NaN                         сыграть свадьбу  \n",
       "13  130458.228857                 приобретение автомобиля  \n",
       "14  165127.911772              покупка жилой недвижимости  \n",
       "15  116820.904450  строительство собственной недвижимости  \n",
       "16  289202.704229                            недвижимость  \n",
       "17   90410.586745              строительство недвижимости  \n",
       "18   56823.777243      на покупку подержанного автомобиля  \n",
       "19  242831.107982            на покупку своего автомобиля  "
      ]
     },
     "execution_count": 2,
     "metadata": {},
     "output_type": "execute_result"
    }
   ],
   "source": [
    "data.head(20)"
   ]
  },
  {
   "cell_type": "markdown",
   "id": "622ab1cb",
   "metadata": {
    "deletable": false,
    "editable": false,
    "id": "1c12e233"
   },
   "source": [
    "**Задание 3. Выведите основную информацию о датафрейме с помощью метода `info()`.**"
   ]
  },
  {
   "cell_type": "code",
   "execution_count": 3,
   "id": "1e169f7e",
   "metadata": {
    "deletable": false,
    "id": "2b757bca",
    "outputId": "15376089-8dad-46c9-b520-c05248d43158"
   },
   "outputs": [
    {
     "name": "stdout",
     "output_type": "stream",
     "text": [
      "<class 'pandas.core.frame.DataFrame'>\n",
      "RangeIndex: 21525 entries, 0 to 21524\n",
      "Data columns (total 12 columns):\n",
      " #   Column            Non-Null Count  Dtype  \n",
      "---  ------            --------------  -----  \n",
      " 0   children          21525 non-null  int64  \n",
      " 1   days_employed     19351 non-null  float64\n",
      " 2   dob_years         21525 non-null  int64  \n",
      " 3   education         21525 non-null  object \n",
      " 4   education_id      21525 non-null  int64  \n",
      " 5   family_status     21525 non-null  object \n",
      " 6   family_status_id  21525 non-null  int64  \n",
      " 7   gender            21525 non-null  object \n",
      " 8   income_type       21525 non-null  object \n",
      " 9   debt              21525 non-null  int64  \n",
      " 10  total_income      19351 non-null  float64\n",
      " 11  purpose           21525 non-null  object \n",
      "dtypes: float64(2), int64(5), object(5)\n",
      "memory usage: 2.0+ MB\n"
     ]
    }
   ],
   "source": [
    "data.info()"
   ]
  },
  {
   "cell_type": "markdown",
   "id": "6a478f89",
   "metadata": {
    "deletable": false,
    "editable": false,
    "id": "333ec665"
   },
   "source": [
    "## Предобработка данных"
   ]
  },
  {
   "cell_type": "markdown",
   "id": "5329263b",
   "metadata": {
    "deletable": false,
    "editable": false,
    "id": "02d92d53"
   },
   "source": [
    "### Удаление пропусков"
   ]
  },
  {
   "cell_type": "markdown",
   "id": "5cdcf433",
   "metadata": {
    "deletable": false,
    "editable": false,
    "id": "cd84967c"
   },
   "source": [
    "**Задание 4. Выведите количество пропущенных значений для каждого столбца. Используйте комбинацию двух методов.**"
   ]
  },
  {
   "cell_type": "code",
   "execution_count": 4,
   "id": "ce128a3b",
   "metadata": {
    "deletable": false,
    "id": "7f9b2309",
    "outputId": "81f4d817-781c-465c-ed15-91ce4446810d"
   },
   "outputs": [
    {
     "data": {
      "text/plain": [
       "children               0\n",
       "days_employed       2174\n",
       "dob_years              0\n",
       "education              0\n",
       "education_id           0\n",
       "family_status          0\n",
       "family_status_id       0\n",
       "gender                 0\n",
       "income_type            0\n",
       "debt                   0\n",
       "total_income        2174\n",
       "purpose                0\n",
       "dtype: int64"
      ]
     },
     "execution_count": 4,
     "metadata": {},
     "output_type": "execute_result"
    }
   ],
   "source": [
    "data.isna().sum()"
   ]
  },
  {
   "cell_type": "markdown",
   "id": "15621b9a",
   "metadata": {
    "deletable": false,
    "editable": false,
    "id": "db86e27b"
   },
   "source": [
    "**Задание 5. В двух столбцах есть пропущенные значения. Один из них — `days_employed`. Пропуски в этом столбце вы обработаете на следующем этапе. Другой столбец с пропущенными значениями — `total_income` — хранит данные о доходах. На сумму дохода сильнее всего влияет тип занятости, поэтому заполнить пропуски в этом столбце нужно медианным значением по каждому типу из столбца `income_type`. Например, у человека с типом занятости `сотрудник` пропуск в столбце `total_income` должен быть заполнен медианным доходом среди всех записей с тем же типом.**"
   ]
  },
  {
   "cell_type": "code",
   "execution_count": 5,
   "id": "6b736820",
   "metadata": {
    "deletable": false,
    "id": "42006a93"
   },
   "outputs": [],
   "source": [
    "for t in data['income_type'].unique():\n",
    "    data.loc[(data['income_type'] == t) & (data['total_income'].isna()), 'total_income'] = \\\n",
    "    data.loc[(data['income_type'] == t), 'total_income'].median()"
   ]
  },
  {
   "cell_type": "markdown",
   "id": "cce64608",
   "metadata": {
    "deletable": false,
    "editable": false,
    "id": "89da5ece"
   },
   "source": [
    "### Обработка аномальных значений"
   ]
  },
  {
   "cell_type": "markdown",
   "id": "245248c4",
   "metadata": {
    "deletable": false,
    "editable": false,
    "id": "57964554"
   },
   "source": [
    "**Задание 6. В данных могут встречаться артефакты (аномалии) — значения, которые не отражают действительность и появились по какой-то ошибке. таким артефактом будет отрицательное количество дней трудового стажа в столбце `days_employed`. Для реальных данных это нормально. Обработайте значения в этом столбце: замените все отрицательные значения положительными с помощью метода `abs()`.**"
   ]
  },
  {
   "cell_type": "code",
   "execution_count": 6,
   "id": "71997f61",
   "metadata": {
    "deletable": false,
    "id": "f6f055bf"
   },
   "outputs": [],
   "source": [
    "data['days_employed'] = data['days_employed'].abs()"
   ]
  },
  {
   "cell_type": "markdown",
   "id": "24b819a9",
   "metadata": {
    "deletable": false,
    "editable": false,
    "id": "6107dd2f"
   },
   "source": [
    "**Задание 7. Для каждого типа занятости выведите медианное значение трудового стажа `days_employed` в днях.**"
   ]
  },
  {
   "cell_type": "code",
   "execution_count": 7,
   "id": "23fe3e2c",
   "metadata": {
    "deletable": false,
    "id": "85a5faf6",
    "outputId": "801ef80e-522b-4668-f34e-565af7432bcf"
   },
   "outputs": [
    {
     "data": {
      "text/plain": [
       "income_type\n",
       "безработный        366413.652744\n",
       "в декрете            3296.759962\n",
       "госслужащий          2689.368353\n",
       "компаньон            1547.382223\n",
       "пенсионер          365213.306266\n",
       "предприниматель       520.848083\n",
       "сотрудник            1574.202821\n",
       "студент               578.751554\n",
       "Name: days_employed, dtype: float64"
      ]
     },
     "execution_count": 7,
     "metadata": {},
     "output_type": "execute_result"
    }
   ],
   "source": [
    "data.groupby('income_type')['days_employed'].agg('median')"
   ]
  },
  {
   "cell_type": "markdown",
   "id": "06cfbf68",
   "metadata": {
    "deletable": false,
    "editable": false,
    "id": "38d1a030"
   },
   "source": [
    "У двух типов (безработные и пенсионеры) получатся аномально большие значения. Исправить такие значения сложно, поэтому оставьте их как есть. Тем более этот столбец не понадобится вам для исследования."
   ]
  },
  {
   "cell_type": "markdown",
   "id": "9a31ecdf",
   "metadata": {
    "deletable": false,
    "editable": false,
    "id": "d8a9f147"
   },
   "source": [
    "**Задание 8. Выведите перечень уникальных значений столбца `children`.**"
   ]
  },
  {
   "cell_type": "code",
   "execution_count": 8,
   "id": "33a3027c",
   "metadata": {
    "deletable": false,
    "id": "ef5056eb",
    "outputId": "6975b15c-7f95-4697-d16d-a0c79b657b03"
   },
   "outputs": [
    {
     "data": {
      "text/plain": [
       "array([ 1,  0,  3,  2, -1,  4, 20,  5])"
      ]
     },
     "execution_count": 8,
     "metadata": {},
     "output_type": "execute_result"
    }
   ],
   "source": [
    "data['children'].unique()"
   ]
  },
  {
   "cell_type": "markdown",
   "id": "fcd3f1bd",
   "metadata": {
    "deletable": false,
    "editable": false,
    "id": "40b9ebf2"
   },
   "source": [
    "**Задание 9. В столбце `children` есть два аномальных значения. Удалите строки, в которых встречаются такие аномальные значения из датафрейма `data`.**"
   ]
  },
  {
   "cell_type": "code",
   "execution_count": 9,
   "id": "8cc29dda",
   "metadata": {
    "deletable": false,
    "id": "3ff9801d"
   },
   "outputs": [],
   "source": [
    "data = data[(data['children'] != -1) & (data['children'] != 20)]"
   ]
  },
  {
   "cell_type": "markdown",
   "id": "8bdec4d7",
   "metadata": {
    "deletable": false,
    "editable": false,
    "id": "bbc4d0ce"
   },
   "source": [
    "**Задание 10. Ещё раз выведите перечень уникальных значений столбца `children`, чтобы убедиться, что артефакты удалены.**"
   ]
  },
  {
   "cell_type": "code",
   "execution_count": 10,
   "id": "88405ccb",
   "metadata": {
    "deletable": false,
    "id": "ad4fa8b7",
    "outputId": "b2097101-d49d-44d9-901b-32a65c9463d1"
   },
   "outputs": [
    {
     "data": {
      "text/plain": [
       "array([1, 0, 3, 2, 4, 5])"
      ]
     },
     "execution_count": 10,
     "metadata": {},
     "output_type": "execute_result"
    }
   ],
   "source": [
    "data['children'].unique()"
   ]
  },
  {
   "cell_type": "markdown",
   "id": "7fccb614",
   "metadata": {
    "deletable": false,
    "editable": false,
    "id": "75440b63"
   },
   "source": [
    "### Удаление пропусков (продолжение)"
   ]
  },
  {
   "cell_type": "markdown",
   "id": "6da86128",
   "metadata": {
    "deletable": false,
    "editable": false,
    "id": "f4ea573f"
   },
   "source": [
    "**Задание 11. Заполните пропуски в столбце `days_employed` медианными значениями по каждого типа занятости `income_type`.**"
   ]
  },
  {
   "cell_type": "code",
   "execution_count": 11,
   "id": "a4e22fdc",
   "metadata": {
    "deletable": false,
    "id": "af6b1a7e"
   },
   "outputs": [],
   "source": [
    "for t in data['income_type'].unique():\n",
    "    data.loc[(data['income_type'] == t) & (data['days_employed'].isna()), 'days_employed'] = \\\n",
    "    data.loc[(data['income_type'] == t), 'days_employed'].median()"
   ]
  },
  {
   "cell_type": "markdown",
   "id": "be38f695",
   "metadata": {
    "deletable": false,
    "editable": false,
    "id": "2753f40d"
   },
   "source": [
    "**Задание 12. Убедитесь, что все пропуски заполнены. Проверьте себя и ещё раз выведите количество пропущенных значений для каждого столбца с помощью двух методов.**"
   ]
  },
  {
   "cell_type": "code",
   "execution_count": 12,
   "id": "7ca01875",
   "metadata": {
    "deletable": false,
    "id": "55f78bc2",
    "outputId": "8da1e4e1-358e-4e87-98c9-f261bce0a7b2"
   },
   "outputs": [
    {
     "data": {
      "text/plain": [
       "children            0\n",
       "days_employed       0\n",
       "dob_years           0\n",
       "education           0\n",
       "education_id        0\n",
       "family_status       0\n",
       "family_status_id    0\n",
       "gender              0\n",
       "income_type         0\n",
       "debt                0\n",
       "total_income        0\n",
       "purpose             0\n",
       "dtype: int64"
      ]
     },
     "execution_count": 12,
     "metadata": {},
     "output_type": "execute_result"
    }
   ],
   "source": [
    "data.isna().sum()"
   ]
  },
  {
   "cell_type": "markdown",
   "id": "d9009650",
   "metadata": {
    "deletable": false,
    "editable": false,
    "id": "ddc81e43"
   },
   "source": [
    "### Изменение типов данных"
   ]
  },
  {
   "cell_type": "markdown",
   "id": "64bf2eab",
   "metadata": {
    "deletable": false,
    "editable": false,
    "id": "42d19d24"
   },
   "source": [
    "**Задание 13. Замените вещественный тип данных в столбце `total_income` на целочисленный с помощью метода `astype()`.**"
   ]
  },
  {
   "cell_type": "code",
   "execution_count": 13,
   "id": "f68fc65f",
   "metadata": {
    "deletable": false,
    "id": "920b65ad"
   },
   "outputs": [],
   "source": [
    "data['total_income'] = data['total_income'].astype(int)"
   ]
  },
  {
   "cell_type": "markdown",
   "id": "b2eb05ef",
   "metadata": {
    "deletable": false,
    "editable": false,
    "id": "80c420ba"
   },
   "source": [
    "### Обработка дубликатов"
   ]
  },
  {
   "cell_type": "markdown",
   "id": "75453e80",
   "metadata": {
    "deletable": false,
    "editable": false
   },
   "source": [
    "**Задание 14. Обработайте неявные дубликаты в столбце `education`. В этом столбце есть одни и те же значения, но записанные по-разному: с использованием заглавных и строчных букв. Приведите их к нижнему регистру. Проверьте остальные столбцы.**"
   ]
  },
  {
   "cell_type": "code",
   "execution_count": 14,
   "id": "a96a8d0c",
   "metadata": {
    "deletable": false
   },
   "outputs": [],
   "source": [
    "data['education'] = data['education'].str.lower()\n",
    "data['family_status'] = data['family_status'].str.lower()"
   ]
  },
  {
   "cell_type": "markdown",
   "id": "8eabe299",
   "metadata": {
    "deletable": false,
    "editable": false,
    "id": "dc587695"
   },
   "source": [
    "**Задание 15. Выведите на экран количество строк-дубликатов в данных. Если такие строки присутствуют, удалите их.**"
   ]
  },
  {
   "cell_type": "code",
   "execution_count": 15,
   "id": "44ce7689",
   "metadata": {
    "deletable": false,
    "id": "3ee445e4",
    "outputId": "9684deba-1934-42d1-99e1-cda61740f822"
   },
   "outputs": [
    {
     "data": {
      "text/plain": [
       "71"
      ]
     },
     "execution_count": 15,
     "metadata": {},
     "output_type": "execute_result"
    }
   ],
   "source": [
    "data.duplicated().sum()"
   ]
  },
  {
   "cell_type": "code",
   "execution_count": 16,
   "id": "2f41b77a",
   "metadata": {
    "deletable": false,
    "id": "8575fe05"
   },
   "outputs": [],
   "source": [
    "data = data.drop_duplicates()"
   ]
  },
  {
   "cell_type": "markdown",
   "id": "e57d3ec9",
   "metadata": {
    "deletable": false,
    "editable": false,
    "id": "9904cf55"
   },
   "source": [
    "### Категоризация данных"
   ]
  },
  {
   "cell_type": "markdown",
   "id": "5c8e70c8",
   "metadata": {
    "deletable": false,
    "editable": false,
    "id": "72fcc8a2"
   },
   "source": [
    "**Задание 16. На основании диапазонов, указанных ниже, создайте в датафрейме `data` столбец `total_income_category` с категориями:**\n",
    "\n",
    "- 0–30000 — `'E'`;\n",
    "- 30001–50000 — `'D'`;\n",
    "- 50001–200000 — `'C'`;\n",
    "- 200001–1000000 — `'B'`;\n",
    "- 1000001 и выше — `'A'`.\n",
    "\n",
    "\n",
    "**Например, кредитополучателю с доходом 25000 нужно назначить категорию `'E'`, а клиенту, получающему 235000, — `'B'`. Используйте собственную функцию с именем `categorize_income()` и метод `apply()`.**"
   ]
  },
  {
   "cell_type": "code",
   "execution_count": 17,
   "id": "ac4000f9",
   "metadata": {
    "deletable": false,
    "id": "e1771346"
   },
   "outputs": [],
   "source": [
    "def categorize_income(income):\n",
    "    try:\n",
    "        if 0 <= income <= 30000:\n",
    "            return 'E'\n",
    "        elif 30001 <= income <= 50000:\n",
    "            return 'D'\n",
    "        elif 50001 <= income <= 200000:\n",
    "            return 'C'\n",
    "        elif 200001 <= income <= 1000000:\n",
    "            return 'B'\n",
    "        elif income >= 1000001:\n",
    "            return 'A'\n",
    "    except:\n",
    "        pass"
   ]
  },
  {
   "cell_type": "code",
   "execution_count": 18,
   "id": "59707c50",
   "metadata": {
    "deletable": false,
    "id": "d5f3586d"
   },
   "outputs": [],
   "source": [
    "data['total_income_category'] = data['total_income'].apply(categorize_income)"
   ]
  },
  {
   "cell_type": "markdown",
   "id": "ecf416a9",
   "metadata": {
    "deletable": false,
    "editable": false,
    "id": "dde49b5c"
   },
   "source": [
    "**Задание 17. Выведите на экран перечень уникальных целей взятия кредита из столбца `purpose`.**"
   ]
  },
  {
   "cell_type": "code",
   "execution_count": 19,
   "id": "fd860df0",
   "metadata": {
    "deletable": false,
    "id": "f67ce9b3",
    "outputId": "673c12d9-7d7e-4ae0-9812-c622c89dd244"
   },
   "outputs": [
    {
     "data": {
      "text/plain": [
       "array(['покупка жилья', 'приобретение автомобиля',\n",
       "       'дополнительное образование', 'сыграть свадьбу',\n",
       "       'операции с жильем', 'образование', 'на проведение свадьбы',\n",
       "       'покупка жилья для семьи', 'покупка недвижимости',\n",
       "       'покупка коммерческой недвижимости', 'покупка жилой недвижимости',\n",
       "       'строительство собственной недвижимости', 'недвижимость',\n",
       "       'строительство недвижимости', 'на покупку подержанного автомобиля',\n",
       "       'на покупку своего автомобиля',\n",
       "       'операции с коммерческой недвижимостью',\n",
       "       'строительство жилой недвижимости', 'жилье',\n",
       "       'операции со своей недвижимостью', 'автомобили',\n",
       "       'заняться образованием', 'сделка с подержанным автомобилем',\n",
       "       'получение образования', 'автомобиль', 'свадьба',\n",
       "       'получение дополнительного образования', 'покупка своего жилья',\n",
       "       'операции с недвижимостью', 'получение высшего образования',\n",
       "       'свой автомобиль', 'сделка с автомобилем',\n",
       "       'профильное образование', 'высшее образование',\n",
       "       'покупка жилья для сдачи', 'на покупку автомобиля', 'ремонт жилью',\n",
       "       'заняться высшим образованием'], dtype=object)"
      ]
     },
     "execution_count": 19,
     "metadata": {},
     "output_type": "execute_result"
    }
   ],
   "source": [
    "data['purpose'].unique()"
   ]
  },
  {
   "cell_type": "markdown",
   "id": "51b2fe40",
   "metadata": {
    "deletable": false,
    "editable": false,
    "id": "85d0aef0"
   },
   "source": [
    "**Задание 18. Создайте функцию, которая на основании данных из столбца `purpose` сформирует новый столбец `purpose_category`, в который войдут следующие категории:**\n",
    "\n",
    "- `'операции с автомобилем'`,\n",
    "- `'операции с недвижимостью'`,\n",
    "- `'проведение свадьбы'`,\n",
    "- `'получение образования'`.\n",
    "\n",
    "**Например, если в столбце `purpose` находится подстрока `'на покупку автомобиля'`, то в столбце `purpose_category` должна появиться строка `'операции с автомобилем'`.**\n",
    "\n",
    "**Используйте собственную функцию с именем `categorize_purpose()` и метод `apply()`. Изучите данные в столбце `purpose` и определите, какие подстроки помогут вам правильно определить категорию.**"
   ]
  },
  {
   "cell_type": "code",
   "execution_count": 20,
   "id": "82c24433",
   "metadata": {
    "deletable": false,
    "id": "e149fab4"
   },
   "outputs": [],
   "source": [
    "def categorize_purpose(row):\n",
    "    try:\n",
    "        if 'автом' in row:\n",
    "            return 'операции с автомобилем'\n",
    "        elif 'жил' in row or 'недвиж' in row:\n",
    "            return 'операции с недвижимостью'\n",
    "        elif 'свад' in row:\n",
    "            return 'проведение свадьбы'\n",
    "        elif 'образов' in row:\n",
    "            return 'получение образования'\n",
    "    except:\n",
    "        return 'нет категории'"
   ]
  },
  {
   "cell_type": "code",
   "execution_count": 21,
   "id": "68eed803",
   "metadata": {
    "deletable": false,
    "id": "bf36e69b"
   },
   "outputs": [],
   "source": [
    "data['purpose_category'] = data['purpose'].apply(categorize_purpose)"
   ]
  },
  {
   "cell_type": "markdown",
   "id": "c5680921",
   "metadata": {},
   "source": [
    "**Создание функции, которая на основании данных из столбца days_employed сформирует новый столбец days_employed_category, в который войдут следующие категории: A, B, C, D, E, Unreal**"
   ]
  },
  {
   "cell_type": "code",
   "execution_count": 22,
   "id": "cdace6a3",
   "metadata": {},
   "outputs": [],
   "source": [
    "def categorize_days_employed(days_employed):\n",
    "    try:\n",
    "        if 0 <= days_employed <= 500:\n",
    "            return 'E'\n",
    "        elif 501 <= days_employed <= 1500:\n",
    "            return 'D'\n",
    "        elif 1501 <= days_employed <= 3000:\n",
    "            return 'C'\n",
    "        elif 3001 <= days_employed <= 5000:\n",
    "            return 'B'\n",
    "        elif 5001 <= days_employed <= 10000:\n",
    "            return 'A'\n",
    "        else:\n",
    "            return 'Unreal'\n",
    "    except:\n",
    "        pass"
   ]
  },
  {
   "cell_type": "code",
   "execution_count": 23,
   "id": "70a2505f",
   "metadata": {},
   "outputs": [],
   "source": [
    "data['days_employed_category'] = data['days_employed'].apply(categorize_days_employed)"
   ]
  },
  {
   "cell_type": "markdown",
   "id": "47d67a6c",
   "metadata": {},
   "source": [
    "**Создание функции, которая на основании данных из столбца dob_years сформирует новый столбец dob_years_category, в который войдут следующие категории: A, B, C, D, E, Unreal**"
   ]
  },
  {
   "cell_type": "code",
   "execution_count": 24,
   "id": "ca236cad",
   "metadata": {},
   "outputs": [],
   "source": [
    "def categorize_dob_years(dob_years):\n",
    "    try:\n",
    "        if 0 <= dob_years <= 18:\n",
    "            return 'A'\n",
    "        elif 19 <= dob_years <= 27:\n",
    "            return 'B'\n",
    "        elif 28 <= dob_years <= 50:\n",
    "            return 'C'\n",
    "        elif 51 <= dob_years <= 75:\n",
    "            return 'D'\n",
    "        elif 76 <= dob_years:\n",
    "            return 'E'\n",
    "        else:\n",
    "            return 'Unreal'\n",
    "    except:\n",
    "        pass"
   ]
  },
  {
   "cell_type": "code",
   "execution_count": 25,
   "id": "6bb51136",
   "metadata": {},
   "outputs": [],
   "source": [
    "data['dob_years_category'] = data['dob_years'].apply(categorize_dob_years)"
   ]
  },
  {
   "cell_type": "markdown",
   "id": "6b413cf3",
   "metadata": {
    "deletable": false,
    "editable": false,
    "id": "09b242bf"
   },
   "source": [
    "### Шаг 3. Исследуйте данные и ответьте на вопросы"
   ]
  },
  {
   "cell_type": "markdown",
   "id": "80ff385a",
   "metadata": {},
   "source": [
    "**Создание функции, которая рассчитывает вероятность задолженности для каждого уникального значения в столбце column_to_check.**\n",
    "    Аргументы:\n",
    "        column_to_check: название анализируемого столбца.\n",
    "    Возвращает:\n",
    "        DataFrame с данными."
   ]
  },
  {
   "cell_type": "code",
   "execution_count": 26,
   "id": "ef1dc749",
   "metadata": {},
   "outputs": [],
   "source": [
    "def probability_of_debt_old(col1, col2):\n",
    "    col1_name = col1.name\n",
    "    col2_name = col2.name\n",
    "    in_data = pd.DataFrame({col1_name: col1, col2_name: col2})\n",
    "\n",
    "    for t in sorted(in_data[col1_name].unique()):\n",
    "        debts = in_data.loc[in_data[col1_name]==t, col2_name].sum()\n",
    "        total = in_data.loc[in_data[col1_name]==t, col2_name].count()\n",
    "        prob_of_debt = debts/total\n",
    "        \n",
    "        if total != 0:\n",
    "            prob_of_debt = debts / total\n",
    "            print(f\"Вероятность задолженности для {col1_name} = {t} составляет: {prob_of_debt*100:.2f} %. \\n(всего {total} займа - {total/len(col1)*100:.2f} % выборки)\")\n",
    "        else:\n",
    "            print(f\"Для {col1_name} = {t} отсутствуют сведения.\")\n"
   ]
  },
  {
   "cell_type": "code",
   "execution_count": 27,
   "id": "46072350",
   "metadata": {},
   "outputs": [],
   "source": [
    "def probability_of_debt_ver1(column_to_check):\n",
    "    \n",
    "    probability = (data.groupby([column_to_check])['debt'].mean()*100).sort_values(ascending=False).to_frame (name='debt probability (%)')\n",
    "    quantity = (data.groupby([column_to_check])['debt'].count()).to_frame (name='quantity')\n",
    "    relative_quantity = (data.groupby([column_to_check])['debt'].count() / len(data)*100).to_frame (name='relative quantity (%)')\n",
    "\n",
    "    prob_df = probability.merge(quantity, on=column_to_check, how='left')\n",
    "    prob_df = prob_df.merge(relative_quantity, on=column_to_check, how='left')\n",
    "    \n",
    "    return round(prob_df, 2)"
   ]
  },
  {
   "cell_type": "code",
   "execution_count": 28,
   "id": "c8f5516a",
   "metadata": {},
   "outputs": [],
   "source": [
    "def probability_of_debt_ver2(column_to_check):\n",
    "    \n",
    "    df = data.groupby([column_to_check]).agg({'debt' : ['mean', 'count', relative_quantity]})\n",
    "    \n",
    "    df.columns = ['debt probability (%)', 'quantity', 'relative quantity (%)']\n",
    "    df['debt probability (%)'] = round(df['debt probability (%)']*100, 2)\n",
    "    df = df.sort_values('debt probability (%)', ascending=False)\n",
    "    return df\n",
    "\n",
    "def relative_quantity(q):\n",
    "    relative_quantity = round(100*len(q) / len(data), 2)\n",
    "    return relative_quantity"
   ]
  },
  {
   "cell_type": "code",
   "execution_count": 29,
   "id": "ecf82aae",
   "metadata": {},
   "outputs": [],
   "source": [
    "def probability_of_debt_ver3(column_to_check):\n",
    "    data_pivot = data.pivot_table(index=column_to_check, values='debt', aggfunc=['mean', 'count', relative_quantity])\n",
    "    data_pivot['mean'] = round(100*data_pivot['mean'], 2)\n",
    "    data_pivot.columns = ['debt probability (%)', 'quantity', 'relative quantity (%)']\n",
    "    data_pivot = data_pivot.sort_values('debt probability (%)', ascending=False)\n",
    "    return data_pivot"
   ]
  },
  {
   "cell_type": "code",
   "execution_count": null,
   "id": "6f13eac8",
   "metadata": {},
   "outputs": [],
   "source": []
  },
  {
   "cell_type": "code",
   "execution_count": 30,
   "id": "4c1a83e6",
   "metadata": {},
   "outputs": [],
   "source": [
    "#%%timeit\n",
    "#probability_of_debt_old(data['children'], data['debt'])\n",
    "#probability_of_debt_ver1('children')\n",
    "#probability_of_debt_ver2('children')\n",
    "#probability_of_debt_ver3('children')"
   ]
  },
  {
   "cell_type": "markdown",
   "id": "1bea9eaf",
   "metadata": {},
   "source": [
    "Наиболее эффективная функция, возвращаюющая df: probability_of_debt_ver2 (это groupby() совиместно с agg()).\\\n",
    "Наименее эффективная функция, возвращаюющая df: probability_of_debt_ver3 (это pivot_table())."
   ]
  },
  {
   "cell_type": "markdown",
   "id": "dd0f416c",
   "metadata": {},
   "source": [
    "<div class=\"alert alert-danger\">\n",
    "<font size=\"5\"><b>Комментарий ревьюера</b></font>\n",
    "\n",
    "Ошибка: Функция правильная, но такой способ реализации всех расчетов крайне неэффективный. Также не стоит выводить данные построчно. Лучше сразу привыкать выводить информацию в виде таблиц. Именно так и ведется работа с данными. Для применения методов по уникальным параметрам столбца следует использовать метод groupby. Так мы проводим группировку по значениям выбранного параметра с возможностью расчетов по ним. Попробуй использовать именно его для получения результатов. \n",
    "\n",
    "</div>"
   ]
  },
  {
   "cell_type": "markdown",
   "id": "52717bca",
   "metadata": {},
   "source": [
    "<div class=\"alert alert-success\">\n",
    "<font size=\"5\"><b>Комментарий ревьюера 2</b></font>\n",
    "\n",
    "Успех: Отличная реализация получилась! \n",
    "\n",
    "</div>"
   ]
  },
  {
   "cell_type": "markdown",
   "id": "8de65f77",
   "metadata": {
    "deletable": false,
    "editable": false,
    "id": "c5d66278"
   },
   "source": [
    "#### 3.1 Есть ли зависимость между количеством детей и возвратом кредита в срок?"
   ]
  },
  {
   "cell_type": "code",
   "execution_count": 31,
   "id": "87eaa677",
   "metadata": {},
   "outputs": [],
   "source": [
    "#data.groupby(['children'])['debt'].mean()"
   ]
  },
  {
   "cell_type": "code",
   "execution_count": 32,
   "id": "444c92b5",
   "metadata": {
    "deletable": false,
    "id": "2cacfc4a",
    "scrolled": true
   },
   "outputs": [
    {
     "data": {
      "text/html": [
       "<div>\n",
       "<style scoped>\n",
       "    .dataframe tbody tr th:only-of-type {\n",
       "        vertical-align: middle;\n",
       "    }\n",
       "\n",
       "    .dataframe tbody tr th {\n",
       "        vertical-align: top;\n",
       "    }\n",
       "\n",
       "    .dataframe thead th {\n",
       "        text-align: right;\n",
       "    }\n",
       "</style>\n",
       "<table border=\"1\" class=\"dataframe\">\n",
       "  <thead>\n",
       "    <tr style=\"text-align: right;\">\n",
       "      <th></th>\n",
       "      <th>debt probability (%)</th>\n",
       "      <th>quantity</th>\n",
       "      <th>relative quantity (%)</th>\n",
       "    </tr>\n",
       "    <tr>\n",
       "      <th>children</th>\n",
       "      <th></th>\n",
       "      <th></th>\n",
       "      <th></th>\n",
       "    </tr>\n",
       "  </thead>\n",
       "  <tbody>\n",
       "    <tr>\n",
       "      <th>4</th>\n",
       "      <td>9.76</td>\n",
       "      <td>41</td>\n",
       "      <td>0.19</td>\n",
       "    </tr>\n",
       "    <tr>\n",
       "      <th>2</th>\n",
       "      <td>9.45</td>\n",
       "      <td>2052</td>\n",
       "      <td>9.62</td>\n",
       "    </tr>\n",
       "    <tr>\n",
       "      <th>1</th>\n",
       "      <td>9.23</td>\n",
       "      <td>4808</td>\n",
       "      <td>22.54</td>\n",
       "    </tr>\n",
       "    <tr>\n",
       "      <th>3</th>\n",
       "      <td>8.18</td>\n",
       "      <td>330</td>\n",
       "      <td>1.55</td>\n",
       "    </tr>\n",
       "    <tr>\n",
       "      <th>0</th>\n",
       "      <td>7.54</td>\n",
       "      <td>14091</td>\n",
       "      <td>66.06</td>\n",
       "    </tr>\n",
       "    <tr>\n",
       "      <th>5</th>\n",
       "      <td>0.00</td>\n",
       "      <td>9</td>\n",
       "      <td>0.04</td>\n",
       "    </tr>\n",
       "  </tbody>\n",
       "</table>\n",
       "</div>"
      ],
      "text/plain": [
       "          debt probability (%)  quantity  relative quantity (%)\n",
       "children                                                       \n",
       "4                         9.76        41                   0.19\n",
       "2                         9.45      2052                   9.62\n",
       "1                         9.23      4808                  22.54\n",
       "3                         8.18       330                   1.55\n",
       "0                         7.54     14091                  66.06\n",
       "5                         0.00         9                   0.04"
      ]
     },
     "execution_count": 32,
     "metadata": {},
     "output_type": "execute_result"
    }
   ],
   "source": [
    "probability_of_debt_ver1('children')"
   ]
  },
  {
   "cell_type": "markdown",
   "id": "c92f5ca2",
   "metadata": {
    "deletable": false,
    "id": "3a6b99ec"
   },
   "source": [
    "**Вывод:**\n",
    "\n",
    "Согласно проведенным рассчетам, между количеством детей и возвратом кредита в срок существует зависмость.\n",
    "\n",
    "В зависмости от количества детей вероятность задолженности составляет от 7.54 % до 9.76 %. При этом не целесообразно учитывать вероятность 0 % для категории с 5 детьми ввиду малого количества сведений по указанной категории в представленной выборке (всего 9 займов).\n",
    "\n",
    "Наименьшая вероятность задолженности у категории заемщиков без детей (7.54 %). При этом, заемщики указанной категории составляют большую часть представленной выборки (66.06 %).\n",
    "\n",
    "Наибольшая вероятность отмечается в категории с 4 детьми (9.76 %).\n",
    "\n",
    "При этом сделать вывод о том, что вероятность задолженности увеличивается с количеством детей не представляется возможным."
   ]
  },
  {
   "cell_type": "markdown",
   "id": "c17a97e1",
   "metadata": {},
   "source": [
    "<div class=\"alert alert-success\">\n",
    "<font size=\"5\"><b>Комментарий ревьюера</b></font>\n",
    "\n",
    "Успех: Вывод не противоречит полученному результату. С ним все хорошо, а вот сам метод расчета следует скорректировать. Весь вывод информации в идеале вполне можно уложить в одну строку кода. \n",
    "\n",
    "</div>"
   ]
  },
  {
   "cell_type": "markdown",
   "id": "664e762c",
   "metadata": {
    "deletable": false,
    "editable": false,
    "id": "97be82ca"
   },
   "source": [
    "#### 3.2 Есть ли зависимость между семейным положением и возвратом кредита в срок?"
   ]
  },
  {
   "cell_type": "code",
   "execution_count": 33,
   "id": "3ec06a69",
   "metadata": {},
   "outputs": [],
   "source": [
    "#data.groupby(['family_status']).agg({'debt' : ['mean', 'count', relative_quantity]})"
   ]
  },
  {
   "cell_type": "code",
   "execution_count": 34,
   "id": "8248b0e5",
   "metadata": {
    "deletable": false,
    "id": "dc3f7ee8"
   },
   "outputs": [
    {
     "data": {
      "text/html": [
       "<div>\n",
       "<style scoped>\n",
       "    .dataframe tbody tr th:only-of-type {\n",
       "        vertical-align: middle;\n",
       "    }\n",
       "\n",
       "    .dataframe tbody tr th {\n",
       "        vertical-align: top;\n",
       "    }\n",
       "\n",
       "    .dataframe thead th {\n",
       "        text-align: right;\n",
       "    }\n",
       "</style>\n",
       "<table border=\"1\" class=\"dataframe\">\n",
       "  <thead>\n",
       "    <tr style=\"text-align: right;\">\n",
       "      <th></th>\n",
       "      <th>debt probability (%)</th>\n",
       "      <th>quantity</th>\n",
       "      <th>relative quantity (%)</th>\n",
       "    </tr>\n",
       "    <tr>\n",
       "      <th>family_status</th>\n",
       "      <th></th>\n",
       "      <th></th>\n",
       "      <th></th>\n",
       "    </tr>\n",
       "  </thead>\n",
       "  <tbody>\n",
       "    <tr>\n",
       "      <th>не женат / не замужем</th>\n",
       "      <td>9.76</td>\n",
       "      <td>2796</td>\n",
       "      <td>13.11</td>\n",
       "    </tr>\n",
       "    <tr>\n",
       "      <th>гражданский брак</th>\n",
       "      <td>9.31</td>\n",
       "      <td>4134</td>\n",
       "      <td>19.38</td>\n",
       "    </tr>\n",
       "    <tr>\n",
       "      <th>женат / замужем</th>\n",
       "      <td>7.56</td>\n",
       "      <td>12261</td>\n",
       "      <td>57.48</td>\n",
       "    </tr>\n",
       "    <tr>\n",
       "      <th>в разводе</th>\n",
       "      <td>7.06</td>\n",
       "      <td>1189</td>\n",
       "      <td>5.57</td>\n",
       "    </tr>\n",
       "    <tr>\n",
       "      <th>вдовец / вдова</th>\n",
       "      <td>6.62</td>\n",
       "      <td>951</td>\n",
       "      <td>4.46</td>\n",
       "    </tr>\n",
       "  </tbody>\n",
       "</table>\n",
       "</div>"
      ],
      "text/plain": [
       "                       debt probability (%)  quantity  relative quantity (%)\n",
       "family_status                                                               \n",
       "не женат / не замужем                  9.76      2796                  13.11\n",
       "гражданский брак                       9.31      4134                  19.38\n",
       "женат / замужем                        7.56     12261                  57.48\n",
       "в разводе                              7.06      1189                   5.57\n",
       "вдовец / вдова                         6.62       951                   4.46"
      ]
     },
     "execution_count": 34,
     "metadata": {},
     "output_type": "execute_result"
    }
   ],
   "source": [
    "probability_of_debt_ver2('family_status')"
   ]
  },
  {
   "cell_type": "markdown",
   "id": "62abf853",
   "metadata": {},
   "source": [
    "<div class=\"alert alert-success\">\n",
    "<font size=\"5\"><b>Комментарий ревьюера</b></font>\n",
    "  \n",
    "Совет: Будет здорово, если ты освоишь метод [agg](https://pandas.pydata.org/pandas-docs/stable/reference/api/pandas.DataFrame.agg.html), который можно применить после группировки и передать в него лист с аггрегирующими функциями: sum - для подсчета числа должников, count - для подсчета общего числа клиентов в группах и mean - для нахождения доли должников в каждой из групп. \n",
    "\n",
    "</div>"
   ]
  },
  {
   "cell_type": "markdown",
   "id": "08b821e5",
   "metadata": {
    "deletable": false,
    "id": "1cef7837"
   },
   "source": [
    "**Вывод:** \n",
    "\n",
    "Согласно проведенным рассчетам, между семейным положением и возвратом кредита в срок существует зависмость.\n",
    "\n",
    "В зависмости от семейного положения вероятность задолженности составляет от 6.62 % (вдовец / вдова) до 9.76 % (Не женат / не замужем).\n",
    "\n",
    "При этом наиболее многочисленна категория \"женат / замужем\" (57.48 % выборки) с верочятностью задолженности 7.56 %.\n",
    "\n",
    "Кроме того отмечается, что наименования категорий сатуса семейного положения могут вводить в заблуждение. Например, \"в разводе\" и \"вдовец/вдова\" могут принадлежать к категории \"Не женат / не замужем\". И наоборот. Что может повлиять на результаты исследования."
   ]
  },
  {
   "cell_type": "markdown",
   "id": "583e8aac",
   "metadata": {},
   "source": [
    "<div class=\"alert alert-success\">\n",
    "<font size=\"5\"><b>Комментарий ревьюера</b></font>\n",
    "\n",
    "Успех: Подумай также и над причинами получения такого результата. Код прошу исправить как минимум в одном из пунктов. \n",
    "\n",
    "</div>"
   ]
  },
  {
   "cell_type": "markdown",
   "id": "f0be8af1",
   "metadata": {
    "deletable": false,
    "editable": false,
    "id": "1e8b2fca"
   },
   "source": [
    "#### 3.3 Есть ли зависимость между уровнем дохода и возвратом кредита в срок?"
   ]
  },
  {
   "cell_type": "code",
   "execution_count": 35,
   "id": "41122f58",
   "metadata": {
    "deletable": false,
    "id": "cd7e3720"
   },
   "outputs": [
    {
     "data": {
      "text/html": [
       "<div>\n",
       "<style scoped>\n",
       "    .dataframe tbody tr th:only-of-type {\n",
       "        vertical-align: middle;\n",
       "    }\n",
       "\n",
       "    .dataframe tbody tr th {\n",
       "        vertical-align: top;\n",
       "    }\n",
       "\n",
       "    .dataframe thead th {\n",
       "        text-align: right;\n",
       "    }\n",
       "</style>\n",
       "<table border=\"1\" class=\"dataframe\">\n",
       "  <thead>\n",
       "    <tr style=\"text-align: right;\">\n",
       "      <th></th>\n",
       "      <th>debt probability (%)</th>\n",
       "      <th>quantity</th>\n",
       "      <th>relative quantity (%)</th>\n",
       "    </tr>\n",
       "    <tr>\n",
       "      <th>total_income_category</th>\n",
       "      <th></th>\n",
       "      <th></th>\n",
       "      <th></th>\n",
       "    </tr>\n",
       "  </thead>\n",
       "  <tbody>\n",
       "    <tr>\n",
       "      <th>E</th>\n",
       "      <td>9.09</td>\n",
       "      <td>22</td>\n",
       "      <td>0.10</td>\n",
       "    </tr>\n",
       "    <tr>\n",
       "      <th>C</th>\n",
       "      <td>8.50</td>\n",
       "      <td>15921</td>\n",
       "      <td>74.64</td>\n",
       "    </tr>\n",
       "    <tr>\n",
       "      <th>A</th>\n",
       "      <td>8.00</td>\n",
       "      <td>25</td>\n",
       "      <td>0.12</td>\n",
       "    </tr>\n",
       "    <tr>\n",
       "      <th>B</th>\n",
       "      <td>7.06</td>\n",
       "      <td>5014</td>\n",
       "      <td>23.51</td>\n",
       "    </tr>\n",
       "    <tr>\n",
       "      <th>D</th>\n",
       "      <td>6.02</td>\n",
       "      <td>349</td>\n",
       "      <td>1.64</td>\n",
       "    </tr>\n",
       "  </tbody>\n",
       "</table>\n",
       "</div>"
      ],
      "text/plain": [
       "                       debt probability (%)  quantity  relative quantity (%)\n",
       "total_income_category                                                       \n",
       "E                                      9.09        22                   0.10\n",
       "C                                      8.50     15921                  74.64\n",
       "A                                      8.00        25                   0.12\n",
       "B                                      7.06      5014                  23.51\n",
       "D                                      6.02       349                   1.64"
      ]
     },
     "execution_count": 35,
     "metadata": {},
     "output_type": "execute_result"
    }
   ],
   "source": [
    "probability_of_debt_ver2('total_income_category')"
   ]
  },
  {
   "cell_type": "markdown",
   "id": "36668c5a",
   "metadata": {
    "deletable": false,
    "id": "e8593def"
   },
   "source": [
    "**Вывод:** \n",
    "\n",
    "Согласно проведенным рассчетам, между уровнем дохода и возвратом кредита в срок существует зависмость.\n",
    "\n",
    "В зависмости от уровня дохода вероятность задолженности составляет от 6.02 % (кат. \"D\") до 8.50 % (кат.\"С\"). При этом не целесообразно учитывать вероятность для категорий дохода \"А\" (8.00 %) и \"Е\" (9.09 %) ввиду малого количества сведений по указанным категориям в представленной выборке (всего 25 и 22 займа соответственно).\n",
    "\n",
    "Наибольшая вероятность отмечается у заемщиков с категорией дохода \"С\" (8.50 %). При этом, заемщики указанной категории составляют большую часть представленной выборки (74.64 %).\n",
    "\n",
    "Сделать вывод о том, что вероятность задолженности уменьшается с увеличением уровня дохода не представляется возможным."
   ]
  },
  {
   "cell_type": "markdown",
   "id": "898b1c1c",
   "metadata": {},
   "source": [
    "<div class=\"alert alert-success\">\n",
    "<font size=\"5\"><b>Комментарий ревьюера</b></font>\n",
    "\n",
    "Успех: Соглашусь, не все группы имеют достаточное число клиентов для построения по ним надежных выводов. \n",
    "\n",
    "</div>"
   ]
  },
  {
   "cell_type": "markdown",
   "id": "c3d0ae7c",
   "metadata": {
    "deletable": false,
    "editable": false,
    "id": "99ecbd1f"
   },
   "source": [
    "#### 3.4 Как разные цели кредита влияют на его возврат в срок?"
   ]
  },
  {
   "cell_type": "code",
   "execution_count": 36,
   "id": "dab75941",
   "metadata": {},
   "outputs": [],
   "source": [
    "#data_pivot = data.pivot_table(index='purpose_category', values='debt', aggfunc=['mean', 'count', relative_quantity])\n",
    "#data_pivot"
   ]
  },
  {
   "cell_type": "code",
   "execution_count": 37,
   "id": "a6849b92",
   "metadata": {
    "deletable": false,
    "id": "2b687290",
    "scrolled": true
   },
   "outputs": [
    {
     "data": {
      "text/html": [
       "<div>\n",
       "<style scoped>\n",
       "    .dataframe tbody tr th:only-of-type {\n",
       "        vertical-align: middle;\n",
       "    }\n",
       "\n",
       "    .dataframe tbody tr th {\n",
       "        vertical-align: top;\n",
       "    }\n",
       "\n",
       "    .dataframe thead th {\n",
       "        text-align: right;\n",
       "    }\n",
       "</style>\n",
       "<table border=\"1\" class=\"dataframe\">\n",
       "  <thead>\n",
       "    <tr style=\"text-align: right;\">\n",
       "      <th></th>\n",
       "      <th>debt probability (%)</th>\n",
       "      <th>quantity</th>\n",
       "      <th>relative quantity (%)</th>\n",
       "    </tr>\n",
       "    <tr>\n",
       "      <th>purpose_category</th>\n",
       "      <th></th>\n",
       "      <th></th>\n",
       "      <th></th>\n",
       "    </tr>\n",
       "  </thead>\n",
       "  <tbody>\n",
       "    <tr>\n",
       "      <th>операции с автомобилем</th>\n",
       "      <td>9.35</td>\n",
       "      <td>4279</td>\n",
       "      <td>20.06</td>\n",
       "    </tr>\n",
       "    <tr>\n",
       "      <th>получение образования</th>\n",
       "      <td>9.25</td>\n",
       "      <td>3988</td>\n",
       "      <td>18.70</td>\n",
       "    </tr>\n",
       "    <tr>\n",
       "      <th>проведение свадьбы</th>\n",
       "      <td>7.91</td>\n",
       "      <td>2313</td>\n",
       "      <td>10.84</td>\n",
       "    </tr>\n",
       "    <tr>\n",
       "      <th>операции с недвижимостью</th>\n",
       "      <td>7.26</td>\n",
       "      <td>10751</td>\n",
       "      <td>50.40</td>\n",
       "    </tr>\n",
       "  </tbody>\n",
       "</table>\n",
       "</div>"
      ],
      "text/plain": [
       "                          debt probability (%)  quantity  \\\n",
       "purpose_category                                           \n",
       "операции с автомобилем                    9.35      4279   \n",
       "получение образования                     9.25      3988   \n",
       "проведение свадьбы                        7.91      2313   \n",
       "операции с недвижимостью                  7.26     10751   \n",
       "\n",
       "                          relative quantity (%)  \n",
       "purpose_category                                 \n",
       "операции с автомобилем                    20.06  \n",
       "получение образования                     18.70  \n",
       "проведение свадьбы                        10.84  \n",
       "операции с недвижимостью                  50.40  "
      ]
     },
     "execution_count": 37,
     "metadata": {},
     "output_type": "execute_result"
    }
   ],
   "source": [
    "probability_of_debt_ver3('purpose_category')"
   ]
  },
  {
   "cell_type": "markdown",
   "id": "9d9dd9eb",
   "metadata": {
    "deletable": false,
    "id": "b4bb2ce6"
   },
   "source": [
    "**Вывод:** \n",
    "\n",
    "Согласно проведенным рассчетам, между целью кредита и возвратом кредита в срок существует зависмость.\n",
    "\n",
    "В зависмости от цели кредита вероятность задолженности составляет от 7.26 % (операции с недвижимостью) до 9.35 % (операции с автомобилем).\n",
    "\n",
    "При этом наиболее многочисленна категория \"операции с недвижимостью\" (50.40 % выборки)."
   ]
  },
  {
   "cell_type": "code",
   "execution_count": null,
   "id": "6ea13681",
   "metadata": {},
   "outputs": [],
   "source": []
  },
  {
   "cell_type": "markdown",
   "id": "3543a4d9",
   "metadata": {},
   "source": [
    "<div class=\"alert alert-danger\">\n",
    "<font size=\"5\"><b>Комментарий ревьюера</b></font>\n",
    "\n",
    "Ошибка: Также на данном шаге рекомендуется использовать метод сводных таблиц (pivot_table()). Однако он является аналогом метода groupby(). Изучи метод сводных таблиц и примени его хотя бы в одном пункте анализа.\n",
    "\n",
    "</div>"
   ]
  },
  {
   "cell_type": "markdown",
   "id": "de8c6d9b",
   "metadata": {},
   "source": [
    "############################################################ \\\n",
    "\\\n",
    "***Артем, я не совсем понял суть применения сводной таблицы в конкретной данной ситуации. Цель была продемонстрировать метод? Или я не так понял комментарий и что-то не то сделал?*** \\\n",
    "\\\n",
    "Пойдёт такой способ \"выделить\" мои коментарии?\\\n",
    "\\\n",
    "############################################################"
   ]
  },
  {
   "cell_type": "markdown",
   "id": "538dd2a2",
   "metadata": {},
   "source": [
    "<div class=\"alert alert-success\">\n",
    "<font size=\"5\"><b>Комментарий ревьюера 2</b></font>\n",
    "\n",
    "Успех: Да, так вполне можно выделить свои комментарии. Суть была именно о использовании метода, все верно. Сводные таблицы нам очень пригодятся в дальнейших проектах.\n",
    "</div>"
   ]
  },
  {
   "cell_type": "markdown",
   "id": "d0ec38e9",
   "metadata": {},
   "source": [
    "#### 3.5 Есть ли зависимость между трудовым стажем и возвратом кредита в срок"
   ]
  },
  {
   "cell_type": "code",
   "execution_count": 38,
   "id": "c6b2bd15",
   "metadata": {
    "scrolled": true
   },
   "outputs": [
    {
     "data": {
      "text/html": [
       "<div>\n",
       "<style scoped>\n",
       "    .dataframe tbody tr th:only-of-type {\n",
       "        vertical-align: middle;\n",
       "    }\n",
       "\n",
       "    .dataframe tbody tr th {\n",
       "        vertical-align: top;\n",
       "    }\n",
       "\n",
       "    .dataframe thead th {\n",
       "        text-align: right;\n",
       "    }\n",
       "</style>\n",
       "<table border=\"1\" class=\"dataframe\">\n",
       "  <thead>\n",
       "    <tr style=\"text-align: right;\">\n",
       "      <th></th>\n",
       "      <th>debt probability (%)</th>\n",
       "      <th>quantity</th>\n",
       "      <th>relative quantity (%)</th>\n",
       "    </tr>\n",
       "    <tr>\n",
       "      <th>days_employed_category</th>\n",
       "      <th></th>\n",
       "      <th></th>\n",
       "      <th></th>\n",
       "    </tr>\n",
       "  </thead>\n",
       "  <tbody>\n",
       "    <tr>\n",
       "      <th>E</th>\n",
       "      <td>11.24</td>\n",
       "      <td>2599</td>\n",
       "      <td>12.18</td>\n",
       "    </tr>\n",
       "    <tr>\n",
       "      <th>D</th>\n",
       "      <td>10.15</td>\n",
       "      <td>4800</td>\n",
       "      <td>22.50</td>\n",
       "    </tr>\n",
       "    <tr>\n",
       "      <th>C</th>\n",
       "      <td>8.24</td>\n",
       "      <td>5848</td>\n",
       "      <td>27.42</td>\n",
       "    </tr>\n",
       "    <tr>\n",
       "      <th>B</th>\n",
       "      <td>6.82</td>\n",
       "      <td>2491</td>\n",
       "      <td>11.68</td>\n",
       "    </tr>\n",
       "    <tr>\n",
       "      <th>Unreal</th>\n",
       "      <td>5.52</td>\n",
       "      <td>4092</td>\n",
       "      <td>19.18</td>\n",
       "    </tr>\n",
       "    <tr>\n",
       "      <th>A</th>\n",
       "      <td>5.00</td>\n",
       "      <td>1501</td>\n",
       "      <td>7.04</td>\n",
       "    </tr>\n",
       "  </tbody>\n",
       "</table>\n",
       "</div>"
      ],
      "text/plain": [
       "                        debt probability (%)  quantity  relative quantity (%)\n",
       "days_employed_category                                                       \n",
       "E                                      11.24      2599                  12.18\n",
       "D                                      10.15      4800                  22.50\n",
       "C                                       8.24      5848                  27.42\n",
       "B                                       6.82      2491                  11.68\n",
       "Unreal                                  5.52      4092                  19.18\n",
       "A                                       5.00      1501                   7.04"
      ]
     },
     "execution_count": 38,
     "metadata": {},
     "output_type": "execute_result"
    }
   ],
   "source": [
    "probability_of_debt_ver2('days_employed_category')"
   ]
  },
  {
   "cell_type": "markdown",
   "id": "802bd0a1",
   "metadata": {},
   "source": [
    "**Вывод:** \n",
    "\n",
    "Согласно проведенным рассчетам, между трудовым стажем и возвратом кредита в срок существует зависмость.\n",
    "\n",
    "В зависмости от трудового стажа вероятность задолженности составляет от 5.00 % (стаж более 5000) до 11.24 % (стаж менее 500).\n",
    "\n",
    "При этом отмечается прямая зависимость - с увеичением трудового стажа вероятность невозврата кредита в срок снижается.\n",
    "\n",
    "Кроме того, следует обратить внимание на аномально большие значения столбца days_employed (4092 строки имеют значения days_employed более 10000 - каиегория \"Ureal\"). Вероятно некорректные значения получены в результате технической ошибки при импорте данных. "
   ]
  },
  {
   "cell_type": "markdown",
   "id": "8a113315",
   "metadata": {},
   "source": [
    "<div class=\"alert alert-success\">\n",
    "<font size=\"5\"><b>Комментарий ревьюера</b></font>\n",
    "\n",
    "Успех: Круто, что ты проанализировал и этот пункт. \n",
    "\n",
    "</div>"
   ]
  },
  {
   "cell_type": "markdown",
   "id": "eb1afb39",
   "metadata": {},
   "source": [
    "#### 3.6 Есть ли зависимость между возрастом и возвратом кредита в срок"
   ]
  },
  {
   "cell_type": "code",
   "execution_count": 39,
   "id": "fa793744",
   "metadata": {
    "scrolled": true
   },
   "outputs": [
    {
     "data": {
      "text/html": [
       "<div>\n",
       "<style scoped>\n",
       "    .dataframe tbody tr th:only-of-type {\n",
       "        vertical-align: middle;\n",
       "    }\n",
       "\n",
       "    .dataframe tbody tr th {\n",
       "        vertical-align: top;\n",
       "    }\n",
       "\n",
       "    .dataframe thead th {\n",
       "        text-align: right;\n",
       "    }\n",
       "</style>\n",
       "<table border=\"1\" class=\"dataframe\">\n",
       "  <thead>\n",
       "    <tr style=\"text-align: right;\">\n",
       "      <th></th>\n",
       "      <th>debt probability (%)</th>\n",
       "      <th>quantity</th>\n",
       "      <th>relative quantity (%)</th>\n",
       "    </tr>\n",
       "    <tr>\n",
       "      <th>dob_years_category</th>\n",
       "      <th></th>\n",
       "      <th></th>\n",
       "      <th></th>\n",
       "    </tr>\n",
       "  </thead>\n",
       "  <tbody>\n",
       "    <tr>\n",
       "      <th>B</th>\n",
       "      <td>10.69</td>\n",
       "      <td>2123</td>\n",
       "      <td>9.95</td>\n",
       "    </tr>\n",
       "    <tr>\n",
       "      <th>C</th>\n",
       "      <td>8.94</td>\n",
       "      <td>12494</td>\n",
       "      <td>58.57</td>\n",
       "    </tr>\n",
       "    <tr>\n",
       "      <th>A</th>\n",
       "      <td>8.00</td>\n",
       "      <td>100</td>\n",
       "      <td>0.47</td>\n",
       "    </tr>\n",
       "    <tr>\n",
       "      <th>D</th>\n",
       "      <td>5.75</td>\n",
       "      <td>6614</td>\n",
       "      <td>31.01</td>\n",
       "    </tr>\n",
       "  </tbody>\n",
       "</table>\n",
       "</div>"
      ],
      "text/plain": [
       "                    debt probability (%)  quantity  relative quantity (%)\n",
       "dob_years_category                                                       \n",
       "B                                  10.69      2123                   9.95\n",
       "C                                   8.94     12494                  58.57\n",
       "A                                   8.00       100                   0.47\n",
       "D                                   5.75      6614                  31.01"
      ]
     },
     "execution_count": 39,
     "metadata": {},
     "output_type": "execute_result"
    }
   ],
   "source": [
    "probability_of_debt_ver2('dob_years_category')"
   ]
  },
  {
   "cell_type": "markdown",
   "id": "f1a53202",
   "metadata": {},
   "source": [
    "Проверим корректность значений столбца dob_years"
   ]
  },
  {
   "cell_type": "code",
   "execution_count": 40,
   "id": "0e4a64c7",
   "metadata": {},
   "outputs": [
    {
     "data": {
      "text/plain": [
       "array([42, 36, 33, 32, 53, 27, 43, 50, 35, 41, 40, 65, 54, 56, 26, 48, 24,\n",
       "       21, 57, 67, 28, 63, 62, 47, 34, 68, 25, 31, 30, 20, 49, 37, 45, 61,\n",
       "       64, 44, 52, 46, 23, 38, 39, 51,  0, 59, 29, 60, 55, 58, 71, 22, 73,\n",
       "       66, 69, 19, 72, 70, 74, 75])"
      ]
     },
     "execution_count": 40,
     "metadata": {},
     "output_type": "execute_result"
    }
   ],
   "source": [
    "data['dob_years'].unique()"
   ]
  },
  {
   "cell_type": "code",
   "execution_count": 41,
   "id": "71c92f2d",
   "metadata": {},
   "outputs": [
    {
     "data": {
      "text/plain": [
       "100"
      ]
     },
     "execution_count": 41,
     "metadata": {},
     "output_type": "execute_result"
    }
   ],
   "source": [
    "data[data['dob_years']==0]['dob_years'].count()"
   ]
  },
  {
   "cell_type": "markdown",
   "id": "7b8fdc9f",
   "metadata": {},
   "source": [
    "**Вывод:** \n",
    "\n",
    "Согласно проведенным рассчетам, между возрастом и возвратом кредита в срок существует зависмость.\n",
    "\n",
    "В зависмости от возраста вероятность задолженности составляет от 5.75 % до 10.69 %.\n",
    "\n",
    "Наибольшая вероятность невозврата кредита в срок в категории \"В\" (19-27 лет).\n",
    "\n",
    "Кроме того, 100 строк имеют значение dob_years == 0, что не может соответствовать действительности (возраст=0). Таким образом, в категорию \"А\" попали только некорректные данные.\n",
    "\n",
    "Таким образом, можно сделать вывод о том, что с увеличением возраста вероятность неуплаты кредита в срок снижается."
   ]
  },
  {
   "cell_type": "markdown",
   "id": "7de8c2e8",
   "metadata": {},
   "source": [
    "<div class=\"alert alert-success\">\n",
    "<font size=\"5\"><b>Комментарий ревьюера</b></font>\n",
    "\n",
    "Успех: Хорошо бы все же не просто описывать результат, но также приводить и возможные причины его получения. В остальном все здорово. \n",
    "</div>"
   ]
  },
  {
   "cell_type": "markdown",
   "id": "a8ad3bf8",
   "metadata": {},
   "source": [
    "#### 3.7 Есть ли зависимость между полом заемщика и возвратом кредита в срок"
   ]
  },
  {
   "cell_type": "code",
   "execution_count": 42,
   "id": "f4d4d9e8",
   "metadata": {
    "scrolled": true
   },
   "outputs": [
    {
     "data": {
      "text/html": [
       "<div>\n",
       "<style scoped>\n",
       "    .dataframe tbody tr th:only-of-type {\n",
       "        vertical-align: middle;\n",
       "    }\n",
       "\n",
       "    .dataframe tbody tr th {\n",
       "        vertical-align: top;\n",
       "    }\n",
       "\n",
       "    .dataframe thead th {\n",
       "        text-align: right;\n",
       "    }\n",
       "</style>\n",
       "<table border=\"1\" class=\"dataframe\">\n",
       "  <thead>\n",
       "    <tr style=\"text-align: right;\">\n",
       "      <th></th>\n",
       "      <th>debt probability (%)</th>\n",
       "      <th>quantity</th>\n",
       "      <th>relative quantity (%)</th>\n",
       "    </tr>\n",
       "    <tr>\n",
       "      <th>gender</th>\n",
       "      <th></th>\n",
       "      <th></th>\n",
       "      <th></th>\n",
       "    </tr>\n",
       "  </thead>\n",
       "  <tbody>\n",
       "    <tr>\n",
       "      <th>M</th>\n",
       "      <td>10.27</td>\n",
       "      <td>7238</td>\n",
       "      <td>33.93</td>\n",
       "    </tr>\n",
       "    <tr>\n",
       "      <th>F</th>\n",
       "      <td>7.02</td>\n",
       "      <td>14092</td>\n",
       "      <td>66.06</td>\n",
       "    </tr>\n",
       "    <tr>\n",
       "      <th>XNA</th>\n",
       "      <td>0.00</td>\n",
       "      <td>1</td>\n",
       "      <td>0.00</td>\n",
       "    </tr>\n",
       "  </tbody>\n",
       "</table>\n",
       "</div>"
      ],
      "text/plain": [
       "        debt probability (%)  quantity  relative quantity (%)\n",
       "gender                                                       \n",
       "M                      10.27      7238                  33.93\n",
       "F                       7.02     14092                  66.06\n",
       "XNA                     0.00         1                   0.00"
      ]
     },
     "execution_count": 42,
     "metadata": {},
     "output_type": "execute_result"
    }
   ],
   "source": [
    "probability_of_debt_ver2('gender')"
   ]
  },
  {
   "cell_type": "markdown",
   "id": "4f770e66",
   "metadata": {},
   "source": [
    "**Вывод:** \n",
    "\n",
    "Согласно проведенным рассчетам, между полом заемщика и возвратом кредита в срок существует зависмость.\n",
    "\n",
    "Вероятность задолженности для мужчин составляет 10.27 % против 7.02 % у женщин.\n",
    "\n",
    "Отмечается одна строка с неивестной категорией \"XNA\"."
   ]
  },
  {
   "cell_type": "markdown",
   "id": "96a57683",
   "metadata": {},
   "source": [
    "#### 3.8 Есть ли зависимость между типом занятости и возвратом кредита в срок"
   ]
  },
  {
   "cell_type": "code",
   "execution_count": 43,
   "id": "9a05d2fd",
   "metadata": {
    "scrolled": true
   },
   "outputs": [
    {
     "data": {
      "text/html": [
       "<div>\n",
       "<style scoped>\n",
       "    .dataframe tbody tr th:only-of-type {\n",
       "        vertical-align: middle;\n",
       "    }\n",
       "\n",
       "    .dataframe tbody tr th {\n",
       "        vertical-align: top;\n",
       "    }\n",
       "\n",
       "    .dataframe thead th {\n",
       "        text-align: right;\n",
       "    }\n",
       "</style>\n",
       "<table border=\"1\" class=\"dataframe\">\n",
       "  <thead>\n",
       "    <tr style=\"text-align: right;\">\n",
       "      <th></th>\n",
       "      <th>debt probability (%)</th>\n",
       "      <th>quantity</th>\n",
       "      <th>relative quantity (%)</th>\n",
       "    </tr>\n",
       "    <tr>\n",
       "      <th>income_type</th>\n",
       "      <th></th>\n",
       "      <th></th>\n",
       "      <th></th>\n",
       "    </tr>\n",
       "  </thead>\n",
       "  <tbody>\n",
       "    <tr>\n",
       "      <th>в декрете</th>\n",
       "      <td>100.00</td>\n",
       "      <td>1</td>\n",
       "      <td>0.00</td>\n",
       "    </tr>\n",
       "    <tr>\n",
       "      <th>безработный</th>\n",
       "      <td>50.00</td>\n",
       "      <td>2</td>\n",
       "      <td>0.01</td>\n",
       "    </tr>\n",
       "    <tr>\n",
       "      <th>сотрудник</th>\n",
       "      <td>9.57</td>\n",
       "      <td>11015</td>\n",
       "      <td>51.64</td>\n",
       "    </tr>\n",
       "    <tr>\n",
       "      <th>компаньон</th>\n",
       "      <td>7.41</td>\n",
       "      <td>5047</td>\n",
       "      <td>23.66</td>\n",
       "    </tr>\n",
       "    <tr>\n",
       "      <th>госслужащий</th>\n",
       "      <td>5.93</td>\n",
       "      <td>1451</td>\n",
       "      <td>6.80</td>\n",
       "    </tr>\n",
       "    <tr>\n",
       "      <th>пенсионер</th>\n",
       "      <td>5.67</td>\n",
       "      <td>3812</td>\n",
       "      <td>17.87</td>\n",
       "    </tr>\n",
       "    <tr>\n",
       "      <th>предприниматель</th>\n",
       "      <td>0.00</td>\n",
       "      <td>2</td>\n",
       "      <td>0.01</td>\n",
       "    </tr>\n",
       "    <tr>\n",
       "      <th>студент</th>\n",
       "      <td>0.00</td>\n",
       "      <td>1</td>\n",
       "      <td>0.00</td>\n",
       "    </tr>\n",
       "  </tbody>\n",
       "</table>\n",
       "</div>"
      ],
      "text/plain": [
       "                 debt probability (%)  quantity  relative quantity (%)\n",
       "income_type                                                           \n",
       "в декрете                      100.00         1                   0.00\n",
       "безработный                     50.00         2                   0.01\n",
       "сотрудник                        9.57     11015                  51.64\n",
       "компаньон                        7.41      5047                  23.66\n",
       "госслужащий                      5.93      1451                   6.80\n",
       "пенсионер                        5.67      3812                  17.87\n",
       "предприниматель                  0.00         2                   0.01\n",
       "студент                          0.00         1                   0.00"
      ]
     },
     "execution_count": 43,
     "metadata": {},
     "output_type": "execute_result"
    }
   ],
   "source": [
    "probability_of_debt_ver2('income_type')"
   ]
  },
  {
   "cell_type": "markdown",
   "id": "b4009ed4",
   "metadata": {},
   "source": [
    "**Вывод:** \n",
    "\n",
    "Согласно проведенным рассчетам, между типом занятости и возвратом кредита в срок существует зависмость.\n",
    "\n",
    "В зависмости от типа занятости вероятность задолженности составляет от 5.67 % (пенсионер) до 9.57 % (сотрудник).\n",
    "\n",
    "При этом по ряду категорий (безоаботные, в декрете, предприниматель, студент) отсутствует достаточное количество данных, однако, вероятно, имеют высокие риски невозврата кредита в срок."
   ]
  },
  {
   "cell_type": "markdown",
   "id": "f2a4b9a5",
   "metadata": {},
   "source": [
    "#### 3.9 Есть ли зависимость между уровнем образования и возвратом кредита в срок"
   ]
  },
  {
   "cell_type": "code",
   "execution_count": 44,
   "id": "0de2c8ab",
   "metadata": {
    "scrolled": true
   },
   "outputs": [
    {
     "data": {
      "text/html": [
       "<div>\n",
       "<style scoped>\n",
       "    .dataframe tbody tr th:only-of-type {\n",
       "        vertical-align: middle;\n",
       "    }\n",
       "\n",
       "    .dataframe tbody tr th {\n",
       "        vertical-align: top;\n",
       "    }\n",
       "\n",
       "    .dataframe thead th {\n",
       "        text-align: right;\n",
       "    }\n",
       "</style>\n",
       "<table border=\"1\" class=\"dataframe\">\n",
       "  <thead>\n",
       "    <tr style=\"text-align: right;\">\n",
       "      <th></th>\n",
       "      <th>debt probability (%)</th>\n",
       "      <th>quantity</th>\n",
       "      <th>relative quantity (%)</th>\n",
       "    </tr>\n",
       "    <tr>\n",
       "      <th>education</th>\n",
       "      <th></th>\n",
       "      <th></th>\n",
       "      <th></th>\n",
       "    </tr>\n",
       "  </thead>\n",
       "  <tbody>\n",
       "    <tr>\n",
       "      <th>начальное</th>\n",
       "      <td>10.99</td>\n",
       "      <td>282</td>\n",
       "      <td>1.32</td>\n",
       "    </tr>\n",
       "    <tr>\n",
       "      <th>неоконченное высшее</th>\n",
       "      <td>9.18</td>\n",
       "      <td>741</td>\n",
       "      <td>3.47</td>\n",
       "    </tr>\n",
       "    <tr>\n",
       "      <th>среднее</th>\n",
       "      <td>8.99</td>\n",
       "      <td>15075</td>\n",
       "      <td>70.67</td>\n",
       "    </tr>\n",
       "    <tr>\n",
       "      <th>высшее</th>\n",
       "      <td>5.32</td>\n",
       "      <td>5227</td>\n",
       "      <td>24.50</td>\n",
       "    </tr>\n",
       "    <tr>\n",
       "      <th>ученая степень</th>\n",
       "      <td>0.00</td>\n",
       "      <td>6</td>\n",
       "      <td>0.03</td>\n",
       "    </tr>\n",
       "  </tbody>\n",
       "</table>\n",
       "</div>"
      ],
      "text/plain": [
       "                     debt probability (%)  quantity  relative quantity (%)\n",
       "education                                                                 \n",
       "начальное                           10.99       282                   1.32\n",
       "неоконченное высшее                  9.18       741                   3.47\n",
       "среднее                              8.99     15075                  70.67\n",
       "высшее                               5.32      5227                  24.50\n",
       "ученая степень                       0.00         6                   0.03"
      ]
     },
     "execution_count": 44,
     "metadata": {},
     "output_type": "execute_result"
    }
   ],
   "source": [
    "probability_of_debt_ver2('education')"
   ]
  },
  {
   "cell_type": "markdown",
   "id": "90c8f55b",
   "metadata": {},
   "source": [
    "**Вывод:** \n",
    "\n",
    "Согласно проведенным рассчетам, между уровнем образования и возвратом кредита в срок существует зависмость.\n",
    "\n",
    "В зависмости от уровня образования вероятность задолженности составляет от 5.32 % (высшее) до 10.99 % (начальное).\n",
    "\n",
    "При этом по категори \"ученая степень\" отсутствует достаточное количество данных."
   ]
  },
  {
   "cell_type": "markdown",
   "id": "1db12c06",
   "metadata": {},
   "source": [
    "<div class=\"alert alert-success\">\n",
    "<font size=\"5\"><b>Комментарий ревьюера</b></font>\n",
    "\n",
    "Успех: Круто, что ты проанализировал все характеристики клиентов 👍 \n",
    "\n",
    "</div>"
   ]
  },
  {
   "cell_type": "markdown",
   "id": "288a427e",
   "metadata": {
    "deletable": false,
    "editable": false,
    "id": "09c3ac4c"
   },
   "source": [
    "#### 3.5 Приведите возможные причины появления пропусков в исходных данных."
   ]
  },
  {
   "cell_type": "markdown",
   "id": "65e7bed8",
   "metadata": {
    "deletable": false,
    "id": "9da2ceda"
   },
   "source": [
    "*Ответ:* Исходные данные содержат пропуски в столбцах 'days_employed' и 'total_income'. Причем, строки пропусков совпадают. На основании чего можно сделать вывод о том, что пропуски связаны с непредставлением сведений с места работы заемщика или утратой указанных сведений в результате технической ошибки при импорте данных."
   ]
  },
  {
   "cell_type": "markdown",
   "id": "64d5ec75",
   "metadata": {},
   "source": [
    "<div class=\"alert alert-warning\">\n",
    "<font size=\"5\"><b>Комментарий ревьюера</b></font>\n",
    "  \n",
    "Совет: Все же доход является важным пунктом при рассмотрении заявки. Больше похоже на то, что мы имеем техническую ошибку при импорте данных. Однако точного ответа тут нет, поэтому оставим текущий вариант. \n",
    "\n",
    "</div>"
   ]
  },
  {
   "cell_type": "markdown",
   "id": "3c961865",
   "metadata": {
    "deletable": false,
    "editable": false,
    "id": "7b0487d6"
   },
   "source": [
    "#### 3.6 Объясните, почему заполнить пропуски медианным значением — лучшее решение для количественных переменных."
   ]
  },
  {
   "cell_type": "markdown",
   "id": "d30a2920",
   "metadata": {
    "deletable": false,
    "id": "7ecf2b8e"
   },
   "source": [
    "*Ответ:* Медиана лучше всего отражает выборку количественных переменных в целом, так как на нее не влияют случайные выбросы и шум."
   ]
  },
  {
   "cell_type": "markdown",
   "id": "cda30b68",
   "metadata": {},
   "source": [
    "<div class=\"alert alert-success\">\n",
    "<font size=\"5\"><b>Комментарий ревьюера</b></font>\n",
    "\n",
    "Успех: Все верно, медиана более устойчива к наличию выбросов в данных.\n",
    "\n",
    "</div>"
   ]
  },
  {
   "cell_type": "markdown",
   "id": "a09d3287",
   "metadata": {
    "deletable": false,
    "editable": false,
    "id": "6db5255a"
   },
   "source": [
    "### Шаг 4: общий вывод."
   ]
  },
  {
   "cell_type": "markdown",
   "id": "3a3883b4",
   "metadata": {
    "deletable": false,
    "id": "bad65432"
   },
   "source": [
    "**Общий вывод.**\n",
    "\n"
   ]
  },
  {
   "cell_type": "markdown",
   "id": "f79ca402",
   "metadata": {},
   "source": [
    "На основании проведенных рассчетов можно сделать вывод о том, что все представленные метрики в той или иной степени вляют на вероятность оплаты кредита в срок.\n",
    "\n",
    "**Влияние установленных заданием метрик:**\n",
    "\n",
    "- **Количество детей**\n",
    "\n",
    "В зависмости от количества детей вероятность задолженности составляет от 7.54 % до 9.76 %. При этом не целесообразно учитывать вероятность 0 % для категории с 5 детьми ввиду малого количества сведений по указанной категории в представленной выборке (всего 9 займов).\n",
    "\n",
    "Наименьшая вероятность задолженности у категории заемщиков без детей (7.54 %). При этом, заемщики указанной категории составляют большую часть представленной выборки (66.06 %).\n",
    "\n",
    "Наибольшая вероятность отмечается в категории с 4 детьми (9.76 %).\n",
    "\n",
    "При этом сделать вывод о том, что вероятность задолженности увеличивается с количеством детей не представляется возможным.\n",
    "\n",
    "- **Семейное положение** \n",
    "\n",
    "В зависмости от семейного положения вероятность задолженности составляет от 6.62 % (вдовец / вдова) до 9.76 % (Не женат / не замужем).\n",
    "\n",
    "При этом наиболее многочисленна категория \"женат / замужем\" (57.48 % выборки) с верочятностью задолженности 7.56 %.\n",
    "\n",
    "Кроме того отмечается, что наименования категорий сатуса семейного положения могут вводить в заблуждение. Например, \"в разводе\" и \"вдовец/вдова\" могут принадлежать к категории \"Не женат / не замужем\". И наоборот. Что может повлиять на результаты исследования.\n",
    "\n",
    "- **Уровень дохода** \n",
    "\n",
    "В зависмости от уровня дохода вероятность задолженности составляет от 6.02 % (кат. \"D\") до 8.50 % (кат.\"С\"). При этом не целесообразно учитывать вероятность для категорий дохода \"А\" (8.00 %) и \"Е\" (9.09 %) ввиду малого количества сведений по указанным категориям в представленной выборке (всего 25 и 22 займа соответственно).\n",
    "\n",
    "Наибольшая вероятность отмечается у заемщиков с категорией дохода \"С\" (8.50 %). При этом, заемщики указанной категории составляют большую часть представленной выборки (74.64 %).\n",
    "\n",
    "Сделать вывод о том, что вероятность задолженности уменьшается с увеличением уровня дохода не представляется возможным.\n",
    "\n",
    "- **Цель кредита** \n",
    "\n",
    "В зависмости от цели кредита вероятность задолженности составляет от 7.26 % (операции с недвижимостью) до 9.35 % (операции с автомобилем).\n",
    "\n",
    "При этом наиболее многочисленна категория \"операции с недвижимостью\" (50.40 % выборки).\n",
    "\n",
    "**Влияние дополнительных метрик:**\n",
    "\n",
    "- *Трудовой стаж*\n",
    "\n",
    "В зависмости от трудового стажа вероятность задолженности составляет от 5.00 % (стаж более 5000) до 11.24 % (стаж менее 500).\n",
    "\n",
    "При этом отмечается прямая зависимость - с увеичением трудового стажа вероятность невозврата кредита в срок снижается.\n",
    "\n",
    "Кроме того, следует обратить внимание на аномально большие значения столбца days_employed (4092 строки имеют значения days_employed более 10000 - каиегория \"Ureal\"). Вероятно некорректные значения получены в результате технической ошибки при импорте данных. \n",
    "\n",
    "- *Возраст*\n",
    "\n",
    "В зависмости от возраста вероятность задолженности составляет от 5.75 % до 10.69 %.\n",
    "\n",
    "Наибольшая вероятность невозврата кредита в срок в категории \"В\" (19-27 лет).\n",
    "\n",
    "Кроме того, 100 строк имеют значение dob_years == 0, что не может соответствовать действительности (возраст=0). Таким образом, в категорию \"А\" попали только некорректные данные.\n",
    "\n",
    "Таким образом, можно сделать вывод о том, что с увеличением возраста вероятность неуплаты кредита в срок снижается.\n",
    "\n",
    "- *Пол заемщика*\n",
    "\n",
    "Вероятность задолженности для мужчин составляет 10.27 % против 7.02 % у женщин.\n",
    "\n",
    "Отмечается одна строка с неивестной категорией \"XNA\".\n",
    "\n",
    "- *Тип занятости*\n",
    "\n",
    "В зависмости от типа занятости вероятность задолженности составляет от 5.67 % (пенсионер) до 9.57 % (сотрудник).\n",
    "\n",
    "При этом по ряду категорий (безоаботные, в декрете, предприниматель, студент) отсутствует достаточное количество данных, однако, вероятно, имеют высокие риски невозврата кредита в срок.\n",
    "\n",
    "- *Уровень образования*\n",
    "\n",
    "В зависмости от уровня образования вероятность задолженности составляет от 5.32 % (высшее) до 10.99 % (начальное).\n",
    "\n",
    "При этом по категори \"ученая степень\" отсутствует достаточное количество данных."
   ]
  },
  {
   "cell_type": "markdown",
   "id": "a052af16",
   "metadata": {},
   "source": [
    "<div class=\"alert alert-danger\">\n",
    "<font size=\"5\"><b>Комментарий ревьюера</b></font>\n",
    "\n",
    "Ошибка: Финальный вывод и есть главный результат твоей работы. Стоит писать его подробно по результатам проведенной работы. В задании у нас перечислены основные параметры, которые мы должны были проанализировать. Поэтому им в выводе стоит уделить больше внимания. Также можно расписать все, что было сделано в работе (этот пункт опциональный).\n",
    "\n",
    "</div>"
   ]
  },
  {
   "cell_type": "markdown",
   "id": "d9a106dc",
   "metadata": {},
   "source": [
    "<div class=\"alert alert-success\">\n",
    "<font size=\"5\"><b>Комментарий ревьюера 2</b></font>\n",
    "\n",
    "Успех: Выводы описаны грамотно. Приведены ответы на главные вопросы проекта. В выводах можно приводить полученные ранее значения, правильно. Также можно расписать все, что было сделано в ходе проведения работы. Еще лучше будет, если приведешь рекомендации для компании по дальнейшим действиям. \n",
    "\n",
    "</div>"
   ]
  },
  {
   "cell_type": "markdown",
   "id": "76b27f5e",
   "metadata": {},
   "source": [
    "<div class=\"alert alert-info\">\n",
    "<font size=\"5\"><b>Комментарий ревьюера</b></font>\n",
    "\n",
    "Ты проделал большую работу, молодец! Ты овладел важными на данном этапе обучения инструментами, а также довольно качественно их используешь. Критических замечаний немного. Однако их важно исправить. Также есть несколько желтых комментариев. Думаю, исправить и их тебе не составит труда. Жду твою работу :)\n",
    "\n",
    "</div>"
   ]
  },
  {
   "cell_type": "markdown",
   "id": "99a6c64b",
   "metadata": {},
   "source": [
    "<div class=\"alert alert-success\">\n",
    "<font size=\"5\"><b>Комментарий ревьюера 2</b></font>\n",
    "\n",
    "Теперь все сделано здорово. Ты проделал классную работу, молодец. Поздравляю с ее завершением. Надеюсь, проект был интересен и поставлен. Продолжай в том же духе. Успехов в дальнейшем пути :)\n",
    "</div>"
   ]
  }
 ],
 "metadata": {
  "ExecuteTimeLog": [
   {
    "duration": 517,
    "start_time": "2024-07-25T15:42:02.485Z"
   },
   {
    "duration": 79,
    "start_time": "2024-07-25T15:42:05.366Z"
   },
   {
    "duration": 56,
    "start_time": "2024-07-25T15:42:06.232Z"
   },
   {
    "duration": 76,
    "start_time": "2024-07-25T15:42:06.837Z"
   },
   {
    "duration": 57,
    "start_time": "2024-07-25T15:42:07.059Z"
   },
   {
    "duration": 57,
    "start_time": "2024-07-25T15:42:07.671Z"
   },
   {
    "duration": 77,
    "start_time": "2024-07-25T15:42:09.008Z"
   },
   {
    "duration": 77,
    "start_time": "2024-07-25T15:42:14.314Z"
   },
   {
    "duration": 23,
    "start_time": "2024-07-25T15:42:28.362Z"
   },
   {
    "duration": 697,
    "start_time": "2024-07-29T10:39:46.587Z"
   },
   {
    "duration": 19,
    "start_time": "2024-07-29T10:39:59.867Z"
   },
   {
    "duration": 15,
    "start_time": "2024-07-29T10:40:06.613Z"
   },
   {
    "duration": 35,
    "start_time": "2024-07-29T10:45:04.555Z"
   },
   {
    "duration": 4,
    "start_time": "2024-07-29T10:45:08.869Z"
   },
   {
    "duration": 7,
    "start_time": "2024-07-29T10:45:11.759Z"
   },
   {
    "duration": 33,
    "start_time": "2024-07-29T10:46:27.481Z"
   },
   {
    "duration": 11,
    "start_time": "2024-07-29T10:46:30.769Z"
   },
   {
    "duration": 4,
    "start_time": "2024-07-29T10:47:17.390Z"
   },
   {
    "duration": 13,
    "start_time": "2024-07-29T10:47:18.912Z"
   },
   {
    "duration": 20,
    "start_time": "2024-07-29T10:47:26.072Z"
   },
   {
    "duration": 4,
    "start_time": "2024-07-29T10:48:38.890Z"
   },
   {
    "duration": 10,
    "start_time": "2024-07-29T10:48:58.012Z"
   },
   {
    "duration": 5,
    "start_time": "2024-07-29T10:49:01.535Z"
   },
   {
    "duration": 3,
    "start_time": "2024-07-29T10:49:03.832Z"
   },
   {
    "duration": 4,
    "start_time": "2024-07-29T10:49:30.431Z"
   },
   {
    "duration": 8,
    "start_time": "2024-07-29T10:49:31.250Z"
   },
   {
    "duration": 23,
    "start_time": "2024-07-29T10:53:20.988Z"
   },
   {
    "duration": 15,
    "start_time": "2024-07-29T10:54:32.433Z"
   },
   {
    "duration": 5,
    "start_time": "2024-07-29T10:56:52.344Z"
   },
   {
    "duration": 10,
    "start_time": "2024-07-29T11:02:07.185Z"
   },
   {
    "duration": 8,
    "start_time": "2024-07-29T11:02:08.773Z"
   },
   {
    "duration": 75,
    "start_time": "2024-07-29T11:02:15.368Z"
   },
   {
    "duration": 8,
    "start_time": "2024-07-29T11:02:20.418Z"
   },
   {
    "duration": 12,
    "start_time": "2024-07-29T11:04:11.231Z"
   },
   {
    "duration": 10,
    "start_time": "2024-07-29T11:04:37.579Z"
   },
   {
    "duration": 11,
    "start_time": "2024-07-29T11:04:57.569Z"
   },
   {
    "duration": 10,
    "start_time": "2024-07-29T11:08:04.833Z"
   },
   {
    "duration": 11,
    "start_time": "2024-07-29T11:08:19.363Z"
   },
   {
    "duration": 11,
    "start_time": "2024-07-29T11:08:27.972Z"
   },
   {
    "duration": 17,
    "start_time": "2024-07-29T11:10:43.401Z"
   },
   {
    "duration": 82,
    "start_time": "2024-07-29T11:11:59.726Z"
   },
   {
    "duration": 76,
    "start_time": "2024-07-29T11:12:29.442Z"
   },
   {
    "duration": 13,
    "start_time": "2024-07-29T11:12:54.461Z"
   },
   {
    "duration": 14,
    "start_time": "2024-07-29T11:13:41.217Z"
   },
   {
    "duration": 15,
    "start_time": "2024-07-29T11:15:00.587Z"
   },
   {
    "duration": 13,
    "start_time": "2024-07-29T11:15:13.063Z"
   },
   {
    "duration": 33,
    "start_time": "2024-07-29T11:16:32.783Z"
   },
   {
    "duration": 6,
    "start_time": "2024-07-29T11:16:54.450Z"
   },
   {
    "duration": 15,
    "start_time": "2024-07-29T11:49:02.612Z"
   },
   {
    "duration": 12,
    "start_time": "2024-07-29T11:49:04.853Z"
   },
   {
    "duration": 6,
    "start_time": "2024-07-29T11:49:25.589Z"
   },
   {
    "duration": 13,
    "start_time": "2024-07-29T11:52:30.017Z"
   },
   {
    "duration": 15,
    "start_time": "2024-07-29T11:53:16.199Z"
   },
   {
    "duration": 14,
    "start_time": "2024-07-29T11:54:39.066Z"
   },
   {
    "duration": 14,
    "start_time": "2024-07-29T11:54:47.950Z"
   },
   {
    "duration": 3,
    "start_time": "2024-07-29T12:08:26.487Z"
   },
   {
    "duration": 4,
    "start_time": "2024-07-29T12:16:52.607Z"
   },
   {
    "duration": 75,
    "start_time": "2024-07-29T12:17:37.301Z"
   },
   {
    "duration": 4,
    "start_time": "2024-07-29T12:19:22.544Z"
   },
   {
    "duration": 10,
    "start_time": "2024-07-29T12:19:23.793Z"
   },
   {
    "duration": 5,
    "start_time": "2024-07-29T12:20:05.809Z"
   },
   {
    "duration": 4,
    "start_time": "2024-07-29T12:20:15.697Z"
   },
   {
    "duration": 4,
    "start_time": "2024-07-29T12:21:10.239Z"
   },
   {
    "duration": 13,
    "start_time": "2024-07-29T12:21:10.923Z"
   },
   {
    "duration": 3,
    "start_time": "2024-07-29T12:22:10.108Z"
   },
   {
    "duration": 1093,
    "start_time": "2024-07-29T12:22:12.114Z"
   },
   {
    "duration": 4,
    "start_time": "2024-07-29T12:22:49.521Z"
   },
   {
    "duration": 3,
    "start_time": "2024-07-29T12:24:52.370Z"
   },
   {
    "duration": 1081,
    "start_time": "2024-07-29T12:24:53.074Z"
   },
   {
    "duration": 4,
    "start_time": "2024-07-29T12:35:01.100Z"
   },
   {
    "duration": 745,
    "start_time": "2024-07-29T12:35:01.884Z"
   },
   {
    "duration": 5,
    "start_time": "2024-07-29T12:35:53.120Z"
   },
   {
    "duration": 630,
    "start_time": "2024-07-29T12:35:54.089Z"
   },
   {
    "duration": 3,
    "start_time": "2024-07-29T12:36:54.761Z"
   },
   {
    "duration": 3,
    "start_time": "2024-07-29T12:38:07.568Z"
   },
   {
    "duration": 631,
    "start_time": "2024-07-29T12:38:09.402Z"
   },
   {
    "duration": 3,
    "start_time": "2024-07-29T12:40:03.594Z"
   },
   {
    "duration": 9,
    "start_time": "2024-07-29T12:40:06.914Z"
   },
   {
    "duration": 4,
    "start_time": "2024-07-29T12:40:27.744Z"
   },
   {
    "duration": 10,
    "start_time": "2024-07-29T12:40:29.513Z"
   },
   {
    "duration": 4,
    "start_time": "2024-07-29T12:44:33.276Z"
   },
   {
    "duration": 4,
    "start_time": "2024-07-29T12:44:38.302Z"
   },
   {
    "duration": 4,
    "start_time": "2024-07-29T12:46:07.081Z"
   },
   {
    "duration": 10,
    "start_time": "2024-07-29T12:46:08.661Z"
   },
   {
    "duration": 4,
    "start_time": "2024-07-29T12:46:33.810Z"
   },
   {
    "duration": 10,
    "start_time": "2024-07-29T12:46:36.105Z"
   },
   {
    "duration": 5,
    "start_time": "2024-07-29T12:47:03.209Z"
   },
   {
    "duration": 11,
    "start_time": "2024-07-29T12:47:05.146Z"
   },
   {
    "duration": 6,
    "start_time": "2024-07-29T12:47:33.047Z"
   },
   {
    "duration": 11,
    "start_time": "2024-07-29T12:47:34.338Z"
   },
   {
    "duration": 85,
    "start_time": "2024-07-29T12:51:13.514Z"
   },
   {
    "duration": 72,
    "start_time": "2024-07-29T12:51:15.346Z"
   },
   {
    "duration": 71,
    "start_time": "2024-07-29T12:51:50.908Z"
   },
   {
    "duration": 4,
    "start_time": "2024-07-29T12:52:20.685Z"
   },
   {
    "duration": 12,
    "start_time": "2024-07-29T12:52:22.093Z"
   },
   {
    "duration": 4,
    "start_time": "2024-07-29T12:53:36.104Z"
   },
   {
    "duration": 951,
    "start_time": "2024-07-29T12:54:03.820Z"
   },
   {
    "duration": 23,
    "start_time": "2024-07-29T12:54:12.221Z"
   },
   {
    "duration": 10,
    "start_time": "2024-07-29T12:54:28.248Z"
   },
   {
    "duration": 21,
    "start_time": "2024-07-29T12:54:39.787Z"
   },
   {
    "duration": 19,
    "start_time": "2024-07-29T12:55:31.264Z"
   },
   {
    "duration": 21,
    "start_time": "2024-07-29T12:56:06.740Z"
   },
   {
    "duration": 19,
    "start_time": "2024-07-29T12:56:29.273Z"
   },
   {
    "duration": 10,
    "start_time": "2024-07-29T12:57:10.250Z"
   },
   {
    "duration": 4,
    "start_time": "2024-07-29T12:59:25.250Z"
   },
   {
    "duration": 10,
    "start_time": "2024-07-29T12:59:27.081Z"
   },
   {
    "duration": 23,
    "start_time": "2024-07-29T12:59:31.303Z"
   },
   {
    "duration": 22,
    "start_time": "2024-07-29T12:59:36.335Z"
   },
   {
    "duration": 19,
    "start_time": "2024-07-29T12:59:46.252Z"
   },
   {
    "duration": 4,
    "start_time": "2024-07-29T13:00:15.421Z"
   },
   {
    "duration": 11,
    "start_time": "2024-07-29T13:00:18.137Z"
   },
   {
    "duration": 5,
    "start_time": "2024-07-29T13:00:37.882Z"
   },
   {
    "duration": 11,
    "start_time": "2024-07-29T13:00:39.725Z"
   },
   {
    "duration": 6,
    "start_time": "2024-07-29T13:13:28.200Z"
   },
   {
    "duration": 12,
    "start_time": "2024-07-29T13:13:30.084Z"
   },
   {
    "duration": 4,
    "start_time": "2024-07-29T13:13:57.218Z"
   },
   {
    "duration": 14,
    "start_time": "2024-07-29T13:13:58.366Z"
   },
   {
    "duration": 21,
    "start_time": "2024-07-29T13:14:03.535Z"
   },
   {
    "duration": 5,
    "start_time": "2024-07-29T13:14:10.228Z"
   },
   {
    "duration": 11,
    "start_time": "2024-07-29T13:14:11.338Z"
   },
   {
    "duration": 21,
    "start_time": "2024-07-29T13:14:13.480Z"
   },
   {
    "duration": 22,
    "start_time": "2024-07-29T13:14:16.556Z"
   },
   {
    "duration": 19,
    "start_time": "2024-07-29T13:14:19.028Z"
   },
   {
    "duration": 4,
    "start_time": "2024-07-29T13:14:40.205Z"
   },
   {
    "duration": 11,
    "start_time": "2024-07-29T13:14:41.755Z"
   },
   {
    "duration": 21,
    "start_time": "2024-07-29T13:14:43.990Z"
   },
   {
    "duration": 21,
    "start_time": "2024-07-29T13:14:46.469Z"
   },
   {
    "duration": 17,
    "start_time": "2024-07-29T13:14:48.442Z"
   },
   {
    "duration": 75,
    "start_time": "2024-07-29T13:38:31.448Z"
   },
   {
    "duration": 6,
    "start_time": "2024-07-29T13:40:14.881Z"
   },
   {
    "duration": 5,
    "start_time": "2024-07-29T13:40:23.481Z"
   },
   {
    "duration": 4,
    "start_time": "2024-07-29T13:40:25.343Z"
   },
   {
    "duration": 21,
    "start_time": "2024-07-29T13:40:32.013Z"
   },
   {
    "duration": 4,
    "start_time": "2024-07-29T14:23:02.464Z"
   },
   {
    "duration": 12,
    "start_time": "2024-07-29T14:23:03.691Z"
   },
   {
    "duration": 24,
    "start_time": "2024-07-29T14:23:07.051Z"
   },
   {
    "duration": 1443,
    "start_time": "2024-07-29T14:23:08.822Z"
   },
   {
    "duration": 437,
    "start_time": "2024-07-29T14:23:30.137Z"
   },
   {
    "duration": 22,
    "start_time": "2024-07-29T14:23:30.576Z"
   },
   {
    "duration": 78,
    "start_time": "2024-07-29T14:23:30.599Z"
   },
   {
    "duration": 35,
    "start_time": "2024-07-29T14:23:30.679Z"
   },
   {
    "duration": 63,
    "start_time": "2024-07-29T14:23:30.715Z"
   },
   {
    "duration": 35,
    "start_time": "2024-07-29T14:23:30.780Z"
   },
   {
    "duration": 68,
    "start_time": "2024-07-29T14:23:30.817Z"
   },
   {
    "duration": 46,
    "start_time": "2024-07-29T14:23:30.887Z"
   },
   {
    "duration": 39,
    "start_time": "2024-07-29T14:23:30.934Z"
   },
   {
    "duration": 57,
    "start_time": "2024-07-29T14:23:30.976Z"
   },
   {
    "duration": 73,
    "start_time": "2024-07-29T14:23:31.035Z"
   },
   {
    "duration": 29,
    "start_time": "2024-07-29T14:23:31.110Z"
   },
   {
    "duration": 164,
    "start_time": "2024-07-29T14:23:31.141Z"
   },
   {
    "duration": 50,
    "start_time": "2024-07-29T14:23:31.306Z"
   },
   {
    "duration": 58,
    "start_time": "2024-07-29T14:23:31.358Z"
   },
   {
    "duration": 51,
    "start_time": "2024-07-29T14:23:31.418Z"
   },
   {
    "duration": 35,
    "start_time": "2024-07-29T14:23:31.470Z"
   },
   {
    "duration": 72,
    "start_time": "2024-07-29T14:23:31.507Z"
   },
   {
    "duration": 28,
    "start_time": "2024-07-29T14:23:31.580Z"
   },
   {
    "duration": 23,
    "start_time": "2024-07-29T14:23:31.609Z"
   },
   {
    "duration": 32,
    "start_time": "2024-07-29T14:23:31.634Z"
   },
   {
    "duration": 16,
    "start_time": "2024-07-29T14:23:31.668Z"
   },
   {
    "duration": 44,
    "start_time": "2024-07-29T14:23:31.685Z"
   },
   {
    "duration": 54,
    "start_time": "2024-07-29T14:23:31.730Z"
   },
   {
    "duration": 21,
    "start_time": "2024-07-29T14:23:31.786Z"
   },
   {
    "duration": 17,
    "start_time": "2024-07-29T14:23:31.808Z"
   },
   {
    "duration": 4,
    "start_time": "2024-07-29T14:25:56.005Z"
   },
   {
    "duration": 10,
    "start_time": "2024-07-29T14:25:57.052Z"
   },
   {
    "duration": 5,
    "start_time": "2024-07-29T14:26:09.041Z"
   },
   {
    "duration": 10,
    "start_time": "2024-07-29T14:26:09.967Z"
   },
   {
    "duration": 22,
    "start_time": "2024-07-29T14:47:59.444Z"
   },
   {
    "duration": 22,
    "start_time": "2024-07-29T14:49:26.604Z"
   },
   {
    "duration": 23,
    "start_time": "2024-07-29T15:01:49.291Z"
   },
   {
    "duration": 11,
    "start_time": "2024-07-29T15:04:54.543Z"
   },
   {
    "duration": 14,
    "start_time": "2024-07-29T15:05:08.566Z"
   },
   {
    "duration": 21,
    "start_time": "2024-07-29T15:05:48.817Z"
   },
   {
    "duration": 66,
    "start_time": "2024-07-29T15:06:17.120Z"
   },
   {
    "duration": 14,
    "start_time": "2024-07-29T15:06:24.024Z"
   },
   {
    "duration": 23,
    "start_time": "2024-07-29T15:06:34.681Z"
   },
   {
    "duration": 6,
    "start_time": "2024-07-29T15:11:14.371Z"
   },
   {
    "duration": 20,
    "start_time": "2024-07-29T15:11:21.452Z"
   },
   {
    "duration": 10,
    "start_time": "2024-07-29T15:11:38.393Z"
   },
   {
    "duration": 4,
    "start_time": "2024-07-29T15:13:23.542Z"
   },
   {
    "duration": 855,
    "start_time": "2024-07-29T15:14:41.377Z"
   },
   {
    "duration": 26,
    "start_time": "2024-07-29T15:15:09.219Z"
   },
   {
    "duration": 23,
    "start_time": "2024-07-29T15:16:03.339Z"
   },
   {
    "duration": 84,
    "start_time": "2024-07-29T15:17:05.252Z"
   },
   {
    "duration": 7,
    "start_time": "2024-07-29T15:17:12.910Z"
   },
   {
    "duration": 8,
    "start_time": "2024-07-29T15:17:37.712Z"
   },
   {
    "duration": 2,
    "start_time": "2024-07-29T15:17:56.341Z"
   },
   {
    "duration": 2,
    "start_time": "2024-07-29T15:18:00.387Z"
   },
   {
    "duration": 3,
    "start_time": "2024-07-29T15:18:07.208Z"
   },
   {
    "duration": 4,
    "start_time": "2024-07-29T15:18:14.755Z"
   },
   {
    "duration": 3,
    "start_time": "2024-07-29T15:18:22.941Z"
   },
   {
    "duration": 3,
    "start_time": "2024-07-29T15:20:12.537Z"
   },
   {
    "duration": 3,
    "start_time": "2024-07-29T15:20:33.213Z"
   },
   {
    "duration": 87,
    "start_time": "2024-07-29T15:22:47.930Z"
   },
   {
    "duration": 89,
    "start_time": "2024-07-29T15:22:59.208Z"
   },
   {
    "duration": 5,
    "start_time": "2024-07-29T15:24:43.216Z"
   },
   {
    "duration": 9,
    "start_time": "2024-07-29T15:24:44.749Z"
   },
   {
    "duration": 5,
    "start_time": "2024-07-29T15:25:02.379Z"
   },
   {
    "duration": 1244,
    "start_time": "2024-07-29T15:25:03.306Z"
   },
   {
    "duration": 5,
    "start_time": "2024-07-29T15:26:32.529Z"
   },
   {
    "duration": 1102,
    "start_time": "2024-07-29T15:26:33.836Z"
   },
   {
    "duration": 5,
    "start_time": "2024-07-29T15:52:16.409Z"
   },
   {
    "duration": 677,
    "start_time": "2024-07-29T15:52:17.617Z"
   },
   {
    "duration": 4,
    "start_time": "2024-07-29T15:55:02.889Z"
   },
   {
    "duration": 643,
    "start_time": "2024-07-29T15:55:04.651Z"
   },
   {
    "duration": 521,
    "start_time": "2024-07-29T16:01:24.653Z"
   },
   {
    "duration": 21,
    "start_time": "2024-07-29T16:01:25.176Z"
   },
   {
    "duration": 15,
    "start_time": "2024-07-29T16:01:25.199Z"
   },
   {
    "duration": 10,
    "start_time": "2024-07-29T16:01:25.216Z"
   },
   {
    "duration": 33,
    "start_time": "2024-07-29T16:01:25.228Z"
   },
   {
    "duration": 3,
    "start_time": "2024-07-29T16:01:25.283Z"
   },
   {
    "duration": 9,
    "start_time": "2024-07-29T16:01:25.288Z"
   },
   {
    "duration": 4,
    "start_time": "2024-07-29T16:01:25.298Z"
   },
   {
    "duration": 14,
    "start_time": "2024-07-29T16:01:25.303Z"
   },
   {
    "duration": 10,
    "start_time": "2024-07-29T16:01:25.318Z"
   },
   {
    "duration": 38,
    "start_time": "2024-07-29T16:01:25.330Z"
   },
   {
    "duration": 19,
    "start_time": "2024-07-29T16:01:25.370Z"
   },
   {
    "duration": 3,
    "start_time": "2024-07-29T16:01:25.391Z"
   },
   {
    "duration": 15,
    "start_time": "2024-07-29T16:01:25.397Z"
   },
   {
    "duration": 18,
    "start_time": "2024-07-29T16:01:25.414Z"
   },
   {
    "duration": 49,
    "start_time": "2024-07-29T16:01:25.433Z"
   },
   {
    "duration": 4,
    "start_time": "2024-07-29T16:01:25.483Z"
   },
   {
    "duration": 12,
    "start_time": "2024-07-29T16:01:25.488Z"
   },
   {
    "duration": 6,
    "start_time": "2024-07-29T16:01:25.501Z"
   },
   {
    "duration": 4,
    "start_time": "2024-07-29T16:01:25.508Z"
   },
   {
    "duration": 11,
    "start_time": "2024-07-29T16:01:25.513Z"
   },
   {
    "duration": 8,
    "start_time": "2024-07-29T16:01:25.526Z"
   },
   {
    "duration": 19,
    "start_time": "2024-07-29T16:01:25.535Z"
   },
   {
    "duration": 752,
    "start_time": "2024-07-29T16:01:25.556Z"
   },
   {
    "duration": 0,
    "start_time": "2024-07-29T16:01:26.309Z"
   },
   {
    "duration": 0,
    "start_time": "2024-07-29T16:01:26.310Z"
   },
   {
    "duration": 0,
    "start_time": "2024-07-29T16:01:26.311Z"
   },
   {
    "duration": 0,
    "start_time": "2024-07-29T16:01:26.312Z"
   },
   {
    "duration": 0,
    "start_time": "2024-07-29T16:01:26.313Z"
   },
   {
    "duration": 4,
    "start_time": "2024-07-29T16:07:51.686Z"
   },
   {
    "duration": 4,
    "start_time": "2024-07-29T16:07:52.873Z"
   },
   {
    "duration": 4,
    "start_time": "2024-07-29T16:09:39.457Z"
   },
   {
    "duration": 711,
    "start_time": "2024-07-29T16:09:40.565Z"
   },
   {
    "duration": 4,
    "start_time": "2024-07-29T16:11:00.572Z"
   },
   {
    "duration": 5,
    "start_time": "2024-07-29T16:11:00.916Z"
   },
   {
    "duration": 664,
    "start_time": "2024-07-29T16:11:02.697Z"
   },
   {
    "duration": 3,
    "start_time": "2024-07-29T16:11:12.805Z"
   },
   {
    "duration": 4,
    "start_time": "2024-07-29T16:11:18.054Z"
   },
   {
    "duration": 5,
    "start_time": "2024-07-29T16:11:21.707Z"
   },
   {
    "duration": 4,
    "start_time": "2024-07-29T16:14:20.152Z"
   },
   {
    "duration": 6,
    "start_time": "2024-07-29T16:14:22.674Z"
   },
   {
    "duration": 3,
    "start_time": "2024-07-29T16:14:43.709Z"
   },
   {
    "duration": 6,
    "start_time": "2024-07-29T16:14:45.721Z"
   },
   {
    "duration": 5,
    "start_time": "2024-07-29T16:17:22.046Z"
   },
   {
    "duration": 7,
    "start_time": "2024-07-29T16:17:24.892Z"
   },
   {
    "duration": 6,
    "start_time": "2024-07-29T16:17:30.201Z"
   },
   {
    "duration": 5,
    "start_time": "2024-07-29T16:18:00.194Z"
   },
   {
    "duration": 16,
    "start_time": "2024-07-29T16:18:07.208Z"
   },
   {
    "duration": 4,
    "start_time": "2024-07-29T16:18:43.992Z"
   },
   {
    "duration": 14,
    "start_time": "2024-07-29T16:18:47.033Z"
   },
   {
    "duration": 5,
    "start_time": "2024-07-29T16:20:10.771Z"
   },
   {
    "duration": 13,
    "start_time": "2024-07-29T16:20:13.114Z"
   },
   {
    "duration": 4,
    "start_time": "2024-07-29T16:28:38.055Z"
   },
   {
    "duration": 5,
    "start_time": "2024-07-29T16:28:39.291Z"
   },
   {
    "duration": 4,
    "start_time": "2024-07-29T16:29:32.511Z"
   },
   {
    "duration": 13,
    "start_time": "2024-07-29T16:29:34.167Z"
   },
   {
    "duration": 4,
    "start_time": "2024-07-29T16:48:24.363Z"
   },
   {
    "duration": 22,
    "start_time": "2024-07-29T16:48:26.058Z"
   },
   {
    "duration": 4,
    "start_time": "2024-07-29T16:48:53.439Z"
   },
   {
    "duration": 19,
    "start_time": "2024-07-29T16:48:55.366Z"
   },
   {
    "duration": 4,
    "start_time": "2024-07-29T16:49:29.629Z"
   },
   {
    "duration": 13,
    "start_time": "2024-07-29T16:49:30.835Z"
   },
   {
    "duration": 4,
    "start_time": "2024-07-29T16:50:25.406Z"
   },
   {
    "duration": 13,
    "start_time": "2024-07-29T16:50:26.910Z"
   },
   {
    "duration": 5,
    "start_time": "2024-07-29T16:50:40.824Z"
   },
   {
    "duration": 18,
    "start_time": "2024-07-29T16:50:42.420Z"
   },
   {
    "duration": 5,
    "start_time": "2024-07-29T16:51:36.844Z"
   },
   {
    "duration": 10,
    "start_time": "2024-07-29T16:51:38.297Z"
   },
   {
    "duration": 22,
    "start_time": "2024-07-29T16:51:58.285Z"
   },
   {
    "duration": 22,
    "start_time": "2024-07-29T16:52:02.603Z"
   },
   {
    "duration": 22,
    "start_time": "2024-07-29T16:52:12.484Z"
   },
   {
    "duration": 27,
    "start_time": "2024-07-29T16:52:22.567Z"
   },
   {
    "duration": 32,
    "start_time": "2024-07-29T16:52:55.645Z"
   },
   {
    "duration": 4,
    "start_time": "2024-07-29T16:56:57.160Z"
   },
   {
    "duration": 10,
    "start_time": "2024-07-29T16:56:58.206Z"
   },
   {
    "duration": 20,
    "start_time": "2024-07-29T16:57:00.446Z"
   },
   {
    "duration": 24,
    "start_time": "2024-07-29T16:57:01.875Z"
   },
   {
    "duration": 19,
    "start_time": "2024-07-29T16:57:03.689Z"
   },
   {
    "duration": 23,
    "start_time": "2024-07-29T16:57:12.703Z"
   },
   {
    "duration": 24,
    "start_time": "2024-07-29T16:58:04.375Z"
   },
   {
    "duration": 4,
    "start_time": "2024-07-29T17:06:52.383Z"
   },
   {
    "duration": 66,
    "start_time": "2024-07-29T17:07:03.735Z"
   },
   {
    "duration": 65,
    "start_time": "2024-07-29T17:07:09.697Z"
   },
   {
    "duration": 69,
    "start_time": "2024-07-29T17:08:00.033Z"
   },
   {
    "duration": 123,
    "start_time": "2024-07-29T17:14:03.229Z"
   },
   {
    "duration": 834,
    "start_time": "2024-07-29T17:14:12.056Z"
   },
   {
    "duration": 4,
    "start_time": "2024-07-29T17:18:31.692Z"
   },
   {
    "duration": 32,
    "start_time": "2024-07-29T17:20:09.920Z"
   },
   {
    "duration": 4,
    "start_time": "2024-07-29T17:22:59.324Z"
   },
   {
    "duration": 23,
    "start_time": "2024-07-29T17:23:00.613Z"
   },
   {
    "duration": 32,
    "start_time": "2024-07-29T17:23:01.922Z"
   },
   {
    "duration": 41,
    "start_time": "2024-07-29T20:52:35.599Z"
   },
   {
    "duration": 54,
    "start_time": "2024-07-30T08:49:41.395Z"
   },
   {
    "duration": 6,
    "start_time": "2024-07-30T08:49:54.720Z"
   },
   {
    "duration": 696,
    "start_time": "2024-07-30T08:50:02.042Z"
   },
   {
    "duration": 22,
    "start_time": "2024-07-30T08:50:02.741Z"
   },
   {
    "duration": 17,
    "start_time": "2024-07-30T08:50:02.765Z"
   },
   {
    "duration": 25,
    "start_time": "2024-07-30T08:50:02.783Z"
   },
   {
    "duration": 54,
    "start_time": "2024-07-30T08:50:02.810Z"
   },
   {
    "duration": 4,
    "start_time": "2024-07-30T08:50:02.865Z"
   },
   {
    "duration": 10,
    "start_time": "2024-07-30T08:50:02.870Z"
   },
   {
    "duration": 6,
    "start_time": "2024-07-30T08:50:02.881Z"
   },
   {
    "duration": 6,
    "start_time": "2024-07-30T08:50:02.889Z"
   },
   {
    "duration": 6,
    "start_time": "2024-07-30T08:50:02.896Z"
   },
   {
    "duration": 59,
    "start_time": "2024-07-30T08:50:02.904Z"
   },
   {
    "duration": 11,
    "start_time": "2024-07-30T08:50:02.965Z"
   },
   {
    "duration": 24,
    "start_time": "2024-07-30T08:50:02.977Z"
   },
   {
    "duration": 16,
    "start_time": "2024-07-30T08:50:03.004Z"
   },
   {
    "duration": 19,
    "start_time": "2024-07-30T08:50:03.022Z"
   },
   {
    "duration": 16,
    "start_time": "2024-07-30T08:50:03.043Z"
   },
   {
    "duration": 4,
    "start_time": "2024-07-30T08:50:03.060Z"
   },
   {
    "duration": 19,
    "start_time": "2024-07-30T08:50:03.065Z"
   },
   {
    "duration": 7,
    "start_time": "2024-07-30T08:50:03.085Z"
   },
   {
    "duration": 5,
    "start_time": "2024-07-30T08:50:03.093Z"
   },
   {
    "duration": 13,
    "start_time": "2024-07-30T08:50:03.099Z"
   },
   {
    "duration": 6,
    "start_time": "2024-07-30T08:50:03.113Z"
   },
   {
    "duration": 33,
    "start_time": "2024-07-30T08:50:03.120Z"
   },
   {
    "duration": 29,
    "start_time": "2024-07-30T08:50:03.155Z"
   },
   {
    "duration": 22,
    "start_time": "2024-07-30T08:50:03.186Z"
   },
   {
    "duration": 32,
    "start_time": "2024-07-30T08:50:03.210Z"
   },
   {
    "duration": 4,
    "start_time": "2024-07-30T08:50:03.243Z"
   },
   {
    "duration": 36,
    "start_time": "2024-07-30T08:50:03.249Z"
   },
   {
    "duration": 30,
    "start_time": "2024-07-30T08:50:03.286Z"
   },
   {
    "duration": 939,
    "start_time": "2024-07-30T08:50:03.318Z"
   },
   {
    "duration": 44,
    "start_time": "2024-07-30T08:50:48.384Z"
   },
   {
    "duration": 893,
    "start_time": "2024-07-30T09:04:50.241Z"
   },
   {
    "duration": 25,
    "start_time": "2024-07-30T09:04:59.748Z"
   },
   {
    "duration": 16,
    "start_time": "2024-07-30T09:05:08.343Z"
   },
   {
    "duration": 14,
    "start_time": "2024-07-30T09:05:21.002Z"
   },
   {
    "duration": 18,
    "start_time": "2024-07-30T09:07:59.665Z"
   },
   {
    "duration": 20,
    "start_time": "2024-07-30T09:09:27.465Z"
   },
   {
    "duration": 28,
    "start_time": "2024-07-30T09:09:42.111Z"
   },
   {
    "duration": 14,
    "start_time": "2024-07-30T09:10:17.826Z"
   },
   {
    "duration": 15,
    "start_time": "2024-07-30T09:10:24.476Z"
   },
   {
    "duration": 17,
    "start_time": "2024-07-30T09:10:59.692Z"
   },
   {
    "duration": 19,
    "start_time": "2024-07-30T09:16:30.530Z"
   },
   {
    "duration": 32,
    "start_time": "2024-07-30T09:16:51.104Z"
   },
   {
    "duration": 32,
    "start_time": "2024-07-30T09:17:42.888Z"
   },
   {
    "duration": 3,
    "start_time": "2024-07-30T09:18:46.717Z"
   },
   {
    "duration": 22,
    "start_time": "2024-07-30T09:18:49.281Z"
   },
   {
    "duration": 33,
    "start_time": "2024-07-30T09:18:52.148Z"
   },
   {
    "duration": 470,
    "start_time": "2024-07-30T09:19:03.687Z"
   },
   {
    "duration": 23,
    "start_time": "2024-07-30T09:19:04.159Z"
   },
   {
    "duration": 79,
    "start_time": "2024-07-30T09:19:04.184Z"
   },
   {
    "duration": 12,
    "start_time": "2024-07-30T09:19:04.264Z"
   },
   {
    "duration": 38,
    "start_time": "2024-07-30T09:19:04.279Z"
   },
   {
    "duration": 3,
    "start_time": "2024-07-30T09:19:04.319Z"
   },
   {
    "duration": 11,
    "start_time": "2024-07-30T09:19:04.324Z"
   },
   {
    "duration": 4,
    "start_time": "2024-07-30T09:19:04.337Z"
   },
   {
    "duration": 9,
    "start_time": "2024-07-30T09:19:04.343Z"
   },
   {
    "duration": 5,
    "start_time": "2024-07-30T09:19:04.353Z"
   },
   {
    "duration": 37,
    "start_time": "2024-07-30T09:19:04.383Z"
   },
   {
    "duration": 11,
    "start_time": "2024-07-30T09:19:04.421Z"
   },
   {
    "duration": 7,
    "start_time": "2024-07-30T09:19:04.433Z"
   },
   {
    "duration": 14,
    "start_time": "2024-07-30T09:19:04.442Z"
   },
   {
    "duration": 44,
    "start_time": "2024-07-30T09:19:04.458Z"
   },
   {
    "duration": 21,
    "start_time": "2024-07-30T09:19:04.503Z"
   },
   {
    "duration": 5,
    "start_time": "2024-07-30T09:19:04.525Z"
   },
   {
    "duration": 30,
    "start_time": "2024-07-30T09:19:04.531Z"
   },
   {
    "duration": 43,
    "start_time": "2024-07-30T09:19:04.562Z"
   },
   {
    "duration": 35,
    "start_time": "2024-07-30T09:19:04.607Z"
   },
   {
    "duration": 14,
    "start_time": "2024-07-30T09:19:04.644Z"
   },
   {
    "duration": 9,
    "start_time": "2024-07-30T09:19:04.659Z"
   },
   {
    "duration": 17,
    "start_time": "2024-07-30T09:19:04.670Z"
   },
   {
    "duration": 29,
    "start_time": "2024-07-30T09:19:04.689Z"
   },
   {
    "duration": 24,
    "start_time": "2024-07-30T09:19:04.720Z"
   },
   {
    "duration": 42,
    "start_time": "2024-07-30T09:19:04.745Z"
   },
   {
    "duration": 4,
    "start_time": "2024-07-30T09:19:04.789Z"
   },
   {
    "duration": 38,
    "start_time": "2024-07-30T09:19:04.794Z"
   },
   {
    "duration": 52,
    "start_time": "2024-07-30T09:19:04.833Z"
   },
   {
    "duration": 936,
    "start_time": "2024-07-30T09:19:04.887Z"
   },
   {
    "duration": 4,
    "start_time": "2024-07-30T09:20:45.123Z"
   },
   {
    "duration": 21,
    "start_time": "2024-07-30T09:20:46.093Z"
   },
   {
    "duration": 35,
    "start_time": "2024-07-30T09:20:47.331Z"
   },
   {
    "duration": 20,
    "start_time": "2024-07-30T09:21:42.356Z"
   },
   {
    "duration": 4,
    "start_time": "2024-07-30T09:22:23.598Z"
   },
   {
    "duration": 23,
    "start_time": "2024-07-30T09:22:24.603Z"
   },
   {
    "duration": 18,
    "start_time": "2024-07-30T09:22:25.615Z"
   },
   {
    "duration": 3,
    "start_time": "2024-07-30T09:22:47.146Z"
   },
   {
    "duration": 24,
    "start_time": "2024-07-30T09:22:47.488Z"
   },
   {
    "duration": 48,
    "start_time": "2024-07-30T09:22:48.819Z"
   },
   {
    "duration": 32,
    "start_time": "2024-07-30T09:23:11.430Z"
   },
   {
    "duration": 911,
    "start_time": "2024-07-30T09:24:03.563Z"
   },
   {
    "duration": 37,
    "start_time": "2024-07-30T09:24:17.176Z"
   },
   {
    "duration": 36,
    "start_time": "2024-07-30T09:24:34.046Z"
   },
   {
    "duration": 35,
    "start_time": "2024-07-30T09:24:50.682Z"
   },
   {
    "duration": 892,
    "start_time": "2024-07-30T09:27:21.242Z"
   },
   {
    "duration": 17,
    "start_time": "2024-07-30T09:27:41.788Z"
   },
   {
    "duration": 16,
    "start_time": "2024-07-30T09:28:18.887Z"
   },
   {
    "duration": 444,
    "start_time": "2024-07-30T09:30:06.737Z"
   },
   {
    "duration": 31,
    "start_time": "2024-07-30T09:31:02.410Z"
   },
   {
    "duration": 13,
    "start_time": "2024-07-30T09:31:11.944Z"
   },
   {
    "duration": 12,
    "start_time": "2024-07-30T09:34:44.982Z"
   },
   {
    "duration": 12,
    "start_time": "2024-07-30T09:34:54.886Z"
   },
   {
    "duration": 13,
    "start_time": "2024-07-30T09:35:10.553Z"
   },
   {
    "duration": 13,
    "start_time": "2024-07-30T09:35:35.392Z"
   },
   {
    "duration": 14,
    "start_time": "2024-07-30T09:35:47.588Z"
   },
   {
    "duration": 5,
    "start_time": "2024-07-30T09:35:53.897Z"
   },
   {
    "duration": 5,
    "start_time": "2024-07-30T09:35:59.591Z"
   },
   {
    "duration": 3,
    "start_time": "2024-07-30T09:38:27.914Z"
   },
   {
    "duration": 23,
    "start_time": "2024-07-30T09:38:30.263Z"
   },
   {
    "duration": 5,
    "start_time": "2024-07-30T09:38:32.194Z"
   },
   {
    "duration": 5,
    "start_time": "2024-07-30T09:39:18.813Z"
   },
   {
    "duration": 5,
    "start_time": "2024-07-30T09:39:25.497Z"
   },
   {
    "duration": 4,
    "start_time": "2024-07-30T09:39:33.648Z"
   },
   {
    "duration": 5,
    "start_time": "2024-07-30T09:39:57.424Z"
   },
   {
    "duration": 7,
    "start_time": "2024-07-30T09:40:08.407Z"
   },
   {
    "duration": 3,
    "start_time": "2024-07-30T09:40:51.599Z"
   },
   {
    "duration": 21,
    "start_time": "2024-07-30T09:40:52.874Z"
   },
   {
    "duration": 6,
    "start_time": "2024-07-30T09:40:53.915Z"
   },
   {
    "duration": 1244,
    "start_time": "2024-07-30T09:41:09.360Z"
   },
   {
    "duration": 25,
    "start_time": "2024-07-30T09:41:43.889Z"
   },
   {
    "duration": 16,
    "start_time": "2024-07-30T09:42:19.157Z"
   },
   {
    "duration": 10,
    "start_time": "2024-07-30T09:44:17.237Z"
   },
   {
    "duration": 10,
    "start_time": "2024-07-30T09:44:27.320Z"
   },
   {
    "duration": 8,
    "start_time": "2024-07-30T09:44:35.570Z"
   },
   {
    "duration": 5,
    "start_time": "2024-07-30T09:47:05.928Z"
   },
   {
    "duration": 4,
    "start_time": "2024-07-30T09:47:08.301Z"
   },
   {
    "duration": 18,
    "start_time": "2024-07-30T09:47:11.381Z"
   },
   {
    "duration": 839,
    "start_time": "2024-07-30T09:47:45.206Z"
   },
   {
    "duration": 12,
    "start_time": "2024-07-30T09:48:39.869Z"
   },
   {
    "duration": 26,
    "start_time": "2024-07-30T09:48:41.267Z"
   },
   {
    "duration": 5,
    "start_time": "2024-07-30T10:05:33.805Z"
   },
   {
    "duration": 17,
    "start_time": "2024-07-30T10:05:34.749Z"
   },
   {
    "duration": 31,
    "start_time": "2024-07-30T10:05:42.613Z"
   },
   {
    "duration": 6,
    "start_time": "2024-07-30T10:08:07.397Z"
   },
   {
    "duration": 9,
    "start_time": "2024-07-30T10:09:58.350Z"
   },
   {
    "duration": 4,
    "start_time": "2024-07-30T10:10:39.815Z"
   },
   {
    "duration": 4,
    "start_time": "2024-07-30T10:11:14.758Z"
   },
   {
    "duration": 17,
    "start_time": "2024-07-30T10:13:10.483Z"
   },
   {
    "duration": 15,
    "start_time": "2024-07-30T10:13:27.951Z"
   },
   {
    "duration": 5,
    "start_time": "2024-07-30T10:15:37.753Z"
   },
   {
    "duration": 5,
    "start_time": "2024-07-30T10:15:54.055Z"
   },
   {
    "duration": 5,
    "start_time": "2024-07-30T10:15:58.300Z"
   },
   {
    "duration": 4,
    "start_time": "2024-07-30T10:16:04.815Z"
   },
   {
    "duration": 21,
    "start_time": "2024-07-30T10:22:06.212Z"
   },
   {
    "duration": 27,
    "start_time": "2024-07-30T10:23:18.211Z"
   },
   {
    "duration": 29,
    "start_time": "2024-07-30T10:28:09.686Z"
   },
   {
    "duration": 73,
    "start_time": "2024-07-30T10:28:13.735Z"
   },
   {
    "duration": 20,
    "start_time": "2024-07-30T10:28:55.693Z"
   },
   {
    "duration": 16,
    "start_time": "2024-07-30T10:33:43.422Z"
   },
   {
    "duration": 16,
    "start_time": "2024-07-30T10:34:07.412Z"
   },
   {
    "duration": 30,
    "start_time": "2024-07-30T10:36:34.843Z"
   },
   {
    "duration": 23,
    "start_time": "2024-07-30T10:41:55.615Z"
   },
   {
    "duration": 25,
    "start_time": "2024-07-30T10:42:25.394Z"
   },
   {
    "duration": 18,
    "start_time": "2024-07-30T10:58:07.630Z"
   },
   {
    "duration": 498,
    "start_time": "2024-07-30T11:00:22.677Z"
   },
   {
    "duration": 22,
    "start_time": "2024-07-30T11:00:23.177Z"
   },
   {
    "duration": 15,
    "start_time": "2024-07-30T11:00:23.200Z"
   },
   {
    "duration": 11,
    "start_time": "2024-07-30T11:00:23.217Z"
   },
   {
    "duration": 57,
    "start_time": "2024-07-30T11:00:23.230Z"
   },
   {
    "duration": 4,
    "start_time": "2024-07-30T11:00:23.289Z"
   },
   {
    "duration": 19,
    "start_time": "2024-07-30T11:00:23.295Z"
   },
   {
    "duration": 33,
    "start_time": "2024-07-30T11:00:23.315Z"
   },
   {
    "duration": 16,
    "start_time": "2024-07-30T11:00:23.350Z"
   },
   {
    "duration": 8,
    "start_time": "2024-07-30T11:00:23.367Z"
   },
   {
    "duration": 108,
    "start_time": "2024-07-30T11:00:23.376Z"
   },
   {
    "duration": 12,
    "start_time": "2024-07-30T11:00:23.486Z"
   },
   {
    "duration": 11,
    "start_time": "2024-07-30T11:00:23.500Z"
   },
   {
    "duration": 29,
    "start_time": "2024-07-30T11:00:23.514Z"
   },
   {
    "duration": 39,
    "start_time": "2024-07-30T11:00:23.545Z"
   },
   {
    "duration": 17,
    "start_time": "2024-07-30T11:00:23.586Z"
   },
   {
    "duration": 4,
    "start_time": "2024-07-30T11:00:23.604Z"
   },
   {
    "duration": 14,
    "start_time": "2024-07-30T11:00:23.609Z"
   },
   {
    "duration": 7,
    "start_time": "2024-07-30T11:00:23.624Z"
   },
   {
    "duration": 6,
    "start_time": "2024-07-30T11:00:23.633Z"
   },
   {
    "duration": 22,
    "start_time": "2024-07-30T11:00:23.641Z"
   },
   {
    "duration": 20,
    "start_time": "2024-07-30T11:00:23.664Z"
   },
   {
    "duration": 29,
    "start_time": "2024-07-30T11:00:23.685Z"
   },
   {
    "duration": 5,
    "start_time": "2024-07-30T11:00:23.716Z"
   },
   {
    "duration": 22,
    "start_time": "2024-07-30T11:00:23.722Z"
   },
   {
    "duration": 75,
    "start_time": "2024-07-30T11:00:23.745Z"
   },
   {
    "duration": 50,
    "start_time": "2024-07-30T11:00:23.822Z"
   },
   {
    "duration": 103,
    "start_time": "2024-07-30T11:00:23.874Z"
   },
   {
    "duration": 75,
    "start_time": "2024-07-30T11:00:23.979Z"
   },
   {
    "duration": 22,
    "start_time": "2024-07-30T11:00:24.056Z"
   },
   {
    "duration": 26,
    "start_time": "2024-07-30T11:00:24.080Z"
   },
   {
    "duration": 19,
    "start_time": "2024-07-30T11:00:24.108Z"
   },
   {
    "duration": 15,
    "start_time": "2024-07-30T11:00:24.128Z"
   },
   {
    "duration": 55,
    "start_time": "2024-07-30T11:00:24.145Z"
   },
   {
    "duration": 26,
    "start_time": "2024-07-30T11:00:24.201Z"
   },
   {
    "duration": 6,
    "start_time": "2024-07-30T11:02:25.771Z"
   },
   {
    "duration": 11,
    "start_time": "2024-07-30T11:02:28.935Z"
   },
   {
    "duration": 701,
    "start_time": "2024-07-30T14:47:03.745Z"
   },
   {
    "duration": 21,
    "start_time": "2024-07-30T14:47:04.448Z"
   },
   {
    "duration": 15,
    "start_time": "2024-07-30T14:47:04.471Z"
   },
   {
    "duration": 16,
    "start_time": "2024-07-30T14:47:04.489Z"
   },
   {
    "duration": 34,
    "start_time": "2024-07-30T14:47:04.506Z"
   },
   {
    "duration": 3,
    "start_time": "2024-07-30T14:47:04.541Z"
   },
   {
    "duration": 38,
    "start_time": "2024-07-30T14:47:04.545Z"
   },
   {
    "duration": 7,
    "start_time": "2024-07-30T14:47:04.585Z"
   },
   {
    "duration": 9,
    "start_time": "2024-07-30T14:47:04.594Z"
   },
   {
    "duration": 4,
    "start_time": "2024-07-30T14:47:04.607Z"
   },
   {
    "duration": 37,
    "start_time": "2024-07-30T14:47:04.612Z"
   },
   {
    "duration": 37,
    "start_time": "2024-07-30T14:47:04.651Z"
   },
   {
    "duration": 14,
    "start_time": "2024-07-30T14:47:04.690Z"
   },
   {
    "duration": 19,
    "start_time": "2024-07-30T14:47:04.705Z"
   },
   {
    "duration": 25,
    "start_time": "2024-07-30T14:47:04.726Z"
   },
   {
    "duration": 18,
    "start_time": "2024-07-30T14:47:04.752Z"
   },
   {
    "duration": 3,
    "start_time": "2024-07-30T14:47:04.772Z"
   },
   {
    "duration": 25,
    "start_time": "2024-07-30T14:47:04.776Z"
   },
   {
    "duration": 23,
    "start_time": "2024-07-30T14:47:04.802Z"
   },
   {
    "duration": 8,
    "start_time": "2024-07-30T14:47:04.827Z"
   },
   {
    "duration": 10,
    "start_time": "2024-07-30T14:47:04.836Z"
   },
   {
    "duration": 3,
    "start_time": "2024-07-30T14:47:04.848Z"
   },
   {
    "duration": 15,
    "start_time": "2024-07-30T14:47:04.853Z"
   },
   {
    "duration": 3,
    "start_time": "2024-07-30T14:47:04.869Z"
   },
   {
    "duration": 10,
    "start_time": "2024-07-30T14:47:04.874Z"
   },
   {
    "duration": 16,
    "start_time": "2024-07-30T14:47:04.886Z"
   },
   {
    "duration": 23,
    "start_time": "2024-07-30T14:47:04.903Z"
   },
   {
    "duration": 22,
    "start_time": "2024-07-30T14:47:04.929Z"
   },
   {
    "duration": 30,
    "start_time": "2024-07-30T14:47:04.952Z"
   },
   {
    "duration": 32,
    "start_time": "2024-07-30T14:47:04.984Z"
   },
   {
    "duration": 37,
    "start_time": "2024-07-30T14:47:05.018Z"
   },
   {
    "duration": 41,
    "start_time": "2024-07-30T14:47:05.057Z"
   },
   {
    "duration": 13,
    "start_time": "2024-07-30T14:47:05.101Z"
   },
   {
    "duration": 29,
    "start_time": "2024-07-30T14:47:05.116Z"
   },
   {
    "duration": 56,
    "start_time": "2024-07-30T14:47:05.147Z"
   },
   {
    "duration": 54,
    "start_time": "2024-07-31T08:47:39.110Z"
   },
   {
    "duration": 6,
    "start_time": "2024-07-31T08:48:02.044Z"
   },
   {
    "duration": 673,
    "start_time": "2024-07-31T08:48:08.039Z"
   },
   {
    "duration": 22,
    "start_time": "2024-07-31T08:48:08.714Z"
   },
   {
    "duration": 50,
    "start_time": "2024-07-31T08:48:08.737Z"
   },
   {
    "duration": 66,
    "start_time": "2024-07-31T08:48:08.788Z"
   },
   {
    "duration": 61,
    "start_time": "2024-07-31T08:48:08.856Z"
   },
   {
    "duration": 37,
    "start_time": "2024-07-31T08:48:08.919Z"
   },
   {
    "duration": 23,
    "start_time": "2024-07-31T08:48:08.957Z"
   },
   {
    "duration": 18,
    "start_time": "2024-07-31T08:48:08.981Z"
   },
   {
    "duration": 25,
    "start_time": "2024-07-31T08:48:09.000Z"
   },
   {
    "duration": 12,
    "start_time": "2024-07-31T08:48:09.026Z"
   },
   {
    "duration": 57,
    "start_time": "2024-07-31T08:48:09.040Z"
   },
   {
    "duration": 12,
    "start_time": "2024-07-31T08:48:09.098Z"
   },
   {
    "duration": 17,
    "start_time": "2024-07-31T08:48:09.111Z"
   },
   {
    "duration": 53,
    "start_time": "2024-07-31T08:48:09.131Z"
   },
   {
    "duration": 48,
    "start_time": "2024-07-31T08:48:09.185Z"
   },
   {
    "duration": 29,
    "start_time": "2024-07-31T08:48:09.235Z"
   },
   {
    "duration": 12,
    "start_time": "2024-07-31T08:48:09.266Z"
   },
   {
    "duration": 38,
    "start_time": "2024-07-31T08:48:09.279Z"
   },
   {
    "duration": 27,
    "start_time": "2024-07-31T08:48:09.318Z"
   },
   {
    "duration": 18,
    "start_time": "2024-07-31T08:48:09.346Z"
   },
   {
    "duration": 41,
    "start_time": "2024-07-31T08:48:09.365Z"
   },
   {
    "duration": 4,
    "start_time": "2024-07-31T08:48:09.408Z"
   },
   {
    "duration": 42,
    "start_time": "2024-07-31T08:48:09.413Z"
   },
   {
    "duration": 5,
    "start_time": "2024-07-31T08:48:09.456Z"
   },
   {
    "duration": 12,
    "start_time": "2024-07-31T08:48:09.463Z"
   },
   {
    "duration": 5,
    "start_time": "2024-07-31T08:48:09.476Z"
   },
   {
    "duration": 80,
    "start_time": "2024-07-31T08:48:09.483Z"
   },
   {
    "duration": 0,
    "start_time": "2024-07-31T08:48:09.565Z"
   },
   {
    "duration": 0,
    "start_time": "2024-07-31T08:48:09.566Z"
   },
   {
    "duration": 0,
    "start_time": "2024-07-31T08:48:09.567Z"
   },
   {
    "duration": 0,
    "start_time": "2024-07-31T08:48:09.569Z"
   },
   {
    "duration": 0,
    "start_time": "2024-07-31T08:48:09.570Z"
   },
   {
    "duration": 0,
    "start_time": "2024-07-31T08:48:09.571Z"
   },
   {
    "duration": 0,
    "start_time": "2024-07-31T08:48:09.573Z"
   },
   {
    "duration": 0,
    "start_time": "2024-07-31T08:48:09.574Z"
   },
   {
    "duration": 0,
    "start_time": "2024-07-31T08:48:09.575Z"
   },
   {
    "duration": 4,
    "start_time": "2024-07-31T09:03:54.333Z"
   },
   {
    "duration": 3,
    "start_time": "2024-07-31T09:04:11.729Z"
   },
   {
    "duration": 25,
    "start_time": "2024-07-31T09:04:19.598Z"
   },
   {
    "duration": 4,
    "start_time": "2024-07-31T09:04:31.592Z"
   },
   {
    "duration": 8,
    "start_time": "2024-07-31T09:07:35.786Z"
   },
   {
    "duration": 9,
    "start_time": "2024-07-31T09:08:09.823Z"
   },
   {
    "duration": 469,
    "start_time": "2024-07-31T09:08:22.703Z"
   },
   {
    "duration": 23,
    "start_time": "2024-07-31T09:08:23.174Z"
   },
   {
    "duration": 16,
    "start_time": "2024-07-31T09:08:23.199Z"
   },
   {
    "duration": 12,
    "start_time": "2024-07-31T09:08:23.217Z"
   },
   {
    "duration": 63,
    "start_time": "2024-07-31T09:08:23.231Z"
   },
   {
    "duration": 4,
    "start_time": "2024-07-31T09:08:23.296Z"
   },
   {
    "duration": 9,
    "start_time": "2024-07-31T09:08:23.302Z"
   },
   {
    "duration": 10,
    "start_time": "2024-07-31T09:08:23.312Z"
   },
   {
    "duration": 17,
    "start_time": "2024-07-31T09:08:23.324Z"
   },
   {
    "duration": 7,
    "start_time": "2024-07-31T09:08:23.344Z"
   },
   {
    "duration": 54,
    "start_time": "2024-07-31T09:08:23.352Z"
   },
   {
    "duration": 12,
    "start_time": "2024-07-31T09:08:23.408Z"
   },
   {
    "duration": 22,
    "start_time": "2024-07-31T09:08:23.422Z"
   },
   {
    "duration": 13,
    "start_time": "2024-07-31T09:08:23.446Z"
   },
   {
    "duration": 25,
    "start_time": "2024-07-31T09:08:23.461Z"
   },
   {
    "duration": 17,
    "start_time": "2024-07-31T09:08:23.488Z"
   },
   {
    "duration": 7,
    "start_time": "2024-07-31T09:08:23.507Z"
   },
   {
    "duration": 19,
    "start_time": "2024-07-31T09:08:23.515Z"
   },
   {
    "duration": 14,
    "start_time": "2024-07-31T09:08:23.536Z"
   },
   {
    "duration": 18,
    "start_time": "2024-07-31T09:08:23.551Z"
   },
   {
    "duration": 14,
    "start_time": "2024-07-31T09:08:23.570Z"
   },
   {
    "duration": 4,
    "start_time": "2024-07-31T09:08:23.585Z"
   },
   {
    "duration": 15,
    "start_time": "2024-07-31T09:08:23.591Z"
   },
   {
    "duration": 4,
    "start_time": "2024-07-31T09:08:23.608Z"
   },
   {
    "duration": 20,
    "start_time": "2024-07-31T09:08:23.614Z"
   },
   {
    "duration": 6,
    "start_time": "2024-07-31T09:08:23.636Z"
   },
   {
    "duration": 37,
    "start_time": "2024-07-31T09:08:23.643Z"
   },
   {
    "duration": 12,
    "start_time": "2024-07-31T09:08:23.682Z"
   },
   {
    "duration": 27,
    "start_time": "2024-07-31T09:08:23.696Z"
   },
   {
    "duration": 23,
    "start_time": "2024-07-31T09:08:23.725Z"
   },
   {
    "duration": 47,
    "start_time": "2024-07-31T09:08:23.750Z"
   },
   {
    "duration": 27,
    "start_time": "2024-07-31T09:08:23.798Z"
   },
   {
    "duration": 79,
    "start_time": "2024-07-31T09:08:23.827Z"
   },
   {
    "duration": 17,
    "start_time": "2024-07-31T09:08:23.907Z"
   },
   {
    "duration": 33,
    "start_time": "2024-07-31T09:08:23.926Z"
   },
   {
    "duration": 42,
    "start_time": "2024-07-31T09:08:23.961Z"
   },
   {
    "duration": 7,
    "start_time": "2024-07-31T09:09:44.651Z"
   },
   {
    "duration": 4,
    "start_time": "2024-07-31T09:10:45.087Z"
   },
   {
    "duration": 7,
    "start_time": "2024-07-31T09:11:21.121Z"
   },
   {
    "duration": 67,
    "start_time": "2024-07-31T09:13:24.239Z"
   },
   {
    "duration": 9,
    "start_time": "2024-07-31T09:13:42.921Z"
   },
   {
    "duration": 9,
    "start_time": "2024-07-31T09:13:57.521Z"
   },
   {
    "duration": 6,
    "start_time": "2024-07-31T09:14:06.680Z"
   },
   {
    "duration": 6,
    "start_time": "2024-07-31T09:14:10.913Z"
   },
   {
    "duration": 5,
    "start_time": "2024-07-31T09:15:31.427Z"
   },
   {
    "duration": 8,
    "start_time": "2024-07-31T09:15:37.394Z"
   },
   {
    "duration": 9,
    "start_time": "2024-07-31T09:16:24.699Z"
   },
   {
    "duration": 8,
    "start_time": "2024-07-31T09:17:32.514Z"
   },
   {
    "duration": 8,
    "start_time": "2024-07-31T09:17:42.551Z"
   },
   {
    "duration": 15,
    "start_time": "2024-07-31T09:19:17.841Z"
   },
   {
    "duration": 14,
    "start_time": "2024-07-31T09:20:28.696Z"
   },
   {
    "duration": 8,
    "start_time": "2024-07-31T09:21:55.104Z"
   },
   {
    "duration": 11,
    "start_time": "2024-07-31T09:23:56.065Z"
   },
   {
    "duration": 9,
    "start_time": "2024-07-31T09:25:40.370Z"
   },
   {
    "duration": 12,
    "start_time": "2024-07-31T09:26:16.026Z"
   },
   {
    "duration": 17,
    "start_time": "2024-07-31T09:30:39.537Z"
   },
   {
    "duration": 14,
    "start_time": "2024-07-31T09:30:45.385Z"
   },
   {
    "duration": 79,
    "start_time": "2024-07-31T09:36:18.212Z"
   },
   {
    "duration": 78,
    "start_time": "2024-07-31T09:36:38.089Z"
   },
   {
    "duration": 11,
    "start_time": "2024-07-31T09:37:01.322Z"
   },
   {
    "duration": 10,
    "start_time": "2024-07-31T09:37:20.747Z"
   },
   {
    "duration": 12,
    "start_time": "2024-07-31T09:40:33.292Z"
   },
   {
    "duration": 17,
    "start_time": "2024-07-31T09:40:39.926Z"
   },
   {
    "duration": 20,
    "start_time": "2024-07-31T09:45:41.357Z"
   },
   {
    "duration": 26,
    "start_time": "2024-07-31T09:45:52.362Z"
   },
   {
    "duration": 21,
    "start_time": "2024-07-31T09:46:13.129Z"
   },
   {
    "duration": 21,
    "start_time": "2024-07-31T09:46:22.544Z"
   },
   {
    "duration": 5,
    "start_time": "2024-07-31T09:52:39.016Z"
   },
   {
    "duration": 4,
    "start_time": "2024-07-31T09:54:36.912Z"
   },
   {
    "duration": 5,
    "start_time": "2024-07-31T09:54:46.505Z"
   },
   {
    "duration": 21,
    "start_time": "2024-07-31T09:54:50.135Z"
   },
   {
    "duration": 6,
    "start_time": "2024-07-31T09:57:18.742Z"
   },
   {
    "duration": 84,
    "start_time": "2024-07-31T09:57:30.799Z"
   },
   {
    "duration": 14,
    "start_time": "2024-07-31T09:57:39.997Z"
   },
   {
    "duration": 5,
    "start_time": "2024-07-31T09:57:56.707Z"
   },
   {
    "duration": 17,
    "start_time": "2024-07-31T09:57:57.897Z"
   },
   {
    "duration": 5,
    "start_time": "2024-07-31T09:58:45.179Z"
   },
   {
    "duration": 21,
    "start_time": "2024-07-31T09:58:46.009Z"
   },
   {
    "duration": 13,
    "start_time": "2024-07-31T10:00:01.730Z"
   },
   {
    "duration": 4,
    "start_time": "2024-07-31T10:00:13.675Z"
   },
   {
    "duration": 13,
    "start_time": "2024-07-31T10:00:14.906Z"
   },
   {
    "duration": 18,
    "start_time": "2024-07-31T10:00:26.008Z"
   },
   {
    "duration": 21,
    "start_time": "2024-07-31T10:02:44.932Z"
   },
   {
    "duration": 24,
    "start_time": "2024-07-31T10:02:50.322Z"
   },
   {
    "duration": 21,
    "start_time": "2024-07-31T10:02:56.543Z"
   },
   {
    "duration": 4,
    "start_time": "2024-07-31T10:16:17.976Z"
   },
   {
    "duration": 17,
    "start_time": "2024-07-31T10:16:19.245Z"
   },
   {
    "duration": 5,
    "start_time": "2024-07-31T10:17:09.920Z"
   },
   {
    "duration": 16,
    "start_time": "2024-07-31T10:17:11.333Z"
   },
   {
    "duration": 5,
    "start_time": "2024-07-31T10:17:17.425Z"
   },
   {
    "duration": 17,
    "start_time": "2024-07-31T10:17:19.945Z"
   },
   {
    "duration": 4,
    "start_time": "2024-07-31T10:17:32.552Z"
   },
   {
    "duration": 20,
    "start_time": "2024-07-31T10:17:33.961Z"
   },
   {
    "duration": 4,
    "start_time": "2024-07-31T10:18:00.790Z"
   },
   {
    "duration": 17,
    "start_time": "2024-07-31T10:18:02.602Z"
   },
   {
    "duration": 4,
    "start_time": "2024-07-31T10:18:34.817Z"
   },
   {
    "duration": 14,
    "start_time": "2024-07-31T10:18:36.347Z"
   },
   {
    "duration": 5,
    "start_time": "2024-07-31T10:19:04.734Z"
   },
   {
    "duration": 14,
    "start_time": "2024-07-31T10:19:06.105Z"
   },
   {
    "duration": 5,
    "start_time": "2024-07-31T10:19:45.005Z"
   },
   {
    "duration": 15,
    "start_time": "2024-07-31T10:19:45.831Z"
   },
   {
    "duration": 5,
    "start_time": "2024-07-31T10:19:57.837Z"
   },
   {
    "duration": 16,
    "start_time": "2024-07-31T10:19:58.704Z"
   },
   {
    "duration": 4,
    "start_time": "2024-07-31T10:20:56.737Z"
   },
   {
    "duration": 13,
    "start_time": "2024-07-31T10:20:57.604Z"
   },
   {
    "duration": 4,
    "start_time": "2024-07-31T10:21:28.623Z"
   },
   {
    "duration": 22,
    "start_time": "2024-07-31T10:21:29.811Z"
   },
   {
    "duration": 4,
    "start_time": "2024-07-31T10:22:12.425Z"
   },
   {
    "duration": 18,
    "start_time": "2024-07-31T10:22:13.310Z"
   },
   {
    "duration": 5,
    "start_time": "2024-07-31T10:25:13.654Z"
   },
   {
    "duration": 20,
    "start_time": "2024-07-31T10:25:15.650Z"
   },
   {
    "duration": 12,
    "start_time": "2024-07-31T10:26:17.769Z"
   },
   {
    "duration": 12,
    "start_time": "2024-07-31T10:26:22.808Z"
   },
   {
    "duration": 18,
    "start_time": "2024-07-31T10:26:38.356Z"
   },
   {
    "duration": 4,
    "start_time": "2024-07-31T10:32:13.754Z"
   },
   {
    "duration": 8,
    "start_time": "2024-07-31T10:32:31.485Z"
   },
   {
    "duration": 5,
    "start_time": "2024-07-31T10:32:43.447Z"
   },
   {
    "duration": 3,
    "start_time": "2024-07-31T10:33:05.944Z"
   },
   {
    "duration": 928,
    "start_time": "2024-07-31T10:33:15.341Z"
   },
   {
    "duration": 886,
    "start_time": "2024-07-31T10:33:28.293Z"
   },
   {
    "duration": 5,
    "start_time": "2024-07-31T10:33:46.985Z"
   },
   {
    "duration": 829,
    "start_time": "2024-07-31T10:34:06.270Z"
   },
   {
    "duration": 873,
    "start_time": "2024-07-31T10:34:12.526Z"
   },
   {
    "duration": 683,
    "start_time": "2024-07-31T10:34:23.458Z"
   },
   {
    "duration": 8,
    "start_time": "2024-07-31T10:35:11.038Z"
   },
   {
    "duration": 24,
    "start_time": "2024-07-31T10:35:18.458Z"
   },
   {
    "duration": 682,
    "start_time": "2024-07-31T10:35:37.957Z"
   },
   {
    "duration": 4,
    "start_time": "2024-07-31T10:36:02.818Z"
   },
   {
    "duration": 1026,
    "start_time": "2024-07-31T10:36:13.491Z"
   },
   {
    "duration": 663,
    "start_time": "2024-07-31T10:36:24.324Z"
   },
   {
    "duration": 472,
    "start_time": "2024-07-31T10:37:27.912Z"
   },
   {
    "duration": 36,
    "start_time": "2024-07-31T10:37:28.387Z"
   },
   {
    "duration": 47,
    "start_time": "2024-07-31T10:37:28.425Z"
   },
   {
    "duration": 23,
    "start_time": "2024-07-31T10:37:28.475Z"
   },
   {
    "duration": 39,
    "start_time": "2024-07-31T10:37:28.500Z"
   },
   {
    "duration": 4,
    "start_time": "2024-07-31T10:37:28.541Z"
   },
   {
    "duration": 10,
    "start_time": "2024-07-31T10:37:28.547Z"
   },
   {
    "duration": 6,
    "start_time": "2024-07-31T10:37:28.558Z"
   },
   {
    "duration": 21,
    "start_time": "2024-07-31T10:37:28.565Z"
   },
   {
    "duration": 4,
    "start_time": "2024-07-31T10:37:28.589Z"
   },
   {
    "duration": 42,
    "start_time": "2024-07-31T10:37:28.594Z"
   },
   {
    "duration": 9,
    "start_time": "2024-07-31T10:37:28.638Z"
   },
   {
    "duration": 12,
    "start_time": "2024-07-31T10:37:28.649Z"
   },
   {
    "duration": 22,
    "start_time": "2024-07-31T10:37:28.662Z"
   },
   {
    "duration": 21,
    "start_time": "2024-07-31T10:37:28.685Z"
   },
   {
    "duration": 17,
    "start_time": "2024-07-31T10:37:28.707Z"
   },
   {
    "duration": 3,
    "start_time": "2024-07-31T10:37:28.726Z"
   },
   {
    "duration": 12,
    "start_time": "2024-07-31T10:37:28.730Z"
   },
   {
    "duration": 18,
    "start_time": "2024-07-31T10:37:28.743Z"
   },
   {
    "duration": 5,
    "start_time": "2024-07-31T10:37:28.762Z"
   },
   {
    "duration": 16,
    "start_time": "2024-07-31T10:37:28.783Z"
   },
   {
    "duration": 23,
    "start_time": "2024-07-31T10:37:28.800Z"
   },
   {
    "duration": 40,
    "start_time": "2024-07-31T10:37:28.824Z"
   },
   {
    "duration": 4,
    "start_time": "2024-07-31T10:37:28.866Z"
   },
   {
    "duration": 11,
    "start_time": "2024-07-31T10:37:28.871Z"
   },
   {
    "duration": 20,
    "start_time": "2024-07-31T10:37:28.883Z"
   },
   {
    "duration": 4,
    "start_time": "2024-07-31T10:37:28.904Z"
   },
   {
    "duration": 730,
    "start_time": "2024-07-31T10:37:28.911Z"
   },
   {
    "duration": 0,
    "start_time": "2024-07-31T10:37:29.642Z"
   },
   {
    "duration": 1,
    "start_time": "2024-07-31T10:37:29.643Z"
   },
   {
    "duration": 0,
    "start_time": "2024-07-31T10:37:29.645Z"
   },
   {
    "duration": 0,
    "start_time": "2024-07-31T10:37:29.645Z"
   },
   {
    "duration": 0,
    "start_time": "2024-07-31T10:37:29.646Z"
   },
   {
    "duration": 0,
    "start_time": "2024-07-31T10:37:29.647Z"
   },
   {
    "duration": 0,
    "start_time": "2024-07-31T10:37:29.648Z"
   },
   {
    "duration": 0,
    "start_time": "2024-07-31T10:37:29.649Z"
   },
   {
    "duration": 0,
    "start_time": "2024-07-31T10:37:29.650Z"
   },
   {
    "duration": 0,
    "start_time": "2024-07-31T10:37:29.652Z"
   },
   {
    "duration": 681,
    "start_time": "2024-07-31T10:38:03.417Z"
   },
   {
    "duration": 5,
    "start_time": "2024-07-31T10:38:47.028Z"
   },
   {
    "duration": 4,
    "start_time": "2024-07-31T10:38:52.339Z"
   },
   {
    "duration": 20,
    "start_time": "2024-07-31T10:38:58.900Z"
   },
   {
    "duration": 9,
    "start_time": "2024-07-31T10:39:15.800Z"
   },
   {
    "duration": 10,
    "start_time": "2024-07-31T10:39:28.539Z"
   },
   {
    "duration": 10,
    "start_time": "2024-07-31T10:39:40.237Z"
   },
   {
    "duration": 6,
    "start_time": "2024-07-31T11:37:45.432Z"
   },
   {
    "duration": 512,
    "start_time": "2024-07-31T11:38:01.862Z"
   },
   {
    "duration": 22,
    "start_time": "2024-07-31T11:38:02.375Z"
   },
   {
    "duration": 16,
    "start_time": "2024-07-31T11:38:02.399Z"
   },
   {
    "duration": 12,
    "start_time": "2024-07-31T11:38:02.417Z"
   },
   {
    "duration": 53,
    "start_time": "2024-07-31T11:38:02.431Z"
   },
   {
    "duration": 3,
    "start_time": "2024-07-31T11:38:02.486Z"
   },
   {
    "duration": 14,
    "start_time": "2024-07-31T11:38:02.491Z"
   },
   {
    "duration": 17,
    "start_time": "2024-07-31T11:38:02.506Z"
   },
   {
    "duration": 24,
    "start_time": "2024-07-31T11:38:02.526Z"
   },
   {
    "duration": 6,
    "start_time": "2024-07-31T11:38:02.552Z"
   },
   {
    "duration": 36,
    "start_time": "2024-07-31T11:38:02.560Z"
   },
   {
    "duration": 11,
    "start_time": "2024-07-31T11:38:02.597Z"
   },
   {
    "duration": 6,
    "start_time": "2024-07-31T11:38:02.609Z"
   },
   {
    "duration": 27,
    "start_time": "2024-07-31T11:38:02.617Z"
   },
   {
    "duration": 29,
    "start_time": "2024-07-31T11:38:02.645Z"
   },
   {
    "duration": 21,
    "start_time": "2024-07-31T11:38:02.675Z"
   },
   {
    "duration": 4,
    "start_time": "2024-07-31T11:38:02.697Z"
   },
   {
    "duration": 56,
    "start_time": "2024-07-31T11:38:02.702Z"
   },
   {
    "duration": 7,
    "start_time": "2024-07-31T11:38:02.760Z"
   },
   {
    "duration": 4,
    "start_time": "2024-07-31T11:38:02.769Z"
   },
   {
    "duration": 61,
    "start_time": "2024-07-31T11:38:02.774Z"
   },
   {
    "duration": 5,
    "start_time": "2024-07-31T11:38:02.836Z"
   },
   {
    "duration": 37,
    "start_time": "2024-07-31T11:38:02.843Z"
   },
   {
    "duration": 4,
    "start_time": "2024-07-31T11:38:02.882Z"
   },
   {
    "duration": 23,
    "start_time": "2024-07-31T11:38:02.888Z"
   },
   {
    "duration": 13,
    "start_time": "2024-07-31T11:38:02.913Z"
   },
   {
    "duration": 4,
    "start_time": "2024-07-31T11:38:02.928Z"
   },
   {
    "duration": 20,
    "start_time": "2024-07-31T11:38:02.934Z"
   },
   {
    "duration": 28,
    "start_time": "2024-07-31T11:38:02.956Z"
   },
   {
    "duration": 21,
    "start_time": "2024-07-31T11:38:02.986Z"
   },
   {
    "duration": 59,
    "start_time": "2024-07-31T11:38:03.008Z"
   },
   {
    "duration": 0,
    "start_time": "2024-07-31T11:38:03.068Z"
   },
   {
    "duration": 0,
    "start_time": "2024-07-31T11:38:03.084Z"
   },
   {
    "duration": 0,
    "start_time": "2024-07-31T11:38:03.085Z"
   },
   {
    "duration": 0,
    "start_time": "2024-07-31T11:38:03.085Z"
   },
   {
    "duration": 0,
    "start_time": "2024-07-31T11:38:03.086Z"
   },
   {
    "duration": 0,
    "start_time": "2024-07-31T11:38:03.087Z"
   },
   {
    "duration": 5,
    "start_time": "2024-07-31T11:42:27.841Z"
   },
   {
    "duration": 6,
    "start_time": "2024-07-31T11:42:29.277Z"
   },
   {
    "duration": 17,
    "start_time": "2024-07-31T11:42:41.014Z"
   },
   {
    "duration": 4,
    "start_time": "2024-07-31T11:43:57.475Z"
   },
   {
    "duration": 27,
    "start_time": "2024-07-31T11:43:58.623Z"
   },
   {
    "duration": 23,
    "start_time": "2024-07-31T11:45:15.023Z"
   },
   {
    "duration": 4,
    "start_time": "2024-07-31T12:24:15.393Z"
   },
   {
    "duration": 3,
    "start_time": "2024-07-31T12:24:22.808Z"
   },
   {
    "duration": 6,
    "start_time": "2024-07-31T12:24:34.737Z"
   },
   {
    "duration": 7,
    "start_time": "2024-07-31T12:24:43.543Z"
   },
   {
    "duration": 3,
    "start_time": "2024-07-31T12:24:52.851Z"
   },
   {
    "duration": 18,
    "start_time": "2024-07-31T12:24:54.131Z"
   },
   {
    "duration": 9,
    "start_time": "2024-07-31T12:24:56.697Z"
   },
   {
    "duration": 3,
    "start_time": "2024-07-31T12:25:13.874Z"
   },
   {
    "duration": 17,
    "start_time": "2024-07-31T12:25:15.268Z"
   },
   {
    "duration": 9,
    "start_time": "2024-07-31T12:25:16.071Z"
   },
   {
    "duration": 3,
    "start_time": "2024-07-31T12:25:33.868Z"
   },
   {
    "duration": 18,
    "start_time": "2024-07-31T12:25:35.079Z"
   },
   {
    "duration": 15,
    "start_time": "2024-07-31T12:25:35.660Z"
   },
   {
    "duration": 4,
    "start_time": "2024-07-31T12:27:10.442Z"
   },
   {
    "duration": 10,
    "start_time": "2024-07-31T12:27:14.698Z"
   },
   {
    "duration": 70,
    "start_time": "2024-07-31T12:28:02.077Z"
   },
   {
    "duration": 9,
    "start_time": "2024-07-31T12:28:05.627Z"
   },
   {
    "duration": 2,
    "start_time": "2024-07-31T12:28:16.477Z"
   },
   {
    "duration": 11,
    "start_time": "2024-07-31T12:28:18.581Z"
   },
   {
    "duration": 3,
    "start_time": "2024-07-31T12:29:35.933Z"
   },
   {
    "duration": 13,
    "start_time": "2024-07-31T12:29:37.615Z"
   },
   {
    "duration": 3,
    "start_time": "2024-07-31T12:31:58.115Z"
   },
   {
    "duration": 3,
    "start_time": "2024-07-31T12:36:34.359Z"
   },
   {
    "duration": 14,
    "start_time": "2024-07-31T12:36:39.609Z"
   },
   {
    "duration": 2,
    "start_time": "2024-07-31T12:40:13.367Z"
   },
   {
    "duration": 20,
    "start_time": "2024-07-31T12:40:19.192Z"
   },
   {
    "duration": 3,
    "start_time": "2024-07-31T12:40:44.403Z"
   },
   {
    "duration": 16,
    "start_time": "2024-07-31T12:40:48.144Z"
   },
   {
    "duration": 3,
    "start_time": "2024-07-31T12:45:52.928Z"
   },
   {
    "duration": 13,
    "start_time": "2024-07-31T12:45:57.074Z"
   },
   {
    "duration": 6580,
    "start_time": "2024-07-31T12:47:39.341Z"
   },
   {
    "duration": 2938,
    "start_time": "2024-07-31T12:47:53.176Z"
   },
   {
    "duration": 70,
    "start_time": "2024-07-31T12:49:14.822Z"
   },
   {
    "duration": 4,
    "start_time": "2024-07-31T12:50:25.569Z"
   },
   {
    "duration": 73,
    "start_time": "2024-07-31T12:50:29.829Z"
   },
   {
    "duration": 79,
    "start_time": "2024-07-31T12:50:43.361Z"
   },
   {
    "duration": 5582,
    "start_time": "2024-07-31T12:51:05.707Z"
   },
   {
    "duration": 13,
    "start_time": "2024-07-31T13:03:51.463Z"
   },
   {
    "duration": 18,
    "start_time": "2024-07-31T13:03:54.982Z"
   },
   {
    "duration": 12,
    "start_time": "2024-07-31T13:04:15.515Z"
   },
   {
    "duration": 4,
    "start_time": "2024-07-31T13:05:07.967Z"
   },
   {
    "duration": 13,
    "start_time": "2024-07-31T13:05:11.848Z"
   },
   {
    "duration": 3,
    "start_time": "2024-07-31T13:06:22.108Z"
   },
   {
    "duration": 12,
    "start_time": "2024-07-31T13:06:26.461Z"
   },
   {
    "duration": 14,
    "start_time": "2024-07-31T13:07:42.380Z"
   },
   {
    "duration": 3,
    "start_time": "2024-07-31T13:07:46.305Z"
   },
   {
    "duration": 11,
    "start_time": "2024-07-31T13:07:49.401Z"
   },
   {
    "duration": 4,
    "start_time": "2024-07-31T13:09:00.520Z"
   },
   {
    "duration": 4,
    "start_time": "2024-07-31T13:09:20.774Z"
   },
   {
    "duration": 13,
    "start_time": "2024-07-31T13:09:24.356Z"
   },
   {
    "duration": 3449,
    "start_time": "2024-07-31T13:09:56.913Z"
   },
   {
    "duration": 13,
    "start_time": "2024-07-31T13:10:05.680Z"
   },
   {
    "duration": 3,
    "start_time": "2024-07-31T13:11:11.461Z"
   },
   {
    "duration": 14,
    "start_time": "2024-07-31T13:11:17.496Z"
   },
   {
    "duration": 4,
    "start_time": "2024-07-31T13:11:27.743Z"
   },
   {
    "duration": 13,
    "start_time": "2024-07-31T13:11:31.060Z"
   },
   {
    "duration": 4,
    "start_time": "2024-07-31T13:11:49.895Z"
   },
   {
    "duration": 15,
    "start_time": "2024-07-31T13:11:52.638Z"
   },
   {
    "duration": 13,
    "start_time": "2024-07-31T13:12:17.584Z"
   },
   {
    "duration": 14,
    "start_time": "2024-07-31T13:12:19.527Z"
   },
   {
    "duration": 4,
    "start_time": "2024-07-31T13:13:00.930Z"
   },
   {
    "duration": 10,
    "start_time": "2024-07-31T13:13:04.731Z"
   },
   {
    "duration": 4,
    "start_time": "2024-07-31T13:13:08.743Z"
   },
   {
    "duration": 14,
    "start_time": "2024-07-31T13:13:10.944Z"
   },
   {
    "duration": 4,
    "start_time": "2024-07-31T13:14:52.312Z"
   },
   {
    "duration": 16,
    "start_time": "2024-07-31T13:15:36.060Z"
   },
   {
    "duration": 16,
    "start_time": "2024-07-31T13:17:47.183Z"
   },
   {
    "duration": 22,
    "start_time": "2024-07-31T13:24:49.976Z"
   },
   {
    "duration": 502,
    "start_time": "2024-07-31T13:24:56.062Z"
   },
   {
    "duration": 21,
    "start_time": "2024-07-31T13:24:56.566Z"
   },
   {
    "duration": 17,
    "start_time": "2024-07-31T13:24:56.589Z"
   },
   {
    "duration": 27,
    "start_time": "2024-07-31T13:24:56.607Z"
   },
   {
    "duration": 39,
    "start_time": "2024-07-31T13:24:56.636Z"
   },
   {
    "duration": 3,
    "start_time": "2024-07-31T13:24:56.683Z"
   },
   {
    "duration": 22,
    "start_time": "2024-07-31T13:24:56.688Z"
   },
   {
    "duration": 4,
    "start_time": "2024-07-31T13:24:56.712Z"
   },
   {
    "duration": 7,
    "start_time": "2024-07-31T13:24:56.717Z"
   },
   {
    "duration": 10,
    "start_time": "2024-07-31T13:24:56.726Z"
   },
   {
    "duration": 37,
    "start_time": "2024-07-31T13:24:56.737Z"
   },
   {
    "duration": 10,
    "start_time": "2024-07-31T13:24:56.784Z"
   },
   {
    "duration": 5,
    "start_time": "2024-07-31T13:24:56.795Z"
   },
   {
    "duration": 23,
    "start_time": "2024-07-31T13:24:56.803Z"
   },
   {
    "duration": 22,
    "start_time": "2024-07-31T13:24:56.827Z"
   },
   {
    "duration": 37,
    "start_time": "2024-07-31T13:24:56.851Z"
   },
   {
    "duration": 3,
    "start_time": "2024-07-31T13:24:56.890Z"
   },
   {
    "duration": 20,
    "start_time": "2024-07-31T13:24:56.895Z"
   },
   {
    "duration": 5,
    "start_time": "2024-07-31T13:24:56.916Z"
   },
   {
    "duration": 4,
    "start_time": "2024-07-31T13:24:56.923Z"
   },
   {
    "duration": 17,
    "start_time": "2024-07-31T13:24:56.929Z"
   },
   {
    "duration": 11,
    "start_time": "2024-07-31T13:24:56.948Z"
   },
   {
    "duration": 38,
    "start_time": "2024-07-31T13:24:56.960Z"
   },
   {
    "duration": 5,
    "start_time": "2024-07-31T13:24:57.000Z"
   },
   {
    "duration": 18,
    "start_time": "2024-07-31T13:24:57.006Z"
   },
   {
    "duration": 6,
    "start_time": "2024-07-31T13:24:57.025Z"
   },
   {
    "duration": 13,
    "start_time": "2024-07-31T13:24:57.032Z"
   },
   {
    "duration": 4,
    "start_time": "2024-07-31T13:24:57.047Z"
   },
   {
    "duration": 6,
    "start_time": "2024-07-31T13:24:57.052Z"
   },
   {
    "duration": 20,
    "start_time": "2024-07-31T13:24:57.059Z"
   },
   {
    "duration": 15,
    "start_time": "2024-07-31T13:24:57.084Z"
   },
   {
    "duration": 14,
    "start_time": "2024-07-31T13:24:57.100Z"
   },
   {
    "duration": 77,
    "start_time": "2024-07-31T13:24:57.116Z"
   },
   {
    "duration": 0,
    "start_time": "2024-07-31T13:24:57.195Z"
   },
   {
    "duration": 0,
    "start_time": "2024-07-31T13:24:57.196Z"
   },
   {
    "duration": 0,
    "start_time": "2024-07-31T13:24:57.197Z"
   },
   {
    "duration": 0,
    "start_time": "2024-07-31T13:24:57.198Z"
   },
   {
    "duration": 0,
    "start_time": "2024-07-31T13:24:57.199Z"
   },
   {
    "duration": 22,
    "start_time": "2024-07-31T13:26:09.650Z"
   },
   {
    "duration": 25,
    "start_time": "2024-07-31T13:31:47.779Z"
   },
   {
    "duration": 16,
    "start_time": "2024-07-31T13:32:43.825Z"
   },
   {
    "duration": 17,
    "start_time": "2024-07-31T13:38:58.632Z"
   },
   {
    "duration": 15,
    "start_time": "2024-07-31T13:39:13.867Z"
   },
   {
    "duration": 14,
    "start_time": "2024-07-31T13:40:36.924Z"
   },
   {
    "duration": 17,
    "start_time": "2024-07-31T13:41:09.364Z"
   },
   {
    "duration": 15,
    "start_time": "2024-07-31T13:41:56.728Z"
   },
   {
    "duration": 21,
    "start_time": "2024-07-31T13:42:40.610Z"
   },
   {
    "duration": 27,
    "start_time": "2024-07-31T13:43:29.596Z"
   },
   {
    "duration": 4,
    "start_time": "2024-07-31T13:44:09.713Z"
   },
   {
    "duration": 16,
    "start_time": "2024-07-31T13:44:12.111Z"
   },
   {
    "duration": 15,
    "start_time": "2024-07-31T13:44:14.471Z"
   },
   {
    "duration": 16,
    "start_time": "2024-07-31T13:44:16.424Z"
   },
   {
    "duration": 28,
    "start_time": "2024-07-31T13:44:21.169Z"
   },
   {
    "duration": 14,
    "start_time": "2024-07-31T13:44:31.956Z"
   },
   {
    "duration": 4,
    "start_time": "2024-07-31T13:44:44.668Z"
   },
   {
    "duration": 16,
    "start_time": "2024-07-31T13:44:49.467Z"
   },
   {
    "duration": 14,
    "start_time": "2024-07-31T13:44:52.816Z"
   },
   {
    "duration": 22,
    "start_time": "2024-07-31T13:44:57.951Z"
   },
   {
    "duration": 28,
    "start_time": "2024-07-31T13:45:00.115Z"
   },
   {
    "duration": 34,
    "start_time": "2024-07-31T13:45:39.218Z"
   },
   {
    "duration": 74,
    "start_time": "2024-07-31T13:46:44.481Z"
   },
   {
    "duration": 30,
    "start_time": "2024-07-31T13:46:49.875Z"
   },
   {
    "duration": 38,
    "start_time": "2024-07-31T13:46:59.116Z"
   },
   {
    "duration": 35,
    "start_time": "2024-07-31T13:48:09.536Z"
   },
   {
    "duration": 37,
    "start_time": "2024-07-31T13:49:23.910Z"
   },
   {
    "duration": 3,
    "start_time": "2024-07-31T13:51:43.700Z"
   },
   {
    "duration": 34,
    "start_time": "2024-07-31T13:51:59.987Z"
   },
   {
    "duration": 2000,
    "start_time": "2024-07-31T13:52:10.978Z"
   },
   {
    "duration": 5222,
    "start_time": "2024-07-31T13:52:32.701Z"
   },
   {
    "duration": 1976,
    "start_time": "2024-07-31T13:52:53.819Z"
   },
   {
    "duration": 30,
    "start_time": "2024-07-31T13:52:58.769Z"
   },
   {
    "duration": 6,
    "start_time": "2024-07-31T13:53:59.179Z"
   },
   {
    "duration": 4,
    "start_time": "2024-07-31T13:53:59.601Z"
   },
   {
    "duration": 3,
    "start_time": "2024-07-31T13:54:00.193Z"
   },
   {
    "duration": 18,
    "start_time": "2024-07-31T13:54:02.752Z"
   },
   {
    "duration": 80,
    "start_time": "2024-07-31T13:56:38.764Z"
   },
   {
    "duration": 18,
    "start_time": "2024-07-31T13:57:07.205Z"
   },
   {
    "duration": 16,
    "start_time": "2024-07-31T13:57:34.346Z"
   },
   {
    "duration": 7,
    "start_time": "2024-07-31T13:58:13.542Z"
   },
   {
    "duration": 16,
    "start_time": "2024-07-31T13:59:14.498Z"
   },
   {
    "duration": 19,
    "start_time": "2024-07-31T14:00:05.548Z"
   },
   {
    "duration": 20,
    "start_time": "2024-07-31T14:00:54.992Z"
   },
   {
    "duration": 81,
    "start_time": "2024-07-31T14:01:52.003Z"
   },
   {
    "duration": 18,
    "start_time": "2024-07-31T14:02:10.956Z"
   },
   {
    "duration": 17,
    "start_time": "2024-07-31T14:02:31.666Z"
   },
   {
    "duration": 77,
    "start_time": "2024-07-31T14:04:46.067Z"
   },
   {
    "duration": 18,
    "start_time": "2024-07-31T14:05:10.032Z"
   },
   {
    "duration": 6584,
    "start_time": "2024-07-31T14:05:32.682Z"
   },
   {
    "duration": 3529,
    "start_time": "2024-07-31T14:05:51.304Z"
   },
   {
    "duration": 14660,
    "start_time": "2024-07-31T14:05:56.718Z"
   },
   {
    "duration": 14741,
    "start_time": "2024-07-31T14:07:00.161Z"
   },
   {
    "duration": 71,
    "start_time": "2024-07-31T14:10:44.075Z"
   },
   {
    "duration": 569,
    "start_time": "2024-07-31T14:10:59.930Z"
   },
   {
    "duration": 479,
    "start_time": "2024-07-31T14:11:24.849Z"
   },
   {
    "duration": 733,
    "start_time": "2024-07-31T14:11:28.266Z"
   },
   {
    "duration": 1782,
    "start_time": "2024-07-31T14:11:52.806Z"
   },
   {
    "duration": 1812,
    "start_time": "2024-07-31T14:13:27.829Z"
   },
   {
    "duration": 5,
    "start_time": "2024-07-31T14:17:11.337Z"
   },
   {
    "duration": 2041,
    "start_time": "2024-07-31T14:17:13.872Z"
   },
   {
    "duration": 2072,
    "start_time": "2024-07-31T14:18:03.058Z"
   },
   {
    "duration": 76,
    "start_time": "2024-07-31T14:19:29.650Z"
   },
   {
    "duration": 1993,
    "start_time": "2024-07-31T14:19:38.639Z"
   },
   {
    "duration": 2007,
    "start_time": "2024-07-31T14:19:41.221Z"
   },
   {
    "duration": 2034,
    "start_time": "2024-07-31T14:20:36.151Z"
   },
   {
    "duration": 2058,
    "start_time": "2024-07-31T14:22:17.281Z"
   },
   {
    "duration": 3,
    "start_time": "2024-07-31T14:24:37.123Z"
   },
   {
    "duration": 8,
    "start_time": "2024-07-31T14:24:50.699Z"
   },
   {
    "duration": 3,
    "start_time": "2024-07-31T14:25:10.826Z"
   },
   {
    "duration": 6,
    "start_time": "2024-07-31T14:25:14.684Z"
   },
   {
    "duration": 2,
    "start_time": "2024-07-31T14:25:35.777Z"
   },
   {
    "duration": 2,
    "start_time": "2024-07-31T14:25:41.604Z"
   },
   {
    "duration": 16,
    "start_time": "2024-07-31T14:28:14.209Z"
   },
   {
    "duration": 2,
    "start_time": "2024-07-31T14:28:30.314Z"
   },
   {
    "duration": 25,
    "start_time": "2024-07-31T14:29:33.590Z"
   },
   {
    "duration": 33,
    "start_time": "2024-07-31T14:29:40.736Z"
   },
   {
    "duration": 2,
    "start_time": "2024-07-31T14:29:51.967Z"
   },
   {
    "duration": 34,
    "start_time": "2024-07-31T14:29:53.695Z"
   },
   {
    "duration": 32,
    "start_time": "2024-07-31T14:47:34.093Z"
   },
   {
    "duration": 33,
    "start_time": "2024-07-31T14:47:56.422Z"
   },
   {
    "duration": 9,
    "start_time": "2024-07-31T14:48:11.452Z"
   },
   {
    "duration": 107,
    "start_time": "2024-07-31T14:48:17.284Z"
   },
   {
    "duration": 2,
    "start_time": "2024-07-31T14:49:06.527Z"
   },
   {
    "duration": 33,
    "start_time": "2024-07-31T14:49:56.327Z"
   },
   {
    "duration": 1667,
    "start_time": "2024-07-31T14:50:11.939Z"
   },
   {
    "duration": 1925,
    "start_time": "2024-07-31T14:50:14.619Z"
   },
   {
    "duration": 1788,
    "start_time": "2024-07-31T14:50:18.889Z"
   },
   {
    "duration": 1931,
    "start_time": "2024-07-31T14:50:21.431Z"
   },
   {
    "duration": 2,
    "start_time": "2024-07-31T14:50:32.291Z"
   },
   {
    "duration": 36,
    "start_time": "2024-07-31T14:50:32.973Z"
   },
   {
    "duration": 7,
    "start_time": "2024-07-31T14:51:38.533Z"
   },
   {
    "duration": 7,
    "start_time": "2024-07-31T14:51:50.716Z"
   },
   {
    "duration": 14,
    "start_time": "2024-07-31T14:52:04.213Z"
   },
   {
    "duration": 15,
    "start_time": "2024-07-31T14:55:35.839Z"
   },
   {
    "duration": 15,
    "start_time": "2024-07-31T14:56:06.287Z"
   },
   {
    "duration": 15,
    "start_time": "2024-07-31T14:56:09.921Z"
   },
   {
    "duration": 5,
    "start_time": "2024-07-31T14:56:41.513Z"
   },
   {
    "duration": 32,
    "start_time": "2024-07-31T14:57:09.603Z"
   },
   {
    "duration": 8,
    "start_time": "2024-07-31T14:57:15.317Z"
   },
   {
    "duration": 7,
    "start_time": "2024-07-31T14:57:40.348Z"
   },
   {
    "duration": 6,
    "start_time": "2024-07-31T14:58:21.751Z"
   },
   {
    "duration": 8,
    "start_time": "2024-07-31T15:00:18.122Z"
   },
   {
    "duration": 6,
    "start_time": "2024-07-31T15:00:24.334Z"
   },
   {
    "duration": 4,
    "start_time": "2024-07-31T15:03:32.345Z"
   },
   {
    "duration": 22,
    "start_time": "2024-07-31T15:04:03.664Z"
   },
   {
    "duration": 22,
    "start_time": "2024-07-31T15:04:57.523Z"
   },
   {
    "duration": 15,
    "start_time": "2024-07-31T15:05:33.766Z"
   },
   {
    "duration": 14,
    "start_time": "2024-07-31T15:05:35.917Z"
   },
   {
    "duration": 15,
    "start_time": "2024-07-31T15:05:40.291Z"
   },
   {
    "duration": 16,
    "start_time": "2024-07-31T15:05:51.227Z"
   },
   {
    "duration": 15,
    "start_time": "2024-07-31T15:07:53.625Z"
   },
   {
    "duration": 16,
    "start_time": "2024-07-31T15:07:55.966Z"
   },
   {
    "duration": 478,
    "start_time": "2024-07-31T15:10:04.890Z"
   },
   {
    "duration": 23,
    "start_time": "2024-07-31T15:10:05.370Z"
   },
   {
    "duration": 19,
    "start_time": "2024-07-31T15:10:05.395Z"
   },
   {
    "duration": 10,
    "start_time": "2024-07-31T15:10:05.415Z"
   },
   {
    "duration": 34,
    "start_time": "2024-07-31T15:10:05.427Z"
   },
   {
    "duration": 4,
    "start_time": "2024-07-31T15:10:05.462Z"
   },
   {
    "duration": 33,
    "start_time": "2024-07-31T15:10:05.467Z"
   },
   {
    "duration": 68,
    "start_time": "2024-07-31T15:10:05.501Z"
   },
   {
    "duration": 7,
    "start_time": "2024-07-31T15:10:05.571Z"
   },
   {
    "duration": 17,
    "start_time": "2024-07-31T15:10:05.579Z"
   },
   {
    "duration": 59,
    "start_time": "2024-07-31T15:10:05.597Z"
   },
   {
    "duration": 11,
    "start_time": "2024-07-31T15:10:05.658Z"
   },
   {
    "duration": 10,
    "start_time": "2024-07-31T15:10:05.671Z"
   },
   {
    "duration": 24,
    "start_time": "2024-07-31T15:10:05.684Z"
   },
   {
    "duration": 30,
    "start_time": "2024-07-31T15:10:05.709Z"
   },
   {
    "duration": 18,
    "start_time": "2024-07-31T15:10:05.740Z"
   },
   {
    "duration": 3,
    "start_time": "2024-07-31T15:10:05.759Z"
   },
   {
    "duration": 25,
    "start_time": "2024-07-31T15:10:05.764Z"
   },
   {
    "duration": 6,
    "start_time": "2024-07-31T15:10:05.790Z"
   },
   {
    "duration": 3,
    "start_time": "2024-07-31T15:10:05.798Z"
   },
   {
    "duration": 15,
    "start_time": "2024-07-31T15:10:05.803Z"
   },
   {
    "duration": 3,
    "start_time": "2024-07-31T15:10:05.820Z"
   },
   {
    "duration": 18,
    "start_time": "2024-07-31T15:10:05.825Z"
   },
   {
    "duration": 4,
    "start_time": "2024-07-31T15:10:05.845Z"
   },
   {
    "duration": 44,
    "start_time": "2024-07-31T15:10:05.851Z"
   },
   {
    "duration": 6,
    "start_time": "2024-07-31T15:10:05.897Z"
   },
   {
    "duration": 7,
    "start_time": "2024-07-31T15:10:05.905Z"
   },
   {
    "duration": 4,
    "start_time": "2024-07-31T15:10:05.914Z"
   },
   {
    "duration": 9,
    "start_time": "2024-07-31T15:10:05.920Z"
   },
   {
    "duration": 5,
    "start_time": "2024-07-31T15:10:05.930Z"
   },
   {
    "duration": 7,
    "start_time": "2024-07-31T15:10:05.936Z"
   },
   {
    "duration": 2141,
    "start_time": "2024-07-31T15:10:05.944Z"
   },
   {
    "duration": 2,
    "start_time": "2024-07-31T15:10:08.091Z"
   },
   {
    "duration": 21,
    "start_time": "2024-07-31T15:10:08.095Z"
   },
   {
    "duration": 91,
    "start_time": "2024-07-31T15:10:08.117Z"
   },
   {
    "duration": 50,
    "start_time": "2024-07-31T15:10:08.209Z"
   },
   {
    "duration": 14,
    "start_time": "2024-07-31T15:10:08.261Z"
   },
   {
    "duration": 2,
    "start_time": "2024-07-31T15:10:08.277Z"
   },
   {
    "duration": 40,
    "start_time": "2024-07-31T15:10:08.281Z"
   },
   {
    "duration": 15,
    "start_time": "2024-07-31T15:10:08.323Z"
   },
   {
    "duration": 138,
    "start_time": "2024-07-31T15:10:08.343Z"
   },
   {
    "duration": 6,
    "start_time": "2024-07-31T15:10:08.483Z"
   },
   {
    "duration": 18,
    "start_time": "2024-07-31T15:10:08.491Z"
   },
   {
    "duration": 52,
    "start_time": "2024-07-31T15:10:08.511Z"
   },
   {
    "duration": 37,
    "start_time": "2024-07-31T15:10:08.564Z"
   },
   {
    "duration": 18,
    "start_time": "2024-07-31T15:10:08.602Z"
   },
   {
    "duration": 72,
    "start_time": "2024-07-31T15:18:22.027Z"
   },
   {
    "duration": 79,
    "start_time": "2024-07-31T15:18:35.016Z"
   },
   {
    "duration": 98,
    "start_time": "2024-07-31T15:18:51.763Z"
   },
   {
    "duration": 41,
    "start_time": "2024-07-31T15:19:04.822Z"
   },
   {
    "duration": 55,
    "start_time": "2024-07-31T15:19:38.739Z"
   },
   {
    "duration": 442,
    "start_time": "2024-07-31T15:21:18.538Z"
   },
   {
    "duration": 21,
    "start_time": "2024-07-31T15:21:18.982Z"
   },
   {
    "duration": 36,
    "start_time": "2024-07-31T15:21:19.004Z"
   },
   {
    "duration": 14,
    "start_time": "2024-07-31T15:21:19.042Z"
   },
   {
    "duration": 37,
    "start_time": "2024-07-31T15:21:19.058Z"
   },
   {
    "duration": 3,
    "start_time": "2024-07-31T15:21:19.097Z"
   },
   {
    "duration": 46,
    "start_time": "2024-07-31T15:21:19.101Z"
   },
   {
    "duration": 20,
    "start_time": "2024-07-31T15:21:19.149Z"
   },
   {
    "duration": 16,
    "start_time": "2024-07-31T15:21:19.171Z"
   },
   {
    "duration": 7,
    "start_time": "2024-07-31T15:21:19.189Z"
   },
   {
    "duration": 53,
    "start_time": "2024-07-31T15:21:19.199Z"
   },
   {
    "duration": 11,
    "start_time": "2024-07-31T15:21:19.254Z"
   },
   {
    "duration": 4,
    "start_time": "2024-07-31T15:21:19.285Z"
   },
   {
    "duration": 30,
    "start_time": "2024-07-31T15:21:19.293Z"
   },
   {
    "duration": 29,
    "start_time": "2024-07-31T15:21:19.324Z"
   },
   {
    "duration": 40,
    "start_time": "2024-07-31T15:21:19.355Z"
   },
   {
    "duration": 5,
    "start_time": "2024-07-31T15:21:19.397Z"
   },
   {
    "duration": 20,
    "start_time": "2024-07-31T15:21:19.403Z"
   },
   {
    "duration": 30,
    "start_time": "2024-07-31T15:21:19.425Z"
   },
   {
    "duration": 5,
    "start_time": "2024-07-31T15:21:19.456Z"
   },
   {
    "duration": 13,
    "start_time": "2024-07-31T15:21:19.462Z"
   },
   {
    "duration": 4,
    "start_time": "2024-07-31T15:21:19.476Z"
   },
   {
    "duration": 16,
    "start_time": "2024-07-31T15:21:19.482Z"
   },
   {
    "duration": 4,
    "start_time": "2024-07-31T15:21:19.499Z"
   },
   {
    "duration": 16,
    "start_time": "2024-07-31T15:21:19.504Z"
   },
   {
    "duration": 72,
    "start_time": "2024-07-31T15:21:19.521Z"
   },
   {
    "duration": 5,
    "start_time": "2024-07-31T15:21:19.595Z"
   },
   {
    "duration": 7,
    "start_time": "2024-07-31T15:21:19.602Z"
   },
   {
    "duration": 17,
    "start_time": "2024-07-31T15:21:19.611Z"
   },
   {
    "duration": 18,
    "start_time": "2024-07-31T15:21:19.629Z"
   },
   {
    "duration": 13,
    "start_time": "2024-07-31T15:21:19.648Z"
   },
   {
    "duration": 2066,
    "start_time": "2024-07-31T15:21:19.663Z"
   },
   {
    "duration": 2,
    "start_time": "2024-07-31T15:21:21.732Z"
   },
   {
    "duration": 173,
    "start_time": "2024-07-31T15:21:21.736Z"
   },
   {
    "duration": 2,
    "start_time": "2024-07-31T15:21:21.911Z"
   },
   {
    "duration": 26,
    "start_time": "2024-07-31T15:21:21.914Z"
   },
   {
    "duration": 40,
    "start_time": "2024-07-31T15:21:21.941Z"
   },
   {
    "duration": 2,
    "start_time": "2024-07-31T15:21:21.983Z"
   },
   {
    "duration": 34,
    "start_time": "2024-07-31T15:21:21.986Z"
   },
   {
    "duration": 13,
    "start_time": "2024-07-31T15:21:22.022Z"
   },
   {
    "duration": 19,
    "start_time": "2024-07-31T15:21:22.039Z"
   },
   {
    "duration": 39,
    "start_time": "2024-07-31T15:21:22.060Z"
   },
   {
    "duration": 18,
    "start_time": "2024-07-31T15:21:22.101Z"
   },
   {
    "duration": 43,
    "start_time": "2024-07-31T15:21:22.121Z"
   },
   {
    "duration": 14,
    "start_time": "2024-07-31T15:21:22.165Z"
   },
   {
    "duration": 15,
    "start_time": "2024-07-31T15:21:22.180Z"
   },
   {
    "duration": 2,
    "start_time": "2024-07-31T15:27:29.812Z"
   },
   {
    "duration": 447,
    "start_time": "2024-07-31T15:27:50.829Z"
   },
   {
    "duration": 23,
    "start_time": "2024-07-31T15:27:51.278Z"
   },
   {
    "duration": 19,
    "start_time": "2024-07-31T15:27:51.303Z"
   },
   {
    "duration": 10,
    "start_time": "2024-07-31T15:27:51.324Z"
   },
   {
    "duration": 57,
    "start_time": "2024-07-31T15:27:51.336Z"
   },
   {
    "duration": 3,
    "start_time": "2024-07-31T15:27:51.395Z"
   },
   {
    "duration": 13,
    "start_time": "2024-07-31T15:27:51.399Z"
   },
   {
    "duration": 4,
    "start_time": "2024-07-31T15:27:51.413Z"
   },
   {
    "duration": 16,
    "start_time": "2024-07-31T15:27:51.418Z"
   },
   {
    "duration": 6,
    "start_time": "2024-07-31T15:27:51.435Z"
   },
   {
    "duration": 57,
    "start_time": "2024-07-31T15:27:51.442Z"
   },
   {
    "duration": 10,
    "start_time": "2024-07-31T15:27:51.500Z"
   },
   {
    "duration": 48,
    "start_time": "2024-07-31T15:27:51.512Z"
   },
   {
    "duration": 70,
    "start_time": "2024-07-31T15:27:51.563Z"
   },
   {
    "duration": 22,
    "start_time": "2024-07-31T15:27:51.634Z"
   },
   {
    "duration": 19,
    "start_time": "2024-07-31T15:27:51.657Z"
   },
   {
    "duration": 3,
    "start_time": "2024-07-31T15:27:51.678Z"
   },
   {
    "duration": 39,
    "start_time": "2024-07-31T15:27:51.682Z"
   },
   {
    "duration": 15,
    "start_time": "2024-07-31T15:27:51.723Z"
   },
   {
    "duration": 5,
    "start_time": "2024-07-31T15:27:51.739Z"
   },
   {
    "duration": 12,
    "start_time": "2024-07-31T15:27:51.745Z"
   },
   {
    "duration": 18,
    "start_time": "2024-07-31T15:27:51.759Z"
   },
   {
    "duration": 33,
    "start_time": "2024-07-31T15:27:51.778Z"
   },
   {
    "duration": 20,
    "start_time": "2024-07-31T15:27:51.812Z"
   },
   {
    "duration": 13,
    "start_time": "2024-07-31T15:27:51.834Z"
   },
   {
    "duration": 4,
    "start_time": "2024-07-31T15:27:51.849Z"
   },
   {
    "duration": 6,
    "start_time": "2024-07-31T15:27:51.855Z"
   },
   {
    "duration": 5,
    "start_time": "2024-07-31T15:27:51.863Z"
   },
   {
    "duration": 4,
    "start_time": "2024-07-31T15:27:51.869Z"
   },
   {
    "duration": 2109,
    "start_time": "2024-07-31T15:27:51.875Z"
   },
   {
    "duration": 3,
    "start_time": "2024-07-31T15:27:53.985Z"
   },
   {
    "duration": 27,
    "start_time": "2024-07-31T15:27:53.989Z"
   },
   {
    "duration": 2,
    "start_time": "2024-07-31T15:27:54.018Z"
   },
   {
    "duration": 30,
    "start_time": "2024-07-31T15:27:54.022Z"
   },
   {
    "duration": 15,
    "start_time": "2024-07-31T15:27:54.053Z"
   },
   {
    "duration": 3,
    "start_time": "2024-07-31T15:27:54.069Z"
   },
   {
    "duration": 45,
    "start_time": "2024-07-31T15:27:54.084Z"
   },
   {
    "duration": 3,
    "start_time": "2024-07-31T15:27:54.130Z"
   },
   {
    "duration": 7,
    "start_time": "2024-07-31T15:27:54.134Z"
   },
   {
    "duration": 16,
    "start_time": "2024-07-31T15:27:54.142Z"
   },
   {
    "duration": 28,
    "start_time": "2024-07-31T15:27:54.162Z"
   },
   {
    "duration": 4,
    "start_time": "2024-07-31T15:27:54.192Z"
   },
   {
    "duration": 52,
    "start_time": "2024-07-31T15:27:54.198Z"
   },
   {
    "duration": 33,
    "start_time": "2024-07-31T15:27:54.252Z"
   },
   {
    "duration": 34,
    "start_time": "2024-07-31T15:27:54.287Z"
   },
   {
    "duration": 31,
    "start_time": "2024-07-31T15:27:54.322Z"
   },
   {
    "duration": 3,
    "start_time": "2024-07-31T15:36:32.938Z"
   },
   {
    "duration": 437,
    "start_time": "2024-07-31T15:53:37.436Z"
   },
   {
    "duration": 21,
    "start_time": "2024-07-31T15:53:37.875Z"
   },
   {
    "duration": 23,
    "start_time": "2024-07-31T15:53:37.897Z"
   },
   {
    "duration": 17,
    "start_time": "2024-07-31T15:53:37.923Z"
   },
   {
    "duration": 42,
    "start_time": "2024-07-31T15:53:37.942Z"
   },
   {
    "duration": 3,
    "start_time": "2024-07-31T15:53:37.986Z"
   },
   {
    "duration": 44,
    "start_time": "2024-07-31T15:53:37.991Z"
   },
   {
    "duration": 5,
    "start_time": "2024-07-31T15:53:38.037Z"
   },
   {
    "duration": 12,
    "start_time": "2024-07-31T15:53:38.043Z"
   },
   {
    "duration": 4,
    "start_time": "2024-07-31T15:53:38.059Z"
   },
   {
    "duration": 36,
    "start_time": "2024-07-31T15:53:38.065Z"
   },
   {
    "duration": 10,
    "start_time": "2024-07-31T15:53:38.103Z"
   },
   {
    "duration": 5,
    "start_time": "2024-07-31T15:53:38.115Z"
   },
   {
    "duration": 22,
    "start_time": "2024-07-31T15:53:38.121Z"
   },
   {
    "duration": 21,
    "start_time": "2024-07-31T15:53:38.144Z"
   },
   {
    "duration": 16,
    "start_time": "2024-07-31T15:53:38.183Z"
   },
   {
    "duration": 3,
    "start_time": "2024-07-31T15:53:38.201Z"
   },
   {
    "duration": 11,
    "start_time": "2024-07-31T15:53:38.206Z"
   },
   {
    "duration": 5,
    "start_time": "2024-07-31T15:53:38.219Z"
   },
   {
    "duration": 7,
    "start_time": "2024-07-31T15:53:38.225Z"
   },
   {
    "duration": 13,
    "start_time": "2024-07-31T15:53:38.233Z"
   },
   {
    "duration": 3,
    "start_time": "2024-07-31T15:53:38.248Z"
   },
   {
    "duration": 37,
    "start_time": "2024-07-31T15:53:38.252Z"
   },
   {
    "duration": 3,
    "start_time": "2024-07-31T15:53:38.291Z"
   },
   {
    "duration": 74,
    "start_time": "2024-07-31T15:53:38.295Z"
   },
   {
    "duration": 8,
    "start_time": "2024-07-31T15:53:38.372Z"
   },
   {
    "duration": 7,
    "start_time": "2024-07-31T15:53:38.383Z"
   },
   {
    "duration": 8,
    "start_time": "2024-07-31T15:53:38.395Z"
   },
   {
    "duration": 24,
    "start_time": "2024-07-31T15:53:38.405Z"
   },
   {
    "duration": 9,
    "start_time": "2024-07-31T15:53:38.431Z"
   },
   {
    "duration": 3,
    "start_time": "2024-07-31T15:53:38.442Z"
   },
   {
    "duration": 24,
    "start_time": "2024-07-31T15:53:38.447Z"
   },
   {
    "duration": 2,
    "start_time": "2024-07-31T15:53:38.472Z"
   },
   {
    "duration": 24,
    "start_time": "2024-07-31T15:53:38.476Z"
   },
   {
    "duration": 15,
    "start_time": "2024-07-31T15:53:38.502Z"
   },
   {
    "duration": 49,
    "start_time": "2024-07-31T15:53:38.519Z"
   },
   {
    "duration": 75,
    "start_time": "2024-07-31T15:53:38.569Z"
   },
   {
    "duration": 2,
    "start_time": "2024-07-31T15:53:38.646Z"
   },
   {
    "duration": 67,
    "start_time": "2024-07-31T15:53:38.650Z"
   },
   {
    "duration": 20,
    "start_time": "2024-07-31T15:53:38.718Z"
   },
   {
    "duration": 14,
    "start_time": "2024-07-31T15:53:38.740Z"
   },
   {
    "duration": 4,
    "start_time": "2024-07-31T15:53:38.755Z"
   },
   {
    "duration": 5,
    "start_time": "2024-07-31T15:53:38.761Z"
   },
   {
    "duration": 15,
    "start_time": "2024-07-31T15:53:38.767Z"
   },
   {
    "duration": 13,
    "start_time": "2024-07-31T15:53:38.783Z"
   },
   {
    "duration": 15,
    "start_time": "2024-07-31T15:53:38.798Z"
   },
   {
    "duration": 442,
    "start_time": "2024-07-31T16:01:09.720Z"
   },
   {
    "duration": 21,
    "start_time": "2024-07-31T16:01:10.164Z"
   },
   {
    "duration": 15,
    "start_time": "2024-07-31T16:01:10.186Z"
   },
   {
    "duration": 10,
    "start_time": "2024-07-31T16:01:10.203Z"
   },
   {
    "duration": 35,
    "start_time": "2024-07-31T16:01:10.215Z"
   },
   {
    "duration": 2,
    "start_time": "2024-07-31T16:01:10.252Z"
   },
   {
    "duration": 33,
    "start_time": "2024-07-31T16:01:10.256Z"
   },
   {
    "duration": 4,
    "start_time": "2024-07-31T16:01:10.291Z"
   },
   {
    "duration": 10,
    "start_time": "2024-07-31T16:01:10.297Z"
   },
   {
    "duration": 5,
    "start_time": "2024-07-31T16:01:10.309Z"
   },
   {
    "duration": 34,
    "start_time": "2024-07-31T16:01:10.316Z"
   },
   {
    "duration": 52,
    "start_time": "2024-07-31T16:01:10.352Z"
   },
   {
    "duration": 49,
    "start_time": "2024-07-31T16:01:10.406Z"
   },
   {
    "duration": 25,
    "start_time": "2024-07-31T16:01:10.458Z"
   },
   {
    "duration": 22,
    "start_time": "2024-07-31T16:01:10.484Z"
   },
   {
    "duration": 17,
    "start_time": "2024-07-31T16:01:10.507Z"
   },
   {
    "duration": 5,
    "start_time": "2024-07-31T16:01:10.525Z"
   },
   {
    "duration": 14,
    "start_time": "2024-07-31T16:01:10.531Z"
   },
   {
    "duration": 6,
    "start_time": "2024-07-31T16:01:10.546Z"
   },
   {
    "duration": 30,
    "start_time": "2024-07-31T16:01:10.554Z"
   },
   {
    "duration": 25,
    "start_time": "2024-07-31T16:01:10.586Z"
   },
   {
    "duration": 6,
    "start_time": "2024-07-31T16:01:10.612Z"
   },
   {
    "duration": 21,
    "start_time": "2024-07-31T16:01:10.620Z"
   },
   {
    "duration": 4,
    "start_time": "2024-07-31T16:01:10.642Z"
   },
   {
    "duration": 10,
    "start_time": "2024-07-31T16:01:10.647Z"
   },
   {
    "duration": 6,
    "start_time": "2024-07-31T16:01:10.659Z"
   },
   {
    "duration": 73,
    "start_time": "2024-07-31T16:01:10.666Z"
   },
   {
    "duration": 8,
    "start_time": "2024-07-31T16:01:10.741Z"
   },
   {
    "duration": 4,
    "start_time": "2024-07-31T16:01:10.751Z"
   },
   {
    "duration": 3,
    "start_time": "2024-07-31T16:01:10.757Z"
   },
   {
    "duration": 6,
    "start_time": "2024-07-31T16:01:10.761Z"
   },
   {
    "duration": 25,
    "start_time": "2024-07-31T16:01:10.768Z"
   },
   {
    "duration": 3,
    "start_time": "2024-07-31T16:01:10.794Z"
   },
   {
    "duration": 32,
    "start_time": "2024-07-31T16:01:10.798Z"
   },
   {
    "duration": 14,
    "start_time": "2024-07-31T16:01:10.832Z"
   },
   {
    "duration": 4,
    "start_time": "2024-07-31T16:01:10.847Z"
   },
   {
    "duration": 52,
    "start_time": "2024-07-31T16:01:10.852Z"
   },
   {
    "duration": 4,
    "start_time": "2024-07-31T16:01:10.906Z"
   },
   {
    "duration": 2,
    "start_time": "2024-07-31T16:01:10.912Z"
   },
   {
    "duration": 19,
    "start_time": "2024-07-31T16:01:10.915Z"
   },
   {
    "duration": 16,
    "start_time": "2024-07-31T16:01:10.938Z"
   },
   {
    "duration": 30,
    "start_time": "2024-07-31T16:01:10.955Z"
   },
   {
    "duration": 23,
    "start_time": "2024-07-31T16:01:10.987Z"
   },
   {
    "duration": 25,
    "start_time": "2024-07-31T16:01:11.011Z"
   },
   {
    "duration": 16,
    "start_time": "2024-07-31T16:01:11.038Z"
   },
   {
    "duration": 14,
    "start_time": "2024-07-31T16:01:11.055Z"
   },
   {
    "duration": 317,
    "start_time": "2024-07-31T16:03:45.774Z"
   },
   {
    "duration": 515,
    "start_time": "2024-07-31T16:04:11.112Z"
   },
   {
    "duration": 494,
    "start_time": "2024-07-31T16:04:16.501Z"
   },
   {
    "duration": 480,
    "start_time": "2024-07-31T16:04:25.714Z"
   },
   {
    "duration": 492,
    "start_time": "2024-07-31T16:04:31.311Z"
   },
   {
    "duration": 501,
    "start_time": "2024-07-31T16:04:40.594Z"
   },
   {
    "duration": 504,
    "start_time": "2024-07-31T16:04:41.893Z"
   },
   {
    "duration": 533,
    "start_time": "2024-07-31T16:04:43.059Z"
   },
   {
    "duration": 479,
    "start_time": "2024-07-31T16:04:44.367Z"
   },
   {
    "duration": 528,
    "start_time": "2024-07-31T16:04:45.760Z"
   },
   {
    "duration": 146,
    "start_time": "2024-07-31T16:05:29.825Z"
   },
   {
    "duration": 4041,
    "start_time": "2024-07-31T16:05:48.906Z"
   },
   {
    "duration": 3951,
    "start_time": "2024-07-31T16:05:54.240Z"
   },
   {
    "duration": 5845,
    "start_time": "2024-07-31T16:06:02.810Z"
   },
   {
    "duration": 6824,
    "start_time": "2024-07-31T16:06:54.812Z"
   },
   {
    "duration": 3737,
    "start_time": "2024-07-31T16:07:13.022Z"
   },
   {
    "duration": 15306,
    "start_time": "2024-07-31T16:07:28.156Z"
   },
   {
    "duration": 2,
    "start_time": "2024-07-31T16:07:49.535Z"
   },
   {
    "duration": 491,
    "start_time": "2024-07-31T16:08:38.436Z"
   },
   {
    "duration": 23,
    "start_time": "2024-07-31T16:08:38.929Z"
   },
   {
    "duration": 15,
    "start_time": "2024-07-31T16:08:38.954Z"
   },
   {
    "duration": 22,
    "start_time": "2024-07-31T16:08:38.971Z"
   },
   {
    "duration": 38,
    "start_time": "2024-07-31T16:08:38.996Z"
   },
   {
    "duration": 3,
    "start_time": "2024-07-31T16:08:39.035Z"
   },
   {
    "duration": 9,
    "start_time": "2024-07-31T16:08:39.040Z"
   },
   {
    "duration": 33,
    "start_time": "2024-07-31T16:08:39.051Z"
   },
   {
    "duration": 9,
    "start_time": "2024-07-31T16:08:39.086Z"
   },
   {
    "duration": 21,
    "start_time": "2024-07-31T16:08:39.096Z"
   },
   {
    "duration": 74,
    "start_time": "2024-07-31T16:08:39.119Z"
   },
   {
    "duration": 18,
    "start_time": "2024-07-31T16:08:39.196Z"
   },
   {
    "duration": 4,
    "start_time": "2024-07-31T16:08:39.216Z"
   },
   {
    "duration": 42,
    "start_time": "2024-07-31T16:08:39.224Z"
   },
   {
    "duration": 27,
    "start_time": "2024-07-31T16:08:39.285Z"
   },
   {
    "duration": 27,
    "start_time": "2024-07-31T16:08:39.314Z"
   },
   {
    "duration": 6,
    "start_time": "2024-07-31T16:08:39.343Z"
   },
   {
    "duration": 42,
    "start_time": "2024-07-31T16:08:39.351Z"
   },
   {
    "duration": 9,
    "start_time": "2024-07-31T16:08:39.395Z"
   },
   {
    "duration": 7,
    "start_time": "2024-07-31T16:08:39.405Z"
   },
   {
    "duration": 15,
    "start_time": "2024-07-31T16:08:39.414Z"
   },
   {
    "duration": 4,
    "start_time": "2024-07-31T16:08:39.430Z"
   },
   {
    "duration": 41,
    "start_time": "2024-07-31T16:08:39.436Z"
   },
   {
    "duration": 8,
    "start_time": "2024-07-31T16:08:39.479Z"
   },
   {
    "duration": 11,
    "start_time": "2024-07-31T16:08:39.488Z"
   },
   {
    "duration": 5,
    "start_time": "2024-07-31T16:08:39.501Z"
   },
   {
    "duration": 6,
    "start_time": "2024-07-31T16:08:39.508Z"
   },
   {
    "duration": 4,
    "start_time": "2024-07-31T16:08:39.516Z"
   },
   {
    "duration": 16,
    "start_time": "2024-07-31T16:08:39.522Z"
   },
   {
    "duration": 17,
    "start_time": "2024-07-31T16:08:39.540Z"
   },
   {
    "duration": 4,
    "start_time": "2024-07-31T16:08:39.559Z"
   },
   {
    "duration": 41,
    "start_time": "2024-07-31T16:08:39.565Z"
   },
   {
    "duration": 2,
    "start_time": "2024-07-31T16:08:39.608Z"
   },
   {
    "duration": 25,
    "start_time": "2024-07-31T16:08:39.612Z"
   },
   {
    "duration": 20,
    "start_time": "2024-07-31T16:08:39.639Z"
   },
   {
    "duration": 2,
    "start_time": "2024-07-31T16:08:39.684Z"
   },
   {
    "duration": 102,
    "start_time": "2024-07-31T16:08:39.687Z"
   },
   {
    "duration": 3,
    "start_time": "2024-07-31T16:08:39.791Z"
   },
   {
    "duration": 6,
    "start_time": "2024-07-31T16:08:39.795Z"
   },
   {
    "duration": 29,
    "start_time": "2024-07-31T16:08:39.803Z"
   },
   {
    "duration": 15,
    "start_time": "2024-07-31T16:08:39.837Z"
   },
   {
    "duration": 5,
    "start_time": "2024-07-31T16:08:39.854Z"
   },
   {
    "duration": 25,
    "start_time": "2024-07-31T16:08:39.860Z"
   },
   {
    "duration": 33,
    "start_time": "2024-07-31T16:08:39.887Z"
   },
   {
    "duration": 17,
    "start_time": "2024-07-31T16:08:39.921Z"
   },
   {
    "duration": 16,
    "start_time": "2024-07-31T16:08:39.940Z"
   },
   {
    "duration": 9,
    "start_time": "2024-07-31T16:08:48.412Z"
   },
   {
    "duration": 2,
    "start_time": "2024-07-31T16:08:52.075Z"
   },
   {
    "duration": 469,
    "start_time": "2024-07-31T16:16:19.008Z"
   },
   {
    "duration": 22,
    "start_time": "2024-07-31T16:16:19.479Z"
   },
   {
    "duration": 43,
    "start_time": "2024-07-31T16:16:19.502Z"
   },
   {
    "duration": 10,
    "start_time": "2024-07-31T16:16:19.548Z"
   },
   {
    "duration": 37,
    "start_time": "2024-07-31T16:16:19.559Z"
   },
   {
    "duration": 3,
    "start_time": "2024-07-31T16:16:19.598Z"
   },
   {
    "duration": 24,
    "start_time": "2024-07-31T16:16:19.602Z"
   },
   {
    "duration": 4,
    "start_time": "2024-07-31T16:16:19.628Z"
   },
   {
    "duration": 63,
    "start_time": "2024-07-31T16:16:19.634Z"
   },
   {
    "duration": 76,
    "start_time": "2024-07-31T16:16:19.700Z"
   },
   {
    "duration": 39,
    "start_time": "2024-07-31T16:16:19.778Z"
   },
   {
    "duration": 10,
    "start_time": "2024-07-31T16:16:19.819Z"
   },
   {
    "duration": 8,
    "start_time": "2024-07-31T16:16:19.831Z"
   },
   {
    "duration": 33,
    "start_time": "2024-07-31T16:16:19.840Z"
   },
   {
    "duration": 21,
    "start_time": "2024-07-31T16:16:19.875Z"
   },
   {
    "duration": 17,
    "start_time": "2024-07-31T16:16:19.897Z"
   },
   {
    "duration": 22,
    "start_time": "2024-07-31T16:16:19.915Z"
   },
   {
    "duration": 12,
    "start_time": "2024-07-31T16:16:19.938Z"
   },
   {
    "duration": 21,
    "start_time": "2024-07-31T16:16:19.951Z"
   },
   {
    "duration": 4,
    "start_time": "2024-07-31T16:16:19.973Z"
   },
   {
    "duration": 19,
    "start_time": "2024-07-31T16:16:19.978Z"
   },
   {
    "duration": 26,
    "start_time": "2024-07-31T16:16:19.998Z"
   },
   {
    "duration": 31,
    "start_time": "2024-07-31T16:16:20.025Z"
   },
   {
    "duration": 11,
    "start_time": "2024-07-31T16:16:20.057Z"
   },
   {
    "duration": 24,
    "start_time": "2024-07-31T16:16:20.070Z"
   },
   {
    "duration": 6,
    "start_time": "2024-07-31T16:16:20.096Z"
   },
   {
    "duration": 21,
    "start_time": "2024-07-31T16:16:20.103Z"
   },
   {
    "duration": 7,
    "start_time": "2024-07-31T16:16:20.127Z"
   },
   {
    "duration": 8,
    "start_time": "2024-07-31T16:16:20.136Z"
   },
   {
    "duration": 9,
    "start_time": "2024-07-31T16:16:20.145Z"
   },
   {
    "duration": 13,
    "start_time": "2024-07-31T16:16:20.155Z"
   },
   {
    "duration": 19,
    "start_time": "2024-07-31T16:16:20.170Z"
   },
   {
    "duration": 2,
    "start_time": "2024-07-31T16:16:20.191Z"
   },
   {
    "duration": 17,
    "start_time": "2024-07-31T16:16:20.194Z"
   },
   {
    "duration": 13,
    "start_time": "2024-07-31T16:16:20.213Z"
   },
   {
    "duration": 6,
    "start_time": "2024-07-31T16:16:20.228Z"
   },
   {
    "duration": 63,
    "start_time": "2024-07-31T16:16:20.235Z"
   },
   {
    "duration": 13,
    "start_time": "2024-07-31T16:16:20.300Z"
   },
   {
    "duration": 13,
    "start_time": "2024-07-31T16:16:20.315Z"
   },
   {
    "duration": 20,
    "start_time": "2024-07-31T16:16:20.329Z"
   },
   {
    "duration": 20,
    "start_time": "2024-07-31T16:16:20.350Z"
   },
   {
    "duration": 15,
    "start_time": "2024-07-31T16:16:20.371Z"
   },
   {
    "duration": 13,
    "start_time": "2024-07-31T16:16:20.387Z"
   },
   {
    "duration": 72,
    "start_time": "2024-07-31T16:16:20.402Z"
   }
  ],
  "colab": {
   "name": "dpp_template_part2.ipynb",
   "provenance": []
  },
  "kernelspec": {
   "display_name": "Python 3 (ipykernel)",
   "language": "python",
   "name": "python3"
  },
  "language_info": {
   "codemirror_mode": {
    "name": "ipython",
    "version": 3
   },
   "file_extension": ".py",
   "mimetype": "text/x-python",
   "name": "python",
   "nbconvert_exporter": "python",
   "pygments_lexer": "ipython3",
   "version": "3.9.21"
  },
  "toc": {
   "base_numbering": 1,
   "nav_menu": {},
   "number_sections": true,
   "sideBar": true,
   "skip_h1_title": true,
   "title_cell": "Table of Contents",
   "title_sidebar": "Contents",
   "toc_cell": false,
   "toc_position": {},
   "toc_section_display": true,
   "toc_window_display": false
  }
 },
 "nbformat": 4,
 "nbformat_minor": 5
}
